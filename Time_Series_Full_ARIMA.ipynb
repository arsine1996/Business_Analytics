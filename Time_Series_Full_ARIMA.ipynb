{
 "cells": [
  {
   "cell_type": "markdown",
   "metadata": {},
   "source": [
    "# Assignment Rules"
   ]
  },
  {
   "cell_type": "markdown",
   "metadata": {},
   "source": [
    "You have to complete your assignment by sending to vbaghdasaryan@aua.am email address three python notebooks. \n",
    "\n",
    "You need to use markdown option of jupyter notebooks to provide the narratives of your answers to questions. There is no need to produce a separate word report. You have 3 assignments to complete, for each of them attach one jupyter notebook with the following name: Your_name_Your_surname_Problem_Number. \n",
    "\n",
    "You are allowed to consult any material you want. The only limitation is absence of any type of communication with your peers inside and outside the lab. \n",
    "\n",
    "The duration of exam is 3 hours. \n"
   ]
  },
  {
   "cell_type": "markdown",
   "metadata": {},
   "source": [
    "## Problem 1. Export Forecasting"
   ]
  },
  {
   "cell_type": "markdown",
   "metadata": {},
   "source": [
    "You are provided with data on Armenia’s export (quarterly data) up to first quarter of 2017. Also you have additional set of data on Russian GDP growth rate and price of copper and other variables.\n",
    "\n",
    "\n",
    "\n",
    "1.\tTo start with provide data description, plot the quarterly export data and provide any tendency you think is present in the data. \n",
    "\n",
    "2.\tYour next goal is to forecast Armenia’s export for the last 3 quarters of 2017. At this stage please fit a univariate model (e.g. Arima or Sarima). You need to provide justification on number of AR and MA terms you use, as well as on degree of differencing (if required). Clearly state what criteria you use to select among various models that you might end up fitting. \n",
    "\n",
    "3.\tAfter selecting the model, provide the forecast with its confidence intervals. Then open the myXLs file provided to you and compare your forecast with actual export. Comment on the accuracy of your prediction. Provide some ideas why your forecast might be wrong (factors you haven’t taken into account). \n",
    "\n",
    "4.\tNow fit a multivariate ARDL model. Consider as exogenous variables Russian GDP and price of copper (ignore all the other variables). Make sure that you have stationary data (use Augmented Dickey-Fuller test to convince the reader). Choose appropriate order of lags you are going to use in your ARDL model (I propose checking 1st and 2nd lags only for exogenous variables and taking into account seasonality of exports - 4th lag of differenced exports). Comment on the significance and economic meaning of the variables that you have used as exogenous to your exports. Compare it with your ARIMA model. Which of the 2 models is preferable.  \n",
    "\n"
   ]
  },
  {
   "cell_type": "code",
   "execution_count": 130,
   "metadata": {},
   "outputs": [],
   "source": [
    "#This is the code that will load the dataset you need. "
   ]
  },
  {
   "cell_type": "code",
   "execution_count": 131,
   "metadata": {},
   "outputs": [],
   "source": [
    "#Import basic libariaries\n",
    "%matplotlib inline\n",
    "import math\n",
    "import numpy as np\n",
    "import scipy\n",
    "from scipy.stats import binom, hypergeom\n",
    "import pandas as pd\n",
    "import matplotlib.pyplot as plt\n",
    "import seaborn as sns"
   ]
  },
  {
   "cell_type": "code",
   "execution_count": 132,
   "metadata": {},
   "outputs": [],
   "source": [
    "from pandas import Series, DataFrame\n",
    "import pandas_datareader.data as web\n",
    "import matplotlib as mpl\n",
    "from matplotlib import pyplot\n",
    "sns.set_style('whitegrid')\n",
    "\n",
    "import os\n",
    "import sys\n",
    "from scipy import stats\n",
    "import statsmodels.api as sm\n",
    "\n",
    "from statsmodels.tsa.stattools import adfuller\n",
    "from pandas.tools.plotting import autocorrelation_plot\n",
    "from statsmodels.graphics.tsaplots import plot_acf\n",
    "from statsmodels.graphics.tsaplots import plot_pacf\n",
    "from statsmodels.tsa.arima_model import ARIMA\n",
    "from pmdarima.arima import auto_arima"
   ]
  },
  {
   "cell_type": "code",
   "execution_count": 166,
   "metadata": {},
   "outputs": [],
   "source": [
    "df=pd.read_excel('Data_Time Series_v1.xls')"
   ]
  },
  {
   "cell_type": "code",
   "execution_count": 167,
   "metadata": {},
   "outputs": [],
   "source": [
    "#Please load all the other libraries as you find them necessary for your assignment!. Good luck!!!"
   ]
  },
  {
   "cell_type": "markdown",
   "metadata": {},
   "source": [
    "### Answer to question 1"
   ]
  },
  {
   "cell_type": "code",
   "execution_count": 168,
   "metadata": {},
   "outputs": [
    {
     "data": {
      "text/html": [
       "<div>\n",
       "<style scoped>\n",
       "    .dataframe tbody tr th:only-of-type {\n",
       "        vertical-align: middle;\n",
       "    }\n",
       "\n",
       "    .dataframe tbody tr th {\n",
       "        vertical-align: top;\n",
       "    }\n",
       "\n",
       "    .dataframe thead th {\n",
       "        text-align: right;\n",
       "    }\n",
       "</style>\n",
       "<table border=\"1\" class=\"dataframe\">\n",
       "  <thead>\n",
       "    <tr style=\"text-align: right;\">\n",
       "      <th></th>\n",
       "      <th>Date</th>\n",
       "      <th>Total.Export</th>\n",
       "      <th>Exchange rate RUB</th>\n",
       "      <th>Exchange rate USD</th>\n",
       "      <th>EU GDP Growth, %</th>\n",
       "      <th>Russia GDP Growth, %</th>\n",
       "      <th>Copper.Price</th>\n",
       "      <th>Gold.Price</th>\n",
       "      <th>Eurasion Union</th>\n",
       "    </tr>\n",
       "  </thead>\n",
       "  <tbody>\n",
       "    <tr>\n",
       "      <th>0</th>\n",
       "      <td>2005-01-01</td>\n",
       "      <td>188690.6</td>\n",
       "      <td>16.464335</td>\n",
       "      <td>458.13</td>\n",
       "      <td>0.300000</td>\n",
       "      <td>1.748082</td>\n",
       "      <td>3264.701587</td>\n",
       "      <td>13739.601645</td>\n",
       "      <td>0</td>\n",
       "    </tr>\n",
       "    <tr>\n",
       "      <th>1</th>\n",
       "      <td>2005-04-01</td>\n",
       "      <td>220138.5</td>\n",
       "      <td>15.427541</td>\n",
       "      <td>442.34</td>\n",
       "      <td>0.796644</td>\n",
       "      <td>1.522295</td>\n",
       "      <td>3387.145599</td>\n",
       "      <td>13740.887673</td>\n",
       "      <td>0</td>\n",
       "    </tr>\n",
       "    <tr>\n",
       "      <th>2</th>\n",
       "      <td>2005-07-01</td>\n",
       "      <td>240254.3</td>\n",
       "      <td>15.586917</td>\n",
       "      <td>444.21</td>\n",
       "      <td>0.831504</td>\n",
       "      <td>1.762205</td>\n",
       "      <td>3750.348124</td>\n",
       "      <td>14137.305804</td>\n",
       "      <td>0</td>\n",
       "    </tr>\n",
       "    <tr>\n",
       "      <th>3</th>\n",
       "      <td>2005-10-01</td>\n",
       "      <td>242958.9</td>\n",
       "      <td>15.641101</td>\n",
       "      <td>450.19</td>\n",
       "      <td>0.812943</td>\n",
       "      <td>2.062840</td>\n",
       "      <td>4303.783586</td>\n",
       "      <td>15567.368940</td>\n",
       "      <td>0</td>\n",
       "    </tr>\n",
       "    <tr>\n",
       "      <th>4</th>\n",
       "      <td>2006-01-01</td>\n",
       "      <td>167633.7</td>\n",
       "      <td>16.241995</td>\n",
       "      <td>450.92</td>\n",
       "      <td>0.848295</td>\n",
       "      <td>1.930605</td>\n",
       "      <td>4947.503606</td>\n",
       "      <td>17813.738349</td>\n",
       "      <td>0</td>\n",
       "    </tr>\n",
       "  </tbody>\n",
       "</table>\n",
       "</div>"
      ],
      "text/plain": [
       "        Date  Total.Export  Exchange rate RUB  Exchange rate USD  \\\n",
       "0 2005-01-01      188690.6          16.464335             458.13   \n",
       "1 2005-04-01      220138.5          15.427541             442.34   \n",
       "2 2005-07-01      240254.3          15.586917             444.21   \n",
       "3 2005-10-01      242958.9          15.641101             450.19   \n",
       "4 2006-01-01      167633.7          16.241995             450.92   \n",
       "\n",
       "   EU GDP Growth, %  Russia GDP Growth, %  Copper.Price    Gold.Price  \\\n",
       "0          0.300000              1.748082   3264.701587  13739.601645   \n",
       "1          0.796644              1.522295   3387.145599  13740.887673   \n",
       "2          0.831504              1.762205   3750.348124  14137.305804   \n",
       "3          0.812943              2.062840   4303.783586  15567.368940   \n",
       "4          0.848295              1.930605   4947.503606  17813.738349   \n",
       "\n",
       "   Eurasion Union  \n",
       "0               0  \n",
       "1               0  \n",
       "2               0  \n",
       "3               0  \n",
       "4               0  "
      ]
     },
     "execution_count": 168,
     "metadata": {},
     "output_type": "execute_result"
    }
   ],
   "source": [
    "df.head()"
   ]
  },
  {
   "cell_type": "code",
   "execution_count": 169,
   "metadata": {},
   "outputs": [
    {
     "name": "stdout",
     "output_type": "stream",
     "text": [
      "<class 'pandas.core.frame.DataFrame'>\n",
      "RangeIndex: 50 entries, 0 to 49\n",
      "Data columns (total 9 columns):\n",
      "Date                    50 non-null datetime64[ns]\n",
      "Total.Export            50 non-null float64\n",
      "Exchange rate RUB       50 non-null float64\n",
      "Exchange rate USD       50 non-null float64\n",
      "EU GDP Growth, %        50 non-null float64\n",
      "Russia GDP Growth, %    50 non-null float64\n",
      "Copper.Price            50 non-null float64\n",
      "Gold.Price              50 non-null float64\n",
      "Eurasion Union          50 non-null int64\n",
      "dtypes: datetime64[ns](1), float64(7), int64(1)\n",
      "memory usage: 3.6 KB\n"
     ]
    }
   ],
   "source": [
    "df.info()"
   ]
  },
  {
   "cell_type": "code",
   "execution_count": 170,
   "metadata": {},
   "outputs": [
    {
     "data": {
      "text/html": [
       "<div>\n",
       "<style scoped>\n",
       "    .dataframe tbody tr th:only-of-type {\n",
       "        vertical-align: middle;\n",
       "    }\n",
       "\n",
       "    .dataframe tbody tr th {\n",
       "        vertical-align: top;\n",
       "    }\n",
       "\n",
       "    .dataframe thead th {\n",
       "        text-align: right;\n",
       "    }\n",
       "</style>\n",
       "<table border=\"1\" class=\"dataframe\">\n",
       "  <thead>\n",
       "    <tr style=\"text-align: right;\">\n",
       "      <th></th>\n",
       "      <th>Total.Export</th>\n",
       "      <th>Exchange rate RUB</th>\n",
       "      <th>Exchange rate USD</th>\n",
       "      <th>EU GDP Growth, %</th>\n",
       "      <th>Russia GDP Growth, %</th>\n",
       "      <th>Copper.Price</th>\n",
       "      <th>Gold.Price</th>\n",
       "      <th>Eurasion Union</th>\n",
       "    </tr>\n",
       "  </thead>\n",
       "  <tbody>\n",
       "    <tr>\n",
       "      <th>count</th>\n",
       "      <td>50.000000</td>\n",
       "      <td>50.000000</td>\n",
       "      <td>50.000000</td>\n",
       "      <td>50.000000</td>\n",
       "      <td>50.000000</td>\n",
       "      <td>50.000000</td>\n",
       "      <td>50.000000</td>\n",
       "      <td>50.000000</td>\n",
       "    </tr>\n",
       "    <tr>\n",
       "      <th>mean</th>\n",
       "      <td>290104.566000</td>\n",
       "      <td>11.873931</td>\n",
       "      <td>404.085354</td>\n",
       "      <td>0.312790</td>\n",
       "      <td>0.673330</td>\n",
       "      <td>6515.135764</td>\n",
       "      <td>35392.635125</td>\n",
       "      <td>0.200000</td>\n",
       "    </tr>\n",
       "    <tr>\n",
       "      <th>std</th>\n",
       "      <td>88524.112885</td>\n",
       "      <td>2.584366</td>\n",
       "      <td>54.981807</td>\n",
       "      <td>0.650227</td>\n",
       "      <td>1.353601</td>\n",
       "      <td>1608.988999</td>\n",
       "      <td>11953.457359</td>\n",
       "      <td>0.404061</td>\n",
       "    </tr>\n",
       "    <tr>\n",
       "      <th>min</th>\n",
       "      <td>105260.700000</td>\n",
       "      <td>6.526667</td>\n",
       "      <td>302.120000</td>\n",
       "      <td>-2.621301</td>\n",
       "      <td>-3.526982</td>\n",
       "      <td>3264.701587</td>\n",
       "      <td>13739.601645</td>\n",
       "      <td>0.000000</td>\n",
       "    </tr>\n",
       "    <tr>\n",
       "      <th>25%</th>\n",
       "      <td>230907.950000</td>\n",
       "      <td>10.533091</td>\n",
       "      <td>367.567500</td>\n",
       "      <td>0.161812</td>\n",
       "      <td>0.013851</td>\n",
       "      <td>5270.536977</td>\n",
       "      <td>26169.705279</td>\n",
       "      <td>0.000000</td>\n",
       "    </tr>\n",
       "    <tr>\n",
       "      <th>50%</th>\n",
       "      <td>275236.850000</td>\n",
       "      <td>12.444226</td>\n",
       "      <td>405.465000</td>\n",
       "      <td>0.492259</td>\n",
       "      <td>0.844527</td>\n",
       "      <td>7027.542222</td>\n",
       "      <td>38405.457932</td>\n",
       "      <td>0.000000</td>\n",
       "    </tr>\n",
       "    <tr>\n",
       "      <th>75%</th>\n",
       "      <td>353543.200000</td>\n",
       "      <td>13.311600</td>\n",
       "      <td>450.737500</td>\n",
       "      <td>0.664720</td>\n",
       "      <td>1.691635</td>\n",
       "      <td>7677.902353</td>\n",
       "      <td>42373.818832</td>\n",
       "      <td>0.000000</td>\n",
       "    </tr>\n",
       "    <tr>\n",
       "      <th>max</th>\n",
       "      <td>522201.600000</td>\n",
       "      <td>16.464335</td>\n",
       "      <td>488.670000</td>\n",
       "      <td>0.989546</td>\n",
       "      <td>3.193832</td>\n",
       "      <td>9639.165399</td>\n",
       "      <td>55356.753753</td>\n",
       "      <td>1.000000</td>\n",
       "    </tr>\n",
       "  </tbody>\n",
       "</table>\n",
       "</div>"
      ],
      "text/plain": [
       "        Total.Export  Exchange rate RUB  Exchange rate USD  EU GDP Growth, %  \\\n",
       "count      50.000000          50.000000          50.000000         50.000000   \n",
       "mean   290104.566000          11.873931         404.085354          0.312790   \n",
       "std     88524.112885           2.584366          54.981807          0.650227   \n",
       "min    105260.700000           6.526667         302.120000         -2.621301   \n",
       "25%    230907.950000          10.533091         367.567500          0.161812   \n",
       "50%    275236.850000          12.444226         405.465000          0.492259   \n",
       "75%    353543.200000          13.311600         450.737500          0.664720   \n",
       "max    522201.600000          16.464335         488.670000          0.989546   \n",
       "\n",
       "       Russia GDP Growth, %  Copper.Price    Gold.Price  Eurasion Union  \n",
       "count             50.000000     50.000000     50.000000       50.000000  \n",
       "mean               0.673330   6515.135764  35392.635125        0.200000  \n",
       "std                1.353601   1608.988999  11953.457359        0.404061  \n",
       "min               -3.526982   3264.701587  13739.601645        0.000000  \n",
       "25%                0.013851   5270.536977  26169.705279        0.000000  \n",
       "50%                0.844527   7027.542222  38405.457932        0.000000  \n",
       "75%                1.691635   7677.902353  42373.818832        0.000000  \n",
       "max                3.193832   9639.165399  55356.753753        1.000000  "
      ]
     },
     "execution_count": 170,
     "metadata": {},
     "output_type": "execute_result"
    }
   ],
   "source": [
    "df.describe()"
   ]
  },
  {
   "cell_type": "code",
   "execution_count": 171,
   "metadata": {},
   "outputs": [],
   "source": [
    "df.set_index('Date',inplace=True)"
   ]
  },
  {
   "cell_type": "code",
   "execution_count": 172,
   "metadata": {},
   "outputs": [
    {
     "data": {
      "image/png": "[encoded data removed]",
      "text/plain": [
       "<Figure size 432x288 with 1 Axes>"
      ]
     },
     "metadata": {},
     "output_type": "display_data"
    }
   ],
   "source": [
    "df['Total.Export'].plot() \n",
    "plt.show()"
   ]
  },
  {
   "cell_type": "code",
   "execution_count": 173,
   "metadata": {},
   "outputs": [
    {
     "name": "stdout",
     "output_type": "stream",
     "text": [
      "ADF Statistic: -2.046910\n",
      "p-value: 0.575667\n",
      "Critical Values:\n",
      "\t1%: -4.198\n",
      "\t5%: -3.524\n",
      "\t10%: -3.193\n"
     ]
    }
   ],
   "source": [
    "result = adfuller(df['Total.Export'],regression='ct', autolag='AIC')\n",
    "print('ADF Statistic: %f' % result[0])\n",
    "print('p-value: %f' % result[1])\n",
    "print('Critical Values:')\n",
    "for key, value in result[4].items():\n",
    "\tprint('\\t%s: %.3f' % (key, value))"
   ]
  },
  {
   "cell_type": "markdown",
   "metadata": {},
   "source": [
    "From the graph we can see that data is non-stationary and that there is an apparent trend, yet I do not observe the seasonal pattern"
   ]
  },
  {
   "cell_type": "markdown",
   "metadata": {},
   "source": [
    "### Answer to question 2"
   ]
  },
  {
   "cell_type": "markdown",
   "metadata": {},
   "source": [
    "As I do not observe seasonality, I'll go onwith the ARIMA model, rather the SARIMA"
   ]
  },
  {
   "cell_type": "code",
   "execution_count": 174,
   "metadata": {},
   "outputs": [],
   "source": [
    "df['de'] = df['Total.Export'].diff(periods=1)\n",
    "df.dropna(inplace=True)"
   ]
  },
  {
   "cell_type": "code",
   "execution_count": 175,
   "metadata": {},
   "outputs": [
    {
     "data": {
      "image/png": "[encoded data removed]",
      "text/plain": [
       "<Figure size 432x288 with 1 Axes>"
      ]
     },
     "metadata": {},
     "output_type": "display_data"
    }
   ],
   "source": [
    "df['de'].plot() \n",
    "plt.show()"
   ]
  },
  {
   "cell_type": "code",
   "execution_count": 176,
   "metadata": {},
   "outputs": [
    {
     "name": "stdout",
     "output_type": "stream",
     "text": [
      "ADF Statistic: -3.754696\n",
      "p-value: 0.018999\n",
      "Critical Values:\n",
      "\t1%: -4.219\n",
      "\t5%: -3.533\n",
      "\t10%: -3.198\n"
     ]
    }
   ],
   "source": [
    "result = adfuller(df['de'],regression='ct', autolag='AIC')\n",
    "print('ADF Statistic: %f' % result[0])\n",
    "print('p-value: %f' % result[1])\n",
    "print('Critical Values:')\n",
    "for key, value in result[4].items():\n",
    "\tprint('\\t%s: %.3f' % (key, value))"
   ]
  },
  {
   "cell_type": "markdown",
   "metadata": {},
   "source": [
    "Data became stationary after the first differencing, so it is I(1) and there is no need to difference it further"
   ]
  },
  {
   "cell_type": "code",
   "execution_count": 177,
   "metadata": {},
   "outputs": [
    {
     "data": {
      "image/png": "[encoded data removed]",
      "text/plain": [
       "<Figure size 432x288 with 1 Axes>"
      ]
     },
     "metadata": {},
     "output_type": "display_data"
    },
    {
     "data": {
      "image/png": "[encoded data removed]",
      "text/plain": [
       "<Figure size 432x288 with 1 Axes>"
      ]
     },
     "metadata": {},
     "output_type": "display_data"
    }
   ],
   "source": [
    "plot_acf(df['de'],lags=14)\n",
    "pyplot.show()\n",
    "plot_pacf(df['de'],lags=14)\n",
    "pyplot.show()"
   ]
  },
  {
   "cell_type": "markdown",
   "metadata": {},
   "source": [
    "According to Rule 7; if the ACF of the differenced series displays a sharp cutoff and the lag-1 autocorrelation is negative--i.e, than the series appears slightly \"overdifferenced\", and it is needed to add an MA term to the model. The lag at which the ACF cuts off is the indicated number of MA terms.\n",
    "##### Thus, we should add 1 MA term and use the ARIMA (0,1,1) model for forecasting"
   ]
  },
  {
   "cell_type": "code",
   "execution_count": 178,
   "metadata": {},
   "outputs": [
    {
     "name": "stderr",
     "output_type": "stream",
     "text": [
      "/anaconda3/lib/python3.7/site-packages/statsmodels/tsa/base/tsa_model.py:171: ValueWarning: No frequency information was provided, so inferred frequency QS-OCT will be used.\n",
      "  % freq, ValueWarning)\n",
      "/anaconda3/lib/python3.7/site-packages/statsmodels/tsa/base/tsa_model.py:171: ValueWarning: No frequency information was provided, so inferred frequency QS-OCT will be used.\n",
      "  % freq, ValueWarning)\n"
     ]
    },
    {
     "name": "stdout",
     "output_type": "stream",
     "text": [
      "                             ARIMA Model Results                              \n",
      "==============================================================================\n",
      "Dep. Variable:         D.Total.Export   No. Observations:                   48\n",
      "Model:                 ARIMA(0, 1, 1)   Log Likelihood                -581.057\n",
      "Method:                       css-mle   S.D. of innovations          43626.751\n",
      "Date:                Thu, 16 May 2019   AIC                           1168.114\n",
      "Time:                        17:26:46   BIC                           1173.728\n",
      "Sample:                    07-01-2005   HQIC                          1170.236\n",
      "                         - 04-01-2017                                         \n",
      "========================================================================================\n",
      "                           coef    std err          z      P>|z|      [0.025      0.975]\n",
      "----------------------------------------------------------------------------------------\n",
      "const                 5504.8785   3220.941      1.709      0.094    -808.049    1.18e+04\n",
      "ma.L1.D.Total.Export    -0.4997      0.122     -4.111      0.000      -0.738      -0.261\n",
      "                                    Roots                                    \n",
      "=============================================================================\n",
      "                  Real          Imaginary           Modulus         Frequency\n",
      "-----------------------------------------------------------------------------\n",
      "MA.1            2.0010           +0.0000j            2.0010            0.0000\n",
      "-----------------------------------------------------------------------------\n"
     ]
    },
    {
     "data": {
      "image/png": "[encoded data removed]",
      "text/plain": [
       "<Figure size 432x288 with 1 Axes>"
      ]
     },
     "metadata": {},
     "output_type": "display_data"
    },
    {
     "name": "stdout",
     "output_type": "stream",
     "text": [
      "                   0\n",
      "count      48.000000\n",
      "mean      -53.377406\n",
      "std     44116.992320\n",
      "min   -133748.359137\n",
      "25%    -20441.607995\n",
      "50%      7301.915704\n",
      "75%     30270.863393\n",
      "max     76076.262257\n"
     ]
    }
   ],
   "source": [
    "# fit model\n",
    "model = ARIMA(df['Total.Export'], order=(0,1,1))\n",
    "model_fit = model.fit(disp=0)\n",
    "print(model_fit.summary())\n",
    "# plot residual errors\n",
    "residuals = DataFrame(model_fit.resid)\n",
    "residuals.plot()\n",
    "plt.show()\n",
    "print(residuals.describe())"
   ]
  },
  {
   "cell_type": "markdown",
   "metadata": {},
   "source": [
    "I'll try the autoarima to find the best model"
   ]
  },
  {
   "cell_type": "code",
   "execution_count": 146,
   "metadata": {},
   "outputs": [
    {
     "name": "stdout",
     "output_type": "stream",
     "text": [
      "Fit ARIMA: order=(1, 1, 1); AIC=1170.073, BIC=1177.558, Fit time=0.091 seconds\n",
      "Fit ARIMA: order=(0, 1, 0); AIC=1176.916, BIC=1180.658, Fit time=0.004 seconds\n",
      "Fit ARIMA: order=(1, 1, 0); AIC=1170.752, BIC=1176.365, Fit time=0.111 seconds\n",
      "Fit ARIMA: order=(0, 1, 1); AIC=1168.114, BIC=1173.728, Fit time=0.075 seconds\n"
     ]
    },
    {
     "name": "stderr",
     "output_type": "stream",
     "text": [
      "/anaconda3/lib/python3.7/site-packages/scipy/signal/signaltools.py:1341: FutureWarning: Using a non-tuple sequence for multidimensional indexing is deprecated; use `arr[tuple(seq)]` instead of `arr[seq]`. In the future this will be interpreted as an array index, `arr[np.array(seq)]`, which will result either in an error or a different result.\n",
      "  out_full[ind] += zi\n",
      "/anaconda3/lib/python3.7/site-packages/scipy/signal/signaltools.py:1344: FutureWarning: Using a non-tuple sequence for multidimensional indexing is deprecated; use `arr[tuple(seq)]` instead of `arr[seq]`. In the future this will be interpreted as an array index, `arr[np.array(seq)]`, which will result either in an error or a different result.\n",
      "  out = out_full[ind]\n",
      "/anaconda3/lib/python3.7/site-packages/scipy/signal/signaltools.py:1350: FutureWarning: Using a non-tuple sequence for multidimensional indexing is deprecated; use `arr[tuple(seq)]` instead of `arr[seq]`. In the future this will be interpreted as an array index, `arr[np.array(seq)]`, which will result either in an error or a different result.\n",
      "  zf = out_full[ind]\n"
     ]
    },
    {
     "name": "stdout",
     "output_type": "stream",
     "text": [
      "Fit ARIMA: order=(0, 1, 2); AIC=1170.052, BIC=1177.537, Fit time=0.127 seconds\n",
      "Fit ARIMA: order=(1, 1, 2); AIC=nan, BIC=nan, Fit time=nan seconds\n",
      "Total fit time: 0.726 seconds\n"
     ]
    },
    {
     "data": {
      "text/html": [
       "<table class=\"simpletable\">\n",
       "<caption>ARIMA Model Results</caption>\n",
       "<tr>\n",
       "  <th>Dep. Variable:</th>        <td>D.y</td>       <th>  No. Observations:  </th>    <td>48</td>    \n",
       "</tr>\n",
       "<tr>\n",
       "  <th>Model:</th>          <td>ARIMA(0, 1, 1)</td>  <th>  Log Likelihood     </th> <td>-581.057</td> \n",
       "</tr>\n",
       "<tr>\n",
       "  <th>Method:</th>             <td>css-mle</td>     <th>  S.D. of innovations</th> <td>43626.751</td>\n",
       "</tr>\n",
       "<tr>\n",
       "  <th>Date:</th>          <td>Thu, 16 May 2019</td> <th>  AIC                </th> <td>1168.114</td> \n",
       "</tr>\n",
       "<tr>\n",
       "  <th>Time:</th>              <td>17:26:17</td>     <th>  BIC                </th> <td>1173.728</td> \n",
       "</tr>\n",
       "<tr>\n",
       "  <th>Sample:</th>                <td>1</td>        <th>  HQIC               </th> <td>1170.236</td> \n",
       "</tr>\n",
       "<tr>\n",
       "  <th></th>                       <td> </td>        <th>                     </th>     <td> </td>    \n",
       "</tr>\n",
       "</table>\n",
       "<table class=\"simpletable\">\n",
       "<tr>\n",
       "      <td></td>         <th>coef</th>     <th>std err</th>      <th>z</th>      <th>P>|z|</th>  <th>[0.025</th>    <th>0.975]</th>  \n",
       "</tr>\n",
       "<tr>\n",
       "  <th>const</th>     <td> 5504.8785</td> <td> 3220.941</td> <td>    1.709</td> <td> 0.094</td> <td> -808.049</td> <td> 1.18e+04</td>\n",
       "</tr>\n",
       "<tr>\n",
       "  <th>ma.L1.D.y</th> <td>   -0.4997</td> <td>    0.122</td> <td>   -4.111</td> <td> 0.000</td> <td>   -0.738</td> <td>   -0.261</td>\n",
       "</tr>\n",
       "</table>\n",
       "<table class=\"simpletable\">\n",
       "<caption>Roots</caption>\n",
       "<tr>\n",
       "    <td></td>   <th>            Real</th>  <th>         Imaginary</th> <th>         Modulus</th>  <th>        Frequency</th>\n",
       "</tr>\n",
       "<tr>\n",
       "  <th>MA.1</th> <td>           2.0010</td> <td>          +0.0000j</td> <td>           2.0010</td> <td>           0.0000</td>\n",
       "</tr>\n",
       "</table>"
      ],
      "text/plain": [
       "<class 'statsmodels.iolib.summary.Summary'>\n",
       "\"\"\"\n",
       "                             ARIMA Model Results                              \n",
       "==============================================================================\n",
       "Dep. Variable:                    D.y   No. Observations:                   48\n",
       "Model:                 ARIMA(0, 1, 1)   Log Likelihood                -581.057\n",
       "Method:                       css-mle   S.D. of innovations          43626.751\n",
       "Date:                Thu, 16 May 2019   AIC                           1168.114\n",
       "Time:                        17:26:17   BIC                           1173.728\n",
       "Sample:                             1   HQIC                          1170.236\n",
       "                                                                              \n",
       "==============================================================================\n",
       "                 coef    std err          z      P>|z|      [0.025      0.975]\n",
       "------------------------------------------------------------------------------\n",
       "const       5504.8785   3220.941      1.709      0.094    -808.049    1.18e+04\n",
       "ma.L1.D.y     -0.4997      0.122     -4.111      0.000      -0.738      -0.261\n",
       "                                    Roots                                    \n",
       "=============================================================================\n",
       "                  Real          Imaginary           Modulus         Frequency\n",
       "-----------------------------------------------------------------------------\n",
       "MA.1            2.0010           +0.0000j            2.0010            0.0000\n",
       "-----------------------------------------------------------------------------\n",
       "\"\"\""
      ]
     },
     "execution_count": 146,
     "metadata": {},
     "output_type": "execute_result"
    }
   ],
   "source": [
    "stepwise_fit = auto_arima(df['Total.Export'], start_p=1, start_q=1, max_p=3, max_q=3, m=12,\n",
    "                          start_P=0, seasonal=False, d=1, D=1, trace=True,\n",
    "                          error_action='ignore',  \n",
    "                          suppress_warnings=True,  \n",
    "                          stepwise=True)  \n",
    "\n",
    "stepwise_fit.summary()"
   ]
  },
  {
   "cell_type": "markdown",
   "metadata": {},
   "source": [
    "Fortunately, my insights about the model were right, as according to ARIMA it is the best model, which minimizes AIC & BIC scores"
   ]
  },
  {
   "cell_type": "code",
   "execution_count": 147,
   "metadata": {},
   "outputs": [
    {
     "name": "stderr",
     "output_type": "stream",
     "text": [
      "/anaconda3/lib/python3.7/site-packages/scipy/signal/signaltools.py:1344: FutureWarning: Using a non-tuple sequence for multidimensional indexing is deprecated; use `arr[tuple(seq)]` instead of `arr[seq]`. In the future this will be interpreted as an array index, `arr[np.array(seq)]`, which will result either in an error or a different result.\n",
      "  out = out_full[ind]\n"
     ]
    },
    {
     "data": {
      "text/plain": [
       "(array([489687.95611449, 495192.83461957, 500697.71312464]),\n",
       " array([43626.75129045, 48781.22064439, 53440.82285065]),\n",
       " array([[404181.09482272, 575194.81740626],\n",
       "        [399583.39903466, 590802.27020447],\n",
       "        [395955.62503318, 605439.8012161 ]]))"
      ]
     },
     "execution_count": 147,
     "metadata": {},
     "output_type": "execute_result"
    }
   ],
   "source": [
    "# forecast for 3 quarters\n",
    "model_fit.forecast(steps=3)"
   ]
  },
  {
   "cell_type": "markdown",
   "metadata": {},
   "source": [
    "### Answer to Question 3"
   ]
  },
  {
   "cell_type": "code",
   "execution_count": 148,
   "metadata": {},
   "outputs": [],
   "source": [
    "df1=pd.read_excel('myXls.xlsx',index_col=0)"
   ]
  },
  {
   "cell_type": "code",
   "execution_count": 149,
   "metadata": {},
   "outputs": [
    {
     "data": {
      "text/html": [
       "<div>\n",
       "<style scoped>\n",
       "    .dataframe tbody tr th:only-of-type {\n",
       "        vertical-align: middle;\n",
       "    }\n",
       "\n",
       "    .dataframe tbody tr th {\n",
       "        vertical-align: top;\n",
       "    }\n",
       "\n",
       "    .dataframe thead th {\n",
       "        text-align: right;\n",
       "    }\n",
       "</style>\n",
       "<table border=\"1\" class=\"dataframe\">\n",
       "  <thead>\n",
       "    <tr style=\"text-align: right;\">\n",
       "      <th></th>\n",
       "      <th>Total.Export</th>\n",
       "      <th>Exchange rate RUB</th>\n",
       "      <th>Exchange rate USD</th>\n",
       "      <th>EU GDP Growth, %</th>\n",
       "      <th>Russia GDP Growth, %</th>\n",
       "      <th>Copper.Price</th>\n",
       "      <th>Gold.Price</th>\n",
       "      <th>Eurasion Union</th>\n",
       "      <th>de</th>\n",
       "    </tr>\n",
       "    <tr>\n",
       "      <th>Date</th>\n",
       "      <th></th>\n",
       "      <th></th>\n",
       "      <th></th>\n",
       "      <th></th>\n",
       "      <th></th>\n",
       "      <th></th>\n",
       "      <th></th>\n",
       "      <th></th>\n",
       "      <th></th>\n",
       "    </tr>\n",
       "  </thead>\n",
       "  <tbody>\n",
       "    <tr>\n",
       "      <th>2016-04-01</th>\n",
       "      <td>420579.5</td>\n",
       "      <td>7.277367</td>\n",
       "      <td>479.054964</td>\n",
       "      <td>0.434186</td>\n",
       "      <td>-0.432740</td>\n",
       "      <td>4736.413835</td>\n",
       "      <td>40497.664734</td>\n",
       "      <td>1</td>\n",
       "      <td>55638.2</td>\n",
       "    </tr>\n",
       "    <tr>\n",
       "      <th>2016-07-01</th>\n",
       "      <td>456893.4</td>\n",
       "      <td>7.361746</td>\n",
       "      <td>475.357937</td>\n",
       "      <td>0.432751</td>\n",
       "      <td>-0.079298</td>\n",
       "      <td>4779.593254</td>\n",
       "      <td>42914.111346</td>\n",
       "      <td>1</td>\n",
       "      <td>36313.9</td>\n",
       "    </tr>\n",
       "    <tr>\n",
       "      <th>2016-10-01</th>\n",
       "      <td>469405.3</td>\n",
       "      <td>7.607424</td>\n",
       "      <td>478.868333</td>\n",
       "      <td>0.701224</td>\n",
       "      <td>0.791966</td>\n",
       "      <td>5280.847908</td>\n",
       "      <td>39273.687585</td>\n",
       "      <td>1</td>\n",
       "      <td>12511.9</td>\n",
       "    </tr>\n",
       "    <tr>\n",
       "      <th>2017-01-01</th>\n",
       "      <td>422887.8</td>\n",
       "      <td>8.286143</td>\n",
       "      <td>485.782547</td>\n",
       "      <td>0.659368</td>\n",
       "      <td>0.949548</td>\n",
       "      <td>5840.034153</td>\n",
       "      <td>39207.457143</td>\n",
       "      <td>1</td>\n",
       "      <td>-46517.5</td>\n",
       "    </tr>\n",
       "    <tr>\n",
       "      <th>2017-04-01</th>\n",
       "      <td>522201.6</td>\n",
       "      <td>8.458249</td>\n",
       "      <td>483.357239</td>\n",
       "      <td>0.667967</td>\n",
       "      <td>0.851342</td>\n",
       "      <td>5667.741222</td>\n",
       "      <td>40400.248113</td>\n",
       "      <td>1</td>\n",
       "      <td>99313.8</td>\n",
       "    </tr>\n",
       "  </tbody>\n",
       "</table>\n",
       "</div>"
      ],
      "text/plain": [
       "            Total.Export  Exchange rate RUB  Exchange rate USD  \\\n",
       "Date                                                             \n",
       "2016-04-01      420579.5           7.277367         479.054964   \n",
       "2016-07-01      456893.4           7.361746         475.357937   \n",
       "2016-10-01      469405.3           7.607424         478.868333   \n",
       "2017-01-01      422887.8           8.286143         485.782547   \n",
       "2017-04-01      522201.6           8.458249         483.357239   \n",
       "\n",
       "            EU GDP Growth, %  Russia GDP Growth, %  Copper.Price  \\\n",
       "Date                                                               \n",
       "2016-04-01          0.434186             -0.432740   4736.413835   \n",
       "2016-07-01          0.432751             -0.079298   4779.593254   \n",
       "2016-10-01          0.701224              0.791966   5280.847908   \n",
       "2017-01-01          0.659368              0.949548   5840.034153   \n",
       "2017-04-01          0.667967              0.851342   5667.741222   \n",
       "\n",
       "              Gold.Price  Eurasion Union       de  \n",
       "Date                                               \n",
       "2016-04-01  40497.664734               1  55638.2  \n",
       "2016-07-01  42914.111346               1  36313.9  \n",
       "2016-10-01  39273.687585               1  12511.9  \n",
       "2017-01-01  39207.457143               1 -46517.5  \n",
       "2017-04-01  40400.248113               1  99313.8  "
      ]
     },
     "execution_count": 149,
     "metadata": {},
     "output_type": "execute_result"
    }
   ],
   "source": [
    "df.tail()"
   ]
  },
  {
   "cell_type": "code",
   "execution_count": 150,
   "metadata": {},
   "outputs": [
    {
     "data": {
      "text/html": [
       "<div>\n",
       "<style scoped>\n",
       "    .dataframe tbody tr th:only-of-type {\n",
       "        vertical-align: middle;\n",
       "    }\n",
       "\n",
       "    .dataframe tbody tr th {\n",
       "        vertical-align: top;\n",
       "    }\n",
       "\n",
       "    .dataframe thead th {\n",
       "        text-align: right;\n",
       "    }\n",
       "</style>\n",
       "<table border=\"1\" class=\"dataframe\">\n",
       "  <thead>\n",
       "    <tr style=\"text-align: right;\">\n",
       "      <th></th>\n",
       "      <th>104</th>\n",
       "      <th>2017</th>\n",
       "      <th>1</th>\n",
       "      <th>72</th>\n",
       "      <th>Unnamed: 5</th>\n",
       "      <th>Unnamed: 6</th>\n",
       "      <th>Unnamed: 7</th>\n",
       "      <th>Unnamed: 8</th>\n",
       "      <th>months of 2017</th>\n",
       "      <th>monthly Export, USD thous. Dollar</th>\n",
       "    </tr>\n",
       "    <tr>\n",
       "      <th>Ոչխարներ, այծեր (կենդանի)</th>\n",
       "      <th></th>\n",
       "      <th></th>\n",
       "      <th></th>\n",
       "      <th></th>\n",
       "      <th></th>\n",
       "      <th></th>\n",
       "      <th></th>\n",
       "      <th></th>\n",
       "      <th></th>\n",
       "      <th></th>\n",
       "    </tr>\n",
       "  </thead>\n",
       "  <tbody>\n",
       "    <tr>\n",
       "      <th>Ընտանի թռչուններ (կենդանի)</th>\n",
       "      <td>105</td>\n",
       "      <td>2017</td>\n",
       "      <td>1</td>\n",
       "      <td>0.00000</td>\n",
       "      <td>NaN</td>\n",
       "      <td>NaN</td>\n",
       "      <td>NaN</td>\n",
       "      <td>NaN</td>\n",
       "      <td>1.0</td>\n",
       "      <td>121743.1</td>\n",
       "    </tr>\n",
       "    <tr>\n",
       "      <th>Այլ կենդանիներ (կենդանի)</th>\n",
       "      <td>106</td>\n",
       "      <td>2017</td>\n",
       "      <td>1</td>\n",
       "      <td>0.00000</td>\n",
       "      <td>NaN</td>\n",
       "      <td>NaN</td>\n",
       "      <td>NaN</td>\n",
       "      <td>NaN</td>\n",
       "      <td>2.0</td>\n",
       "      <td>152732.7</td>\n",
       "    </tr>\n",
       "    <tr>\n",
       "      <th>Տավարի միս (թարմ)</th>\n",
       "      <td>201</td>\n",
       "      <td>2017</td>\n",
       "      <td>1</td>\n",
       "      <td>0.00000</td>\n",
       "      <td>NaN</td>\n",
       "      <td>NaN</td>\n",
       "      <td>NaN</td>\n",
       "      <td>NaN</td>\n",
       "      <td>3.0</td>\n",
       "      <td>169979.4</td>\n",
       "    </tr>\n",
       "    <tr>\n",
       "      <th>Տավարի միս (սառեցրած)</th>\n",
       "      <td>202</td>\n",
       "      <td>2017</td>\n",
       "      <td>1</td>\n",
       "      <td>0.00000</td>\n",
       "      <td>NaN</td>\n",
       "      <td>NaN</td>\n",
       "      <td>NaN</td>\n",
       "      <td>NaN</td>\n",
       "      <td>4.0</td>\n",
       "      <td>164564.6</td>\n",
       "    </tr>\n",
       "    <tr>\n",
       "      <th>Խոզի միս</th>\n",
       "      <td>203</td>\n",
       "      <td>2017</td>\n",
       "      <td>1</td>\n",
       "      <td>0.00000</td>\n",
       "      <td>NaN</td>\n",
       "      <td>NaN</td>\n",
       "      <td>NaN</td>\n",
       "      <td>NaN</td>\n",
       "      <td>5.0</td>\n",
       "      <td>195711.3</td>\n",
       "    </tr>\n",
       "    <tr>\n",
       "      <th>Ոչխարի կամ այծի թարմ միս, պաղեցրած կամ սառեցրած.</th>\n",
       "      <td>204</td>\n",
       "      <td>2017</td>\n",
       "      <td>1</td>\n",
       "      <td>160.93094</td>\n",
       "      <td>NaN</td>\n",
       "      <td>NaN</td>\n",
       "      <td>NaN</td>\n",
       "      <td>NaN</td>\n",
       "      <td>6.0</td>\n",
       "      <td>186663.1</td>\n",
       "    </tr>\n",
       "    <tr>\n",
       "      <th>Մսամթերք (տավարի, խոզի, ոչխարի)</th>\n",
       "      <td>206</td>\n",
       "      <td>2017</td>\n",
       "      <td>1</td>\n",
       "      <td>0.00000</td>\n",
       "      <td>NaN</td>\n",
       "      <td>NaN</td>\n",
       "      <td>NaN</td>\n",
       "      <td>NaN</td>\n",
       "      <td>7.0</td>\n",
       "      <td>191184.2</td>\n",
       "    </tr>\n",
       "    <tr>\n",
       "      <th>Ընտանի թռչնի միս եւ մսամթերք</th>\n",
       "      <td>207</td>\n",
       "      <td>2017</td>\n",
       "      <td>1</td>\n",
       "      <td>0.00000</td>\n",
       "      <td>NaN</td>\n",
       "      <td>NaN</td>\n",
       "      <td>NaN</td>\n",
       "      <td>NaN</td>\n",
       "      <td>8.0</td>\n",
       "      <td>199382.7</td>\n",
       "    </tr>\n",
       "    <tr>\n",
       "      <th>Այլ մսեղեն եւ մսից ենթասննդամթերք` թարմ, պաղեցրած կամ սառեցրած</th>\n",
       "      <td>208</td>\n",
       "      <td>2017</td>\n",
       "      <td>1</td>\n",
       "      <td>0.00000</td>\n",
       "      <td>NaN</td>\n",
       "      <td>NaN</td>\n",
       "      <td>NaN</td>\n",
       "      <td>NaN</td>\n",
       "      <td>9.0</td>\n",
       "      <td>216079.2</td>\n",
       "    </tr>\n",
       "    <tr>\n",
       "      <th>Խոզի եւ ընտանի թռչնի ճարպ (չհալեցրած)</th>\n",
       "      <td>209</td>\n",
       "      <td>2017</td>\n",
       "      <td>1</td>\n",
       "      <td>36.83064</td>\n",
       "      <td>NaN</td>\n",
       "      <td>NaN</td>\n",
       "      <td>NaN</td>\n",
       "      <td>NaN</td>\n",
       "      <td>10.0</td>\n",
       "      <td>203136.1</td>\n",
       "    </tr>\n",
       "    <tr>\n",
       "      <th>Չորացրած, ծխեխաշած, ապխտած միս եւ մսամթերք</th>\n",
       "      <td>210</td>\n",
       "      <td>2017</td>\n",
       "      <td>1</td>\n",
       "      <td>0.00000</td>\n",
       "      <td>NaN</td>\n",
       "      <td>NaN</td>\n",
       "      <td>NaN</td>\n",
       "      <td>NaN</td>\n",
       "      <td>11.0</td>\n",
       "      <td>209773.6</td>\n",
       "    </tr>\n",
       "    <tr>\n",
       "      <th>Ձուկ (կենդանի)</th>\n",
       "      <td>301</td>\n",
       "      <td>2017</td>\n",
       "      <td>1</td>\n",
       "      <td>52.41936</td>\n",
       "      <td>NaN</td>\n",
       "      <td>NaN</td>\n",
       "      <td>NaN</td>\n",
       "      <td>NaN</td>\n",
       "      <td>12.0</td>\n",
       "      <td>231918.8</td>\n",
       "    </tr>\n",
       "    <tr>\n",
       "      <th>Ձուկ (թարմ)</th>\n",
       "      <td>302</td>\n",
       "      <td>2017</td>\n",
       "      <td>1</td>\n",
       "      <td>442.37378</td>\n",
       "      <td>NaN</td>\n",
       "      <td>NaN</td>\n",
       "      <td>NaN</td>\n",
       "      <td>NaN</td>\n",
       "      <td>NaN</td>\n",
       "      <td>NaN</td>\n",
       "    </tr>\n",
       "  </tbody>\n",
       "</table>\n",
       "</div>"
      ],
      "text/plain": [
       "                                                    104  2017  1         72  \\\n",
       "Ոչխարներ, այծեր (կենդանի)                                                     \n",
       "Ընտանի թռչուններ (կենդանի)                          105  2017  1    0.00000   \n",
       "Այլ կենդանիներ (կենդանի)                            106  2017  1    0.00000   \n",
       "Տավարի միս (թարմ)                                   201  2017  1    0.00000   \n",
       "Տավարի միս (սառեցրած)                               202  2017  1    0.00000   \n",
       "Խոզի միս                                            203  2017  1    0.00000   \n",
       "Ոչխարի կամ այծի թարմ միս, պաղեցրած կամ սառեցրած.    204  2017  1  160.93094   \n",
       "Մսամթերք (տավարի, խոզի, ոչխարի)                     206  2017  1    0.00000   \n",
       "Ընտանի թռչնի միս եւ մսամթերք                        207  2017  1    0.00000   \n",
       "Այլ մսեղեն եւ մսից ենթասննդամթերք` թարմ, պաղեցր...  208  2017  1    0.00000   \n",
       "Խոզի եւ ընտանի թռչնի ճարպ (չհալեցրած)               209  2017  1   36.83064   \n",
       "Չորացրած, ծխեխաշած, ապխտած միս եւ մսամթերք          210  2017  1    0.00000   \n",
       "Ձուկ (կենդանի)                                      301  2017  1   52.41936   \n",
       "Ձուկ (թարմ)                                         302  2017  1  442.37378   \n",
       "\n",
       "                                                    Unnamed: 5  Unnamed: 6  \\\n",
       "Ոչխարներ, այծեր (կենդանի)                                                    \n",
       "Ընտանի թռչուններ (կենդանի)                                 NaN         NaN   \n",
       "Այլ կենդանիներ (կենդանի)                                   NaN         NaN   \n",
       "Տավարի միս (թարմ)                                          NaN         NaN   \n",
       "Տավարի միս (սառեցրած)                                      NaN         NaN   \n",
       "Խոզի միս                                                   NaN         NaN   \n",
       "Ոչխարի կամ այծի թարմ միս, պաղեցրած կամ սառեցրած.           NaN         NaN   \n",
       "Մսամթերք (տավարի, խոզի, ոչխարի)                            NaN         NaN   \n",
       "Ընտանի թռչնի միս եւ մսամթերք                               NaN         NaN   \n",
       "Այլ մսեղեն եւ մսից ենթասննդամթերք` թարմ, պաղեցր...         NaN         NaN   \n",
       "Խոզի եւ ընտանի թռչնի ճարպ (չհալեցրած)                      NaN         NaN   \n",
       "Չորացրած, ծխեխաշած, ապխտած միս եւ մսամթերք                 NaN         NaN   \n",
       "Ձուկ (կենդանի)                                             NaN         NaN   \n",
       "Ձուկ (թարմ)                                                NaN         NaN   \n",
       "\n",
       "                                                    Unnamed: 7  Unnamed: 8  \\\n",
       "Ոչխարներ, այծեր (կենդանի)                                                    \n",
       "Ընտանի թռչուններ (կենդանի)                                 NaN         NaN   \n",
       "Այլ կենդանիներ (կենդանի)                                   NaN         NaN   \n",
       "Տավարի միս (թարմ)                                          NaN         NaN   \n",
       "Տավարի միս (սառեցրած)                                      NaN         NaN   \n",
       "Խոզի միս                                                   NaN         NaN   \n",
       "Ոչխարի կամ այծի թարմ միս, պաղեցրած կամ սառեցրած.           NaN         NaN   \n",
       "Մսամթերք (տավարի, խոզի, ոչխարի)                            NaN         NaN   \n",
       "Ընտանի թռչնի միս եւ մսամթերք                               NaN         NaN   \n",
       "Այլ մսեղեն եւ մսից ենթասննդամթերք` թարմ, պաղեցր...         NaN         NaN   \n",
       "Խոզի եւ ընտանի թռչնի ճարպ (չհալեցրած)                      NaN         NaN   \n",
       "Չորացրած, ծխեխաշած, ապխտած միս եւ մսամթերք                 NaN         NaN   \n",
       "Ձուկ (կենդանի)                                             NaN         NaN   \n",
       "Ձուկ (թարմ)                                                NaN         NaN   \n",
       "\n",
       "                                                    months of 2017  \\\n",
       "Ոչխարներ, այծեր (կենդանի)                                            \n",
       "Ընտանի թռչուններ (կենդանի)                                     1.0   \n",
       "Այլ կենդանիներ (կենդանի)                                       2.0   \n",
       "Տավարի միս (թարմ)                                              3.0   \n",
       "Տավարի միս (սառեցրած)                                          4.0   \n",
       "Խոզի միս                                                       5.0   \n",
       "Ոչխարի կամ այծի թարմ միս, պաղեցրած կամ սառեցրած.               6.0   \n",
       "Մսամթերք (տավարի, խոզի, ոչխարի)                                7.0   \n",
       "Ընտանի թռչնի միս եւ մսամթերք                                   8.0   \n",
       "Այլ մսեղեն եւ մսից ենթասննդամթերք` թարմ, պաղեցր...             9.0   \n",
       "Խոզի եւ ընտանի թռչնի ճարպ (չհալեցրած)                         10.0   \n",
       "Չորացրած, ծխեխաշած, ապխտած միս եւ մսամթերք                    11.0   \n",
       "Ձուկ (կենդանի)                                                12.0   \n",
       "Ձուկ (թարմ)                                                    NaN   \n",
       "\n",
       "                                                    monthly Export, USD thous. Dollar  \n",
       "Ոչխարներ, այծեր (կենդանի)                                                              \n",
       "Ընտանի թռչուններ (կենդանի)                                                   121743.1  \n",
       "Այլ կենդանիներ (կենդանի)                                                     152732.7  \n",
       "Տավարի միս (թարմ)                                                            169979.4  \n",
       "Տավարի միս (սառեցրած)                                                        164564.6  \n",
       "Խոզի միս                                                                     195711.3  \n",
       "Ոչխարի կամ այծի թարմ միս, պաղեցրած կամ սառեցրած.                             186663.1  \n",
       "Մսամթերք (տավարի, խոզի, ոչխարի)                                              191184.2  \n",
       "Ընտանի թռչնի միս եւ մսամթերք                                                 199382.7  \n",
       "Այլ մսեղեն եւ մսից ենթասննդամթերք` թարմ, պաղեցր...                           216079.2  \n",
       "Խոզի եւ ընտանի թռչնի ճարպ (չհալեցրած)                                        203136.1  \n",
       "Չորացրած, ծխեխաշած, ապխտած միս եւ մսամթերք                                   209773.6  \n",
       "Ձուկ (կենդանի)                                                               231918.8  \n",
       "Ձուկ (թարմ)                                                                       NaN  "
      ]
     },
     "execution_count": 150,
     "metadata": {},
     "output_type": "execute_result"
    }
   ],
   "source": [
    "df1.head(13)"
   ]
  },
  {
   "cell_type": "code",
   "execution_count": 151,
   "metadata": {},
   "outputs": [
    {
     "name": "stdout",
     "output_type": "stream",
     "text": [
      "606646.1000000001 , 644828.5\n"
     ]
    }
   ],
   "source": [
    "# as my model includes the data of the second quarter of 2017, I will compare the third and fourth quarters\n",
    "q_3=191184.2+199382.7+216079.2\n",
    "q_4=203136.1+209773.6+231918.8\n",
    "print(q_3,\",\", q_4)"
   ]
  },
  {
   "cell_type": "code",
   "execution_count": 152,
   "metadata": {},
   "outputs": [
    {
     "name": "stdout",
     "output_type": "stream",
     "text": [
      "MSE: 18035019887.493851\n",
      "MAE: 133296.904633\n"
     ]
    }
   ],
   "source": [
    "expected = [606646.1000000001,644828.5]\n",
    "predictions = [489687.95611449, 495192.83461957]\n",
    "mse = mean_squared_error(expected, predictions)\n",
    "mae = mean_absolute_error(expected, predictions)\n",
    "print('MSE: %f' % mse)\n",
    "print('MAE: %f' % mae)"
   ]
  },
  {
   "cell_type": "markdown",
   "metadata": {},
   "source": [
    "From the results and error terms we see that model significantly underevaluates the actual values. This can be due to he fact that there are other important variables which are not taken into the account. In addition, the exchange rate fluctuations can be a significant reason as well."
   ]
  },
  {
   "cell_type": "markdown",
   "metadata": {},
   "source": [
    "### Answer to Question 4"
   ]
  },
  {
   "cell_type": "code",
   "execution_count": 153,
   "metadata": {},
   "outputs": [
    {
     "data": {
      "text/html": [
       "<div>\n",
       "<style scoped>\n",
       "    .dataframe tbody tr th:only-of-type {\n",
       "        vertical-align: middle;\n",
       "    }\n",
       "\n",
       "    .dataframe tbody tr th {\n",
       "        vertical-align: top;\n",
       "    }\n",
       "\n",
       "    .dataframe thead th {\n",
       "        text-align: right;\n",
       "    }\n",
       "</style>\n",
       "<table border=\"1\" class=\"dataframe\">\n",
       "  <thead>\n",
       "    <tr style=\"text-align: right;\">\n",
       "      <th></th>\n",
       "      <th>de</th>\n",
       "      <th>Russia GDP Growth, %</th>\n",
       "      <th>Copper.Price</th>\n",
       "    </tr>\n",
       "    <tr>\n",
       "      <th>Date</th>\n",
       "      <th></th>\n",
       "      <th></th>\n",
       "      <th></th>\n",
       "    </tr>\n",
       "  </thead>\n",
       "  <tbody>\n",
       "    <tr>\n",
       "      <th>2005-04-01</th>\n",
       "      <td>31447.9</td>\n",
       "      <td>1.522295</td>\n",
       "      <td>3387.145599</td>\n",
       "    </tr>\n",
       "    <tr>\n",
       "      <th>2005-07-01</th>\n",
       "      <td>20115.8</td>\n",
       "      <td>1.762205</td>\n",
       "      <td>3750.348124</td>\n",
       "    </tr>\n",
       "    <tr>\n",
       "      <th>2005-10-01</th>\n",
       "      <td>2704.6</td>\n",
       "      <td>2.062840</td>\n",
       "      <td>4303.783586</td>\n",
       "    </tr>\n",
       "    <tr>\n",
       "      <th>2006-01-01</th>\n",
       "      <td>-75325.2</td>\n",
       "      <td>1.930605</td>\n",
       "      <td>4947.503606</td>\n",
       "    </tr>\n",
       "    <tr>\n",
       "      <th>2006-04-01</th>\n",
       "      <td>63719.0</td>\n",
       "      <td>1.925104</td>\n",
       "      <td>7228.802549</td>\n",
       "    </tr>\n",
       "  </tbody>\n",
       "</table>\n",
       "</div>"
      ],
      "text/plain": [
       "                 de  Russia GDP Growth, %  Copper.Price\n",
       "Date                                                   \n",
       "2005-04-01  31447.9              1.522295   3387.145599\n",
       "2005-07-01  20115.8              1.762205   3750.348124\n",
       "2005-10-01   2704.6              2.062840   4303.783586\n",
       "2006-01-01 -75325.2              1.930605   4947.503606\n",
       "2006-04-01  63719.0              1.925104   7228.802549"
      ]
     },
     "execution_count": 153,
     "metadata": {},
     "output_type": "execute_result"
    }
   ],
   "source": [
    "df=df.loc[:,[\"de\",'Russia GDP Growth, %','Copper.Price']]\n",
    "df.head()"
   ]
  },
  {
   "cell_type": "code",
   "execution_count": 154,
   "metadata": {},
   "outputs": [
    {
     "name": "stdout",
     "output_type": "stream",
     "text": [
      "ADF Statistic: -3.613172\n",
      "p-value: 0.028750\n",
      "Critical Values:\n",
      "\t1%: -4.212\n",
      "\t5%: -3.530\n",
      "\t10%: -3.196\n"
     ]
    }
   ],
   "source": [
    "result = adfuller(df['Russia GDP Growth, %'],regression='ct', autolag='AIC')\n",
    "print('ADF Statistic: %f' % result[0])\n",
    "print('p-value: %f' % result[1])\n",
    "print('Critical Values:')\n",
    "for key, value in result[4].items():\n",
    "\tprint('\\t%s: %.3f' % (key, value))"
   ]
  },
  {
   "cell_type": "code",
   "execution_count": 155,
   "metadata": {},
   "outputs": [],
   "source": [
    "# p_value<0.05, so it is stationary"
   ]
  },
  {
   "cell_type": "code",
   "execution_count": 156,
   "metadata": {},
   "outputs": [
    {
     "name": "stdout",
     "output_type": "stream",
     "text": [
      "ADF Statistic: -3.280911\n",
      "p-value: 0.069451\n",
      "Critical Values:\n",
      "\t1%: -4.166\n",
      "\t5%: -3.508\n",
      "\t10%: -3.184\n"
     ]
    }
   ],
   "source": [
    "result = adfuller(df['Copper.Price'],regression='ct', autolag='AIC')\n",
    "print('ADF Statistic: %f' % result[0])\n",
    "print('p-value: %f' % result[1])\n",
    "print('Critical Values:')\n",
    "for key, value in result[4].items():\n",
    "\tprint('\\t%s: %.3f' % (key, value))"
   ]
  },
  {
   "cell_type": "code",
   "execution_count": 157,
   "metadata": {},
   "outputs": [],
   "source": [
    "df['dcopper'] = df['Copper.Price'].diff(periods=1)\n",
    "df.dropna(inplace=True)"
   ]
  },
  {
   "cell_type": "code",
   "execution_count": 158,
   "metadata": {},
   "outputs": [
    {
     "name": "stdout",
     "output_type": "stream",
     "text": [
      "ADF Statistic: -5.528480\n",
      "p-value: 0.000020\n",
      "Critical Values:\n",
      "\t1%: -4.170\n",
      "\t5%: -3.511\n",
      "\t10%: -3.185\n"
     ]
    }
   ],
   "source": [
    "result = adfuller(df['dcopper'],regression='ct', autolag='AIC')\n",
    "print('ADF Statistic: %f' % result[0])\n",
    "print('p-value: %f' % result[1])\n",
    "print('Critical Values:')\n",
    "for key, value in result[4].items():\n",
    "\tprint('\\t%s: %.3f' % (key, value))"
   ]
  },
  {
   "cell_type": "code",
   "execution_count": 159,
   "metadata": {},
   "outputs": [],
   "source": [
    "#creating lagged variables\n",
    "df['lag1_dcopper'] = df['dcopper'].shift(1)\n",
    "df['lag2_dcopper'] = df['dcopper'].shift(2)\n",
    "df['lag1_r'] = df['Russia GDP Growth, %'].shift(1)\n",
    "df['lag2_r'] = df['Russia GDP Growth, %'].shift(2)\n",
    "\n",
    "df['lag1_de'] = df['de'].shift(1)\n",
    "df['lag4_de'] = df['de'].shift(4)\n",
    "df.dropna(inplace=True)"
   ]
  },
  {
   "cell_type": "code",
   "execution_count": 160,
   "metadata": {},
   "outputs": [],
   "source": [
    "X1_multi=df.drop(['Copper.Price','de','Russia GDP Growth, %'], axis=1)\n",
    "Y_target=df.de"
   ]
  },
  {
   "cell_type": "code",
   "execution_count": 161,
   "metadata": {},
   "outputs": [],
   "source": [
    "X1_multi=sm.tools.tools.add_constant(X1_multi, prepend=True, has_constant='skip')"
   ]
  },
  {
   "cell_type": "code",
   "execution_count": 162,
   "metadata": {},
   "outputs": [
    {
     "name": "stdout",
     "output_type": "stream",
     "text": [
      "                            OLS Regression Results                            \n",
      "==============================================================================\n",
      "Dep. Variable:                     de   R-squared:                       0.559\n",
      "Model:                            OLS   Adj. R-squared:                  0.473\n",
      "Method:                 Least Squares   F-statistic:                     6.514\n",
      "Date:                Thu, 16 May 2019   Prob (F-statistic):           5.41e-05\n",
      "Time:                        17:26:19   Log-Likelihood:                -519.46\n",
      "No. Observations:                  44   AIC:                             1055.\n",
      "Df Residuals:                      36   BIC:                             1069.\n",
      "Df Model:                           7                                         \n",
      "Covariance Type:            nonrobust                                         \n",
      "================================================================================\n",
      "                   coef    std err          t      P>|t|      [0.025      0.975]\n",
      "--------------------------------------------------------------------------------\n",
      "const         8977.3169   6096.368      1.473      0.150   -3386.691    2.13e+04\n",
      "dcopper         15.2620      7.633      1.999      0.053      -0.218      30.742\n",
      "lag1_dcopper    14.7585      7.129      2.070      0.046       0.300      29.217\n",
      "lag2_dcopper    12.2343      7.287      1.679      0.102      -2.544      27.013\n",
      "lag1_r       -9642.7905   8815.497     -1.094      0.281   -2.75e+04    8235.866\n",
      "lag2_r        4341.3828   7637.846      0.568      0.573   -1.11e+04    1.98e+04\n",
      "lag1_de         -0.3334      0.133     -2.512      0.017      -0.603      -0.064\n",
      "lag4_de          0.5064      0.123      4.115      0.000       0.257       0.756\n",
      "==============================================================================\n",
      "Omnibus:                        1.906   Durbin-Watson:                   2.285\n",
      "Prob(Omnibus):                  0.385   Jarque-Bera (JB):                1.098\n",
      "Skew:                          -0.354   Prob(JB):                        0.577\n",
      "Kurtosis:                       3.311   Cond. No.                     1.11e+05\n",
      "==============================================================================\n",
      "\n",
      "Warnings:\n",
      "[1] Standard Errors assume that the covariance matrix of the errors is correctly specified.\n",
      "[2] The condition number is large, 1.11e+05. This might indicate that there are\n",
      "strong multicollinearity or other numerical problems.\n"
     ]
    },
    {
     "data": {
      "image/png": "[encoded data removed]",
      "text/plain": [
       "<Figure size 432x288 with 1 Axes>"
      ]
     },
     "metadata": {},
     "output_type": "display_data"
    },
    {
     "data": {
      "image/png": "[encoded data removed]",
      "text/plain": [
       "<Figure size 432x288 with 1 Axes>"
      ]
     },
     "metadata": {},
     "output_type": "display_data"
    }
   ],
   "source": [
    "model = sm.OLS(Y_target, X1_multi)\n",
    "model_fit = model.fit(disp=0)\n",
    "print(model_fit.summary())\n",
    "# plot residual errors\n",
    "residuals = DataFrame(model_fit.resid)\n",
    "residuals.plot()\n",
    "pyplot.show()\n",
    "plot_acf(residuals,lags=12)\n",
    "pyplot.show()"
   ]
  },
  {
   "cell_type": "code",
   "execution_count": 163,
   "metadata": {},
   "outputs": [],
   "source": [
    "# drop non-significant variables\n",
    "X2_multi=df.drop(['Copper.Price','de','Russia GDP Growth, %','lag2_dcopper','lag1_r','lag2_r'], axis=1)\n",
    "Y_target=df.de"
   ]
  },
  {
   "cell_type": "code",
   "execution_count": 164,
   "metadata": {},
   "outputs": [],
   "source": [
    "X2_multi=sm.tools.tools.add_constant(X2_multi, prepend=True, has_constant='skip')"
   ]
  },
  {
   "cell_type": "code",
   "execution_count": 165,
   "metadata": {},
   "outputs": [
    {
     "name": "stdout",
     "output_type": "stream",
     "text": [
      "                            OLS Regression Results                            \n",
      "==============================================================================\n",
      "Dep. Variable:                     de   R-squared:                       0.521\n",
      "Model:                            OLS   Adj. R-squared:                  0.472\n",
      "Method:                 Least Squares   F-statistic:                     10.60\n",
      "Date:                Thu, 16 May 2019   Prob (F-statistic):           6.55e-06\n",
      "Time:                        17:26:19   Log-Likelihood:                -521.28\n",
      "No. Observations:                  44   AIC:                             1053.\n",
      "Df Residuals:                      39   BIC:                             1061.\n",
      "Df Model:                           4                                         \n",
      "Covariance Type:            nonrobust                                         \n",
      "================================================================================\n",
      "                   coef    std err          t      P>|t|      [0.025      0.975]\n",
      "--------------------------------------------------------------------------------\n",
      "const         6333.7488   5507.345      1.150      0.257   -4805.907    1.75e+04\n",
      "dcopper          9.2813      6.487      1.431      0.160      -3.840      22.403\n",
      "lag1_dcopper    13.4736      6.497      2.074      0.045       0.332      26.616\n",
      "lag1_de         -0.3231      0.131     -2.467      0.018      -0.588      -0.058\n",
      "lag4_de          0.4845      0.122      3.964      0.000       0.237       0.732\n",
      "==============================================================================\n",
      "Omnibus:                        1.079   Durbin-Watson:                   2.362\n",
      "Prob(Omnibus):                  0.583   Jarque-Bera (JB):                0.687\n",
      "Skew:                          -0.306   Prob(JB):                        0.709\n",
      "Kurtosis:                       3.025   Cond. No.                     5.50e+04\n",
      "==============================================================================\n",
      "\n",
      "Warnings:\n",
      "[1] Standard Errors assume that the covariance matrix of the errors is correctly specified.\n",
      "[2] The condition number is large, 5.5e+04. This might indicate that there are\n",
      "strong multicollinearity or other numerical problems.\n"
     ]
    },
    {
     "data": {
      "image/png": "[encoded data removed]",
      "text/plain": [
       "<Figure size 432x288 with 1 Axes>"
      ]
     },
     "metadata": {},
     "output_type": "display_data"
    },
    {
     "data": {
      "image/png": "[encoded data removed]",
      "text/plain": [
       "<Figure size 432x288 with 1 Axes>"
      ]
     },
     "metadata": {},
     "output_type": "display_data"
    }
   ],
   "source": [
    "model = sm.OLS(Y_target, X2_multi)\n",
    "model_fit = model.fit(disp=0)\n",
    "print(model_fit.summary())\n",
    "# plot residual errors\n",
    "residuals = DataFrame(model_fit.resid)\n",
    "residuals.plot()\n",
    "pyplot.show()\n",
    "plot_acf(residuals,lags=12)\n",
    "pyplot.show()"
   ]
  },
  {
   "cell_type": "markdown",
   "metadata": {},
   "source": [
    "The model has high R-square and significant variables are 1-lag of copper, 1-lag of exports, and 4-lag of exports. The results are economically meaningful, as the model takes into account the seasonality and importance of copper exports and suggests that increase in copper price will increase the total exports."
   ]
  },
  {
   "cell_type": "markdown",
   "metadata": {},
   "source": [
    "The ARDL model is better than ARIMA one, as it has lower AIC & BIC; AIC(1053<1168), BIC(1061<1174)"
   ]
  },
  {
   "cell_type": "code",
   "execution_count": null,
   "metadata": {},
   "outputs": [],
   "source": []
  }
 ],
 "metadata": {
  "kernelspec": {
   "display_name": "Python 3",
   "language": "python",
   "name": "python3"
  },
  "language_info": {
   "codemirror_mode": {
    "name": "ipython",
    "version": 3
   },
   "file_extension": ".py",
   "mimetype": "text/x-python",
   "name": "python",
   "nbconvert_exporter": "python",
   "pygments_lexer": "ipython3",
   "version": "3.7.1"
  }
 },
 "nbformat": 4,
 "nbformat_minor": 2
}
