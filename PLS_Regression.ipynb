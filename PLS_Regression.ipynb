{
 "cells": [
  {
   "cell_type": "code",
   "execution_count": 1,
   "metadata": {},
   "outputs": [],
   "source": [
    "import pandas as pd\n",
    "import matplotlib.pyplot as plt\n",
    "import numpy as np\n",
    "from statsmodels.api import qqplot\n",
    "from statsmodels.formula.api import ols #for linear regression\n",
    "import seaborn as sns #for heatmap\n",
    "from sklearn.metrics import r2_score\n",
    "from sklearn.model_selection import train_test_split\n",
    "from sklearn.cross_decomposition import PLSRegression, PLSSVD\n",
    "from sklearn.linear_model import LinearRegression\n",
    "from sklearn.metrics import r2_score\n",
    "from sklearn.preprocessing import scale "
   ]
  },
  {
   "cell_type": "code",
   "execution_count": 2,
   "metadata": {},
   "outputs": [],
   "source": [
    "data=pd.read_excel(\"education.xlsx\") "
   ]
  },
  {
   "cell_type": "code",
   "execution_count": 3,
   "metadata": {},
   "outputs": [
    {
     "data": {
      "text/html": [
       "<div>\n",
       "<style scoped>\n",
       "    .dataframe tbody tr th:only-of-type {\n",
       "        vertical-align: middle;\n",
       "    }\n",
       "\n",
       "    .dataframe tbody tr th {\n",
       "        vertical-align: top;\n",
       "    }\n",
       "\n",
       "    .dataframe thead th {\n",
       "        text-align: right;\n",
       "    }\n",
       "</style>\n",
       "<table border=\"1\" class=\"dataframe\">\n",
       "  <thead>\n",
       "    <tr style=\"text-align: right;\">\n",
       "      <th></th>\n",
       "      <th>num</th>\n",
       "      <th>sup.help</th>\n",
       "      <th>sup.under</th>\n",
       "      <th>sup.safe</th>\n",
       "      <th>sup.conc</th>\n",
       "      <th>adv.comp</th>\n",
       "      <th>adv.acces</th>\n",
       "      <th>adv.comm</th>\n",
       "      <th>adv.qual</th>\n",
       "      <th>tut.prof</th>\n",
       "      <th>...</th>\n",
       "      <th>sat.glad</th>\n",
       "      <th>sat.expe</th>\n",
       "      <th>sat.over</th>\n",
       "      <th>loy.proud</th>\n",
       "      <th>loy.recom</th>\n",
       "      <th>loy.asha</th>\n",
       "      <th>loy.back</th>\n",
       "      <th>gender</th>\n",
       "      <th>scholarships</th>\n",
       "      <th>job</th>\n",
       "    </tr>\n",
       "  </thead>\n",
       "  <tbody>\n",
       "    <tr>\n",
       "      <th>0</th>\n",
       "      <td>1</td>\n",
       "      <td>7</td>\n",
       "      <td>1</td>\n",
       "      <td>7</td>\n",
       "      <td>4</td>\n",
       "      <td>5</td>\n",
       "      <td>5</td>\n",
       "      <td>6</td>\n",
       "      <td>6</td>\n",
       "      <td>5</td>\n",
       "      <td>...</td>\n",
       "      <td>7</td>\n",
       "      <td>7</td>\n",
       "      <td>7</td>\n",
       "      <td>7</td>\n",
       "      <td>7</td>\n",
       "      <td>1</td>\n",
       "      <td>7</td>\n",
       "      <td>female</td>\n",
       "      <td>yes_scholship</td>\n",
       "      <td>no_job</td>\n",
       "    </tr>\n",
       "    <tr>\n",
       "      <th>1</th>\n",
       "      <td>2</td>\n",
       "      <td>7</td>\n",
       "      <td>1</td>\n",
       "      <td>6</td>\n",
       "      <td>4</td>\n",
       "      <td>6</td>\n",
       "      <td>6</td>\n",
       "      <td>5</td>\n",
       "      <td>6</td>\n",
       "      <td>6</td>\n",
       "      <td>...</td>\n",
       "      <td>7</td>\n",
       "      <td>7</td>\n",
       "      <td>7</td>\n",
       "      <td>7</td>\n",
       "      <td>7</td>\n",
       "      <td>1</td>\n",
       "      <td>7</td>\n",
       "      <td>female</td>\n",
       "      <td>yes_scholship</td>\n",
       "      <td>yes_job</td>\n",
       "    </tr>\n",
       "    <tr>\n",
       "      <th>2</th>\n",
       "      <td>3</td>\n",
       "      <td>6</td>\n",
       "      <td>1</td>\n",
       "      <td>6</td>\n",
       "      <td>6</td>\n",
       "      <td>6</td>\n",
       "      <td>6</td>\n",
       "      <td>6</td>\n",
       "      <td>6</td>\n",
       "      <td>6</td>\n",
       "      <td>...</td>\n",
       "      <td>7</td>\n",
       "      <td>6</td>\n",
       "      <td>6</td>\n",
       "      <td>7</td>\n",
       "      <td>7</td>\n",
       "      <td>1</td>\n",
       "      <td>7</td>\n",
       "      <td>female</td>\n",
       "      <td>yes_scholship</td>\n",
       "      <td>no_job</td>\n",
       "    </tr>\n",
       "    <tr>\n",
       "      <th>3</th>\n",
       "      <td>4</td>\n",
       "      <td>1</td>\n",
       "      <td>7</td>\n",
       "      <td>3</td>\n",
       "      <td>1</td>\n",
       "      <td>1</td>\n",
       "      <td>2</td>\n",
       "      <td>1</td>\n",
       "      <td>1</td>\n",
       "      <td>3</td>\n",
       "      <td>...</td>\n",
       "      <td>1</td>\n",
       "      <td>1</td>\n",
       "      <td>1</td>\n",
       "      <td>1</td>\n",
       "      <td>1</td>\n",
       "      <td>7</td>\n",
       "      <td>1</td>\n",
       "      <td>male</td>\n",
       "      <td>no_scholship</td>\n",
       "      <td>no_job</td>\n",
       "    </tr>\n",
       "    <tr>\n",
       "      <th>4</th>\n",
       "      <td>5</td>\n",
       "      <td>6</td>\n",
       "      <td>5</td>\n",
       "      <td>5</td>\n",
       "      <td>7</td>\n",
       "      <td>7</td>\n",
       "      <td>6</td>\n",
       "      <td>7</td>\n",
       "      <td>7</td>\n",
       "      <td>7</td>\n",
       "      <td>...</td>\n",
       "      <td>7</td>\n",
       "      <td>7</td>\n",
       "      <td>7</td>\n",
       "      <td>7</td>\n",
       "      <td>7</td>\n",
       "      <td>1</td>\n",
       "      <td>7</td>\n",
       "      <td>female</td>\n",
       "      <td>yes_scholship</td>\n",
       "      <td>yes_job</td>\n",
       "    </tr>\n",
       "  </tbody>\n",
       "</table>\n",
       "<p>5 rows × 27 columns</p>\n",
       "</div>"
      ],
      "text/plain": [
       "   num  sup.help  sup.under  sup.safe  sup.conc  adv.comp  adv.acces  \\\n",
       "0    1         7          1         7         4         5          5   \n",
       "1    2         7          1         6         4         6          6   \n",
       "2    3         6          1         6         6         6          6   \n",
       "3    4         1          7         3         1         1          2   \n",
       "4    5         6          5         5         7         7          6   \n",
       "\n",
       "   adv.comm  adv.qual  tut.prof   ...     sat.glad  sat.expe  sat.over  \\\n",
       "0         6         6         5   ...            7         7         7   \n",
       "1         5         6         6   ...            7         7         7   \n",
       "2         6         6         6   ...            7         6         6   \n",
       "3         1         1         3   ...            1         1         1   \n",
       "4         7         7         7   ...            7         7         7   \n",
       "\n",
       "   loy.proud  loy.recom  loy.asha  loy.back  gender   scholarships      job  \n",
       "0          7          7         1         7  female  yes_scholship   no_job  \n",
       "1          7          7         1         7  female  yes_scholship  yes_job  \n",
       "2          7          7         1         7  female  yes_scholship   no_job  \n",
       "3          1          1         7         1    male   no_scholship   no_job  \n",
       "4          7          7         1         7  female  yes_scholship  yes_job  \n",
       "\n",
       "[5 rows x 27 columns]"
      ]
     },
     "execution_count": 3,
     "metadata": {},
     "output_type": "execute_result"
    }
   ],
   "source": [
    "data.head()"
   ]
  },
  {
   "cell_type": "code",
   "execution_count": 4,
   "metadata": {},
   "outputs": [
    {
     "name": "stdout",
     "output_type": "stream",
     "text": [
      "<class 'pandas.core.frame.DataFrame'>\n",
      "RangeIndex: 181 entries, 0 to 180\n",
      "Data columns (total 27 columns):\n",
      "num             181 non-null int64\n",
      "sup.help        181 non-null int64\n",
      "sup.under       181 non-null int64\n",
      "sup.safe        181 non-null int64\n",
      "sup.conc        181 non-null int64\n",
      "adv.comp        181 non-null int64\n",
      "adv.acces       181 non-null int64\n",
      "adv.comm        181 non-null int64\n",
      "adv.qual        181 non-null int64\n",
      "tut.prof        181 non-null int64\n",
      "tut.sched       181 non-null int64\n",
      "tut.stud        181 non-null int64\n",
      "tut.qual        181 non-null int64\n",
      "val.devel       181 non-null int64\n",
      "val.deci        181 non-null int64\n",
      "val.meet        181 non-null int64\n",
      "val.info        181 non-null int64\n",
      "sat.glad        181 non-null int64\n",
      "sat.expe        181 non-null int64\n",
      "sat.over        181 non-null int64\n",
      "loy.proud       181 non-null int64\n",
      "loy.recom       181 non-null int64\n",
      "loy.asha        181 non-null int64\n",
      "loy.back        181 non-null int64\n",
      "gender          181 non-null object\n",
      "scholarships    181 non-null object\n",
      "job             181 non-null object\n",
      "dtypes: int64(24), object(3)\n",
      "memory usage: 38.3+ KB\n"
     ]
    }
   ],
   "source": [
    "data.info()"
   ]
  },
  {
   "cell_type": "code",
   "execution_count": 5,
   "metadata": {},
   "outputs": [
    {
     "data": {
      "text/plain": [
       "num             False\n",
       "sup.help        False\n",
       "sup.under       False\n",
       "sup.safe        False\n",
       "sup.conc        False\n",
       "adv.comp        False\n",
       "adv.acces       False\n",
       "adv.comm        False\n",
       "adv.qual        False\n",
       "tut.prof        False\n",
       "tut.sched       False\n",
       "tut.stud        False\n",
       "tut.qual        False\n",
       "val.devel       False\n",
       "val.deci        False\n",
       "val.meet        False\n",
       "val.info        False\n",
       "sat.glad        False\n",
       "sat.expe        False\n",
       "sat.over        False\n",
       "loy.proud       False\n",
       "loy.recom       False\n",
       "loy.asha        False\n",
       "loy.back        False\n",
       "gender          False\n",
       "scholarships    False\n",
       "job             False\n",
       "dtype: bool"
      ]
     },
     "execution_count": 5,
     "metadata": {},
     "output_type": "execute_result"
    }
   ],
   "source": [
    "data.isnull().any()"
   ]
  },
  {
   "cell_type": "code",
   "execution_count": 6,
   "metadata": {},
   "outputs": [],
   "source": [
    "data_numeric = data.select_dtypes(exclude=\"object\")\n",
    "data_object = data.select_dtypes(include=\"object\")"
   ]
  },
  {
   "cell_type": "code",
   "execution_count": 7,
   "metadata": {},
   "outputs": [
    {
     "data": {
      "image/png": "[encoded data removed]",
      "text/plain": [
       "<Figure size 648x504 with 2 Axes>"
      ]
     },
     "metadata": {},
     "output_type": "display_data"
    }
   ],
   "source": [
    "plt.figure(figsize=(9, 7)) #make the graph bigger\n",
    "sns.heatmap(data_numeric.corr())\n",
    "plt.show()"
   ]
  },
  {
   "cell_type": "code",
   "execution_count": 8,
   "metadata": {},
   "outputs": [
    {
     "data": {
      "text/plain": [
       "num          False\n",
       "sup.help     False\n",
       "sup.under    False\n",
       "sup.safe     False\n",
       "sup.conc     False\n",
       "adv.comp     False\n",
       "adv.acces    False\n",
       "adv.comm     False\n",
       "adv.qual     False\n",
       "tut.prof     False\n",
       "tut.sched    False\n",
       "tut.stud     False\n",
       "tut.qual     False\n",
       "val.devel    False\n",
       "val.deci     False\n",
       "val.meet     False\n",
       "val.info     False\n",
       "sat.glad     False\n",
       "sat.expe     False\n",
       "sat.over     False\n",
       "loy.proud    False\n",
       "loy.recom    False\n",
       "loy.asha     False\n",
       "loy.back     False\n",
       "dtype: bool"
      ]
     },
     "execution_count": 8,
     "metadata": {},
     "output_type": "execute_result"
    }
   ],
   "source": [
    "data_numeric.var()==0"
   ]
  },
  {
   "cell_type": "code",
   "execution_count": 9,
   "metadata": {},
   "outputs": [
    {
     "name": "stdout",
     "output_type": "stream",
     "text": [
      "['female' 'male']\n",
      "['yes_scholship' 'no_scholship']\n",
      "['no_job' 'yes_job']\n"
     ]
    }
   ],
   "source": [
    "for i in data_object.columns:\n",
    "    print(data_object[i].unique())"
   ]
  },
  {
   "cell_type": "code",
   "execution_count": 10,
   "metadata": {},
   "outputs": [
    {
     "data": {
      "text/html": [
       "<div>\n",
       "<style scoped>\n",
       "    .dataframe tbody tr th:only-of-type {\n",
       "        vertical-align: middle;\n",
       "    }\n",
       "\n",
       "    .dataframe tbody tr th {\n",
       "        vertical-align: top;\n",
       "    }\n",
       "\n",
       "    .dataframe thead th {\n",
       "        text-align: right;\n",
       "    }\n",
       "</style>\n",
       "<table border=\"1\" class=\"dataframe\">\n",
       "  <thead>\n",
       "    <tr style=\"text-align: right;\">\n",
       "      <th></th>\n",
       "      <th>gender_male</th>\n",
       "      <th>scholarships_yes_scholship</th>\n",
       "      <th>job_yes_job</th>\n",
       "    </tr>\n",
       "  </thead>\n",
       "  <tbody>\n",
       "    <tr>\n",
       "      <th>0</th>\n",
       "      <td>0</td>\n",
       "      <td>1</td>\n",
       "      <td>0</td>\n",
       "    </tr>\n",
       "    <tr>\n",
       "      <th>1</th>\n",
       "      <td>0</td>\n",
       "      <td>1</td>\n",
       "      <td>1</td>\n",
       "    </tr>\n",
       "    <tr>\n",
       "      <th>2</th>\n",
       "      <td>0</td>\n",
       "      <td>1</td>\n",
       "      <td>0</td>\n",
       "    </tr>\n",
       "    <tr>\n",
       "      <th>3</th>\n",
       "      <td>1</td>\n",
       "      <td>0</td>\n",
       "      <td>0</td>\n",
       "    </tr>\n",
       "    <tr>\n",
       "      <th>4</th>\n",
       "      <td>0</td>\n",
       "      <td>1</td>\n",
       "      <td>1</td>\n",
       "    </tr>\n",
       "  </tbody>\n",
       "</table>\n",
       "</div>"
      ],
      "text/plain": [
       "   gender_male  scholarships_yes_scholship  job_yes_job\n",
       "0            0                           1            0\n",
       "1            0                           1            1\n",
       "2            0                           1            0\n",
       "3            1                           0            0\n",
       "4            0                           1            1"
      ]
     },
     "execution_count": 10,
     "metadata": {},
     "output_type": "execute_result"
    }
   ],
   "source": [
    "data_dummy = pd.get_dummies(data_object,prefix=data_object.columns,drop_first=True)\n",
    "data_dummy.head()"
   ]
  },
  {
   "cell_type": "code",
   "execution_count": 11,
   "metadata": {},
   "outputs": [],
   "source": [
    "data = data_numeric.join(data_dummy)"
   ]
  },
  {
   "cell_type": "code",
   "execution_count": 12,
   "metadata": {},
   "outputs": [],
   "source": [
    "Y=data.loc[:,['sat.glad','sat.expe','sat.over']]\n",
    "X=scale(data.drop(columns=['sat.glad','sat.expe','sat.over']))"
   ]
  },
  {
   "cell_type": "code",
   "execution_count": 13,
   "metadata": {},
   "outputs": [
    {
     "name": "stdout",
     "output_type": "stream",
     "text": [
      "<class 'pandas.core.frame.DataFrame'>\n",
      "RangeIndex: 181 entries, 0 to 180\n",
      "Data columns (total 27 columns):\n",
      "num                           181 non-null int64\n",
      "sup.help                      181 non-null int64\n",
      "sup.under                     181 non-null int64\n",
      "sup.safe                      181 non-null int64\n",
      "sup.conc                      181 non-null int64\n",
      "adv.comp                      181 non-null int64\n",
      "adv.acces                     181 non-null int64\n",
      "adv.comm                      181 non-null int64\n",
      "adv.qual                      181 non-null int64\n",
      "tut.prof                      181 non-null int64\n",
      "tut.sched                     181 non-null int64\n",
      "tut.stud                      181 non-null int64\n",
      "tut.qual                      181 non-null int64\n",
      "val.devel                     181 non-null int64\n",
      "val.deci                      181 non-null int64\n",
      "val.meet                      181 non-null int64\n",
      "val.info                      181 non-null int64\n",
      "sat.glad                      181 non-null int64\n",
      "sat.expe                      181 non-null int64\n",
      "sat.over                      181 non-null int64\n",
      "loy.proud                     181 non-null int64\n",
      "loy.recom                     181 non-null int64\n",
      "loy.asha                      181 non-null int64\n",
      "loy.back                      181 non-null int64\n",
      "gender_male                   181 non-null uint8\n",
      "scholarships_yes_scholship    181 non-null uint8\n",
      "job_yes_job                   181 non-null uint8\n",
      "dtypes: int64(24), uint8(3)\n",
      "memory usage: 34.5 KB\n"
     ]
    }
   ],
   "source": [
    "data.info()"
   ]
  },
  {
   "cell_type": "code",
   "execution_count": 14,
   "metadata": {},
   "outputs": [],
   "source": [
    "x_train, x_test, y_train, y_test = train_test_split(X,Y,test_size=0.25,random_state=42)"
   ]
  },
  {
   "cell_type": "code",
   "execution_count": 15,
   "metadata": {},
   "outputs": [],
   "source": [
    "pls = PLSRegression(14)\n",
    "pls=pls.fit(x_train,y_train)"
   ]
  },
  {
   "cell_type": "code",
   "execution_count": 16,
   "metadata": {},
   "outputs": [],
   "source": [
    "pred=pls.predict(x_test)"
   ]
  },
  {
   "cell_type": "code",
   "execution_count": 17,
   "metadata": {},
   "outputs": [
    {
     "name": "stdout",
     "output_type": "stream",
     "text": [
      "0.38413369003626363\n"
     ]
    }
   ],
   "source": [
    "#R-square\n",
    "pls_r2=pls.score(x_test,y_test)\n",
    "print(pls_r2)"
   ]
  },
  {
   "cell_type": "code",
   "execution_count": 18,
   "metadata": {},
   "outputs": [
    {
     "data": {
      "text/html": [
       "<div>\n",
       "<style scoped>\n",
       "    .dataframe tbody tr th:only-of-type {\n",
       "        vertical-align: middle;\n",
       "    }\n",
       "\n",
       "    .dataframe tbody tr th {\n",
       "        vertical-align: top;\n",
       "    }\n",
       "\n",
       "    .dataframe thead th {\n",
       "        text-align: right;\n",
       "    }\n",
       "</style>\n",
       "<table border=\"1\" class=\"dataframe\">\n",
       "  <thead>\n",
       "    <tr style=\"text-align: right;\">\n",
       "      <th></th>\n",
       "      <th>0</th>\n",
       "      <th>1</th>\n",
       "      <th>2</th>\n",
       "    </tr>\n",
       "  </thead>\n",
       "  <tbody>\n",
       "    <tr>\n",
       "      <th>0</th>\n",
       "      <td>-0.095599</td>\n",
       "      <td>-0.010807</td>\n",
       "      <td>0.012933</td>\n",
       "    </tr>\n",
       "    <tr>\n",
       "      <th>1</th>\n",
       "      <td>-0.076896</td>\n",
       "      <td>-0.019347</td>\n",
       "      <td>-0.076226</td>\n",
       "    </tr>\n",
       "    <tr>\n",
       "      <th>2</th>\n",
       "      <td>-0.020262</td>\n",
       "      <td>-0.097420</td>\n",
       "      <td>-0.042291</td>\n",
       "    </tr>\n",
       "    <tr>\n",
       "      <th>3</th>\n",
       "      <td>0.040228</td>\n",
       "      <td>0.099126</td>\n",
       "      <td>0.039291</td>\n",
       "    </tr>\n",
       "    <tr>\n",
       "      <th>4</th>\n",
       "      <td>0.085048</td>\n",
       "      <td>0.083204</td>\n",
       "      <td>0.006258</td>\n",
       "    </tr>\n",
       "  </tbody>\n",
       "</table>\n",
       "</div>"
      ],
      "text/plain": [
       "          0         1         2\n",
       "0 -0.095599 -0.010807  0.012933\n",
       "1 -0.076896 -0.019347 -0.076226\n",
       "2 -0.020262 -0.097420 -0.042291\n",
       "3  0.040228  0.099126  0.039291\n",
       "4  0.085048  0.083204  0.006258"
      ]
     },
     "execution_count": 18,
     "metadata": {},
     "output_type": "execute_result"
    }
   ],
   "source": [
    "coef=pd.DataFrame(pls.coef_)\n",
    "coef.head()"
   ]
  },
  {
   "cell_type": "code",
   "execution_count": 19,
   "metadata": {},
   "outputs": [
    {
     "data": {
      "text/html": [
       "<div>\n",
       "<style scoped>\n",
       "    .dataframe tbody tr th:only-of-type {\n",
       "        vertical-align: middle;\n",
       "    }\n",
       "\n",
       "    .dataframe tbody tr th {\n",
       "        vertical-align: top;\n",
       "    }\n",
       "\n",
       "    .dataframe thead th {\n",
       "        text-align: right;\n",
       "    }\n",
       "</style>\n",
       "<table border=\"1\" class=\"dataframe\">\n",
       "  <thead>\n",
       "    <tr style=\"text-align: right;\">\n",
       "      <th></th>\n",
       "      <th>0</th>\n",
       "      <th>1</th>\n",
       "      <th>2</th>\n",
       "      <th>3</th>\n",
       "      <th>4</th>\n",
       "      <th>5</th>\n",
       "      <th>6</th>\n",
       "      <th>7</th>\n",
       "      <th>8</th>\n",
       "      <th>9</th>\n",
       "      <th>10</th>\n",
       "      <th>11</th>\n",
       "      <th>12</th>\n",
       "      <th>13</th>\n",
       "    </tr>\n",
       "  </thead>\n",
       "  <tbody>\n",
       "    <tr>\n",
       "      <th>0</th>\n",
       "      <td>1.857638</td>\n",
       "      <td>0.133764</td>\n",
       "      <td>0.853618</td>\n",
       "      <td>-0.100318</td>\n",
       "      <td>-1.185610</td>\n",
       "      <td>0.248376</td>\n",
       "      <td>0.063070</td>\n",
       "      <td>-1.108548</td>\n",
       "      <td>-0.755446</td>\n",
       "      <td>-0.356219</td>\n",
       "      <td>0.253866</td>\n",
       "      <td>0.140257</td>\n",
       "      <td>-0.065964</td>\n",
       "      <td>0.476023</td>\n",
       "    </tr>\n",
       "    <tr>\n",
       "      <th>1</th>\n",
       "      <td>2.415631</td>\n",
       "      <td>0.042520</td>\n",
       "      <td>-0.115469</td>\n",
       "      <td>-1.361089</td>\n",
       "      <td>-0.093698</td>\n",
       "      <td>0.744205</td>\n",
       "      <td>-1.260321</td>\n",
       "      <td>-0.347833</td>\n",
       "      <td>-0.637110</td>\n",
       "      <td>-0.469920</td>\n",
       "      <td>0.141148</td>\n",
       "      <td>-0.208698</td>\n",
       "      <td>-0.172560</td>\n",
       "      <td>-0.757264</td>\n",
       "    </tr>\n",
       "    <tr>\n",
       "      <th>2</th>\n",
       "      <td>2.945618</td>\n",
       "      <td>-0.957652</td>\n",
       "      <td>0.682871</td>\n",
       "      <td>-0.474348</td>\n",
       "      <td>1.006220</td>\n",
       "      <td>-0.716889</td>\n",
       "      <td>-0.076299</td>\n",
       "      <td>0.151221</td>\n",
       "      <td>0.293680</td>\n",
       "      <td>0.349724</td>\n",
       "      <td>1.108010</td>\n",
       "      <td>0.505187</td>\n",
       "      <td>0.145707</td>\n",
       "      <td>0.310175</td>\n",
       "    </tr>\n",
       "    <tr>\n",
       "      <th>3</th>\n",
       "      <td>-7.859322</td>\n",
       "      <td>-1.977142</td>\n",
       "      <td>-0.105344</td>\n",
       "      <td>0.851490</td>\n",
       "      <td>-0.547091</td>\n",
       "      <td>0.052130</td>\n",
       "      <td>-0.211254</td>\n",
       "      <td>0.090682</td>\n",
       "      <td>-0.282570</td>\n",
       "      <td>0.690123</td>\n",
       "      <td>0.507285</td>\n",
       "      <td>-0.119420</td>\n",
       "      <td>0.223559</td>\n",
       "      <td>1.112185</td>\n",
       "    </tr>\n",
       "    <tr>\n",
       "      <th>4</th>\n",
       "      <td>-1.926817</td>\n",
       "      <td>1.610129</td>\n",
       "      <td>0.058334</td>\n",
       "      <td>-1.839356</td>\n",
       "      <td>-0.827321</td>\n",
       "      <td>-1.215046</td>\n",
       "      <td>1.002554</td>\n",
       "      <td>1.222161</td>\n",
       "      <td>-0.252264</td>\n",
       "      <td>-0.754077</td>\n",
       "      <td>0.645667</td>\n",
       "      <td>0.628390</td>\n",
       "      <td>-0.113929</td>\n",
       "      <td>0.928457</td>\n",
       "    </tr>\n",
       "    <tr>\n",
       "      <th>5</th>\n",
       "      <td>-2.733119</td>\n",
       "      <td>1.307467</td>\n",
       "      <td>1.299109</td>\n",
       "      <td>-1.056002</td>\n",
       "      <td>0.360008</td>\n",
       "      <td>0.083702</td>\n",
       "      <td>0.254735</td>\n",
       "      <td>-0.800398</td>\n",
       "      <td>-1.484346</td>\n",
       "      <td>0.680573</td>\n",
       "      <td>0.994766</td>\n",
       "      <td>0.064882</td>\n",
       "      <td>1.010613</td>\n",
       "      <td>0.016595</td>\n",
       "    </tr>\n",
       "    <tr>\n",
       "      <th>6</th>\n",
       "      <td>1.800679</td>\n",
       "      <td>0.058056</td>\n",
       "      <td>0.641305</td>\n",
       "      <td>1.393090</td>\n",
       "      <td>0.148011</td>\n",
       "      <td>0.536589</td>\n",
       "      <td>0.371035</td>\n",
       "      <td>-0.368013</td>\n",
       "      <td>0.300851</td>\n",
       "      <td>-0.887589</td>\n",
       "      <td>-0.557356</td>\n",
       "      <td>-0.161247</td>\n",
       "      <td>0.517732</td>\n",
       "      <td>0.557692</td>\n",
       "    </tr>\n",
       "    <tr>\n",
       "      <th>7</th>\n",
       "      <td>1.104821</td>\n",
       "      <td>-0.036885</td>\n",
       "      <td>1.469941</td>\n",
       "      <td>-0.487139</td>\n",
       "      <td>-0.534424</td>\n",
       "      <td>-1.005593</td>\n",
       "      <td>1.848469</td>\n",
       "      <td>-0.016477</td>\n",
       "      <td>-0.368723</td>\n",
       "      <td>0.451757</td>\n",
       "      <td>-0.122262</td>\n",
       "      <td>0.394535</td>\n",
       "      <td>-0.088417</td>\n",
       "      <td>-0.476425</td>\n",
       "    </tr>\n",
       "    <tr>\n",
       "      <th>8</th>\n",
       "      <td>-2.846298</td>\n",
       "      <td>-0.021633</td>\n",
       "      <td>0.315441</td>\n",
       "      <td>-0.171007</td>\n",
       "      <td>-0.229715</td>\n",
       "      <td>1.008104</td>\n",
       "      <td>-0.846424</td>\n",
       "      <td>0.953826</td>\n",
       "      <td>-0.516247</td>\n",
       "      <td>-1.104426</td>\n",
       "      <td>-1.096538</td>\n",
       "      <td>-0.646511</td>\n",
       "      <td>-0.386780</td>\n",
       "      <td>-0.005741</td>\n",
       "    </tr>\n",
       "    <tr>\n",
       "      <th>9</th>\n",
       "      <td>0.831954</td>\n",
       "      <td>-0.035521</td>\n",
       "      <td>-0.669536</td>\n",
       "      <td>1.911785</td>\n",
       "      <td>-1.591215</td>\n",
       "      <td>-0.272532</td>\n",
       "      <td>0.138596</td>\n",
       "      <td>0.456388</td>\n",
       "      <td>0.510611</td>\n",
       "      <td>0.680563</td>\n",
       "      <td>-0.921015</td>\n",
       "      <td>0.353841</td>\n",
       "      <td>0.452556</td>\n",
       "      <td>0.038058</td>\n",
       "    </tr>\n",
       "  </tbody>\n",
       "</table>\n",
       "</div>"
      ],
      "text/plain": [
       "         0         1         2         3         4         5         6   \\\n",
       "0  1.857638  0.133764  0.853618 -0.100318 -1.185610  0.248376  0.063070   \n",
       "1  2.415631  0.042520 -0.115469 -1.361089 -0.093698  0.744205 -1.260321   \n",
       "2  2.945618 -0.957652  0.682871 -0.474348  1.006220 -0.716889 -0.076299   \n",
       "3 -7.859322 -1.977142 -0.105344  0.851490 -0.547091  0.052130 -0.211254   \n",
       "4 -1.926817  1.610129  0.058334 -1.839356 -0.827321 -1.215046  1.002554   \n",
       "5 -2.733119  1.307467  1.299109 -1.056002  0.360008  0.083702  0.254735   \n",
       "6  1.800679  0.058056  0.641305  1.393090  0.148011  0.536589  0.371035   \n",
       "7  1.104821 -0.036885  1.469941 -0.487139 -0.534424 -1.005593  1.848469   \n",
       "8 -2.846298 -0.021633  0.315441 -0.171007 -0.229715  1.008104 -0.846424   \n",
       "9  0.831954 -0.035521 -0.669536  1.911785 -1.591215 -0.272532  0.138596   \n",
       "\n",
       "         7         8         9         10        11        12        13  \n",
       "0 -1.108548 -0.755446 -0.356219  0.253866  0.140257 -0.065964  0.476023  \n",
       "1 -0.347833 -0.637110 -0.469920  0.141148 -0.208698 -0.172560 -0.757264  \n",
       "2  0.151221  0.293680  0.349724  1.108010  0.505187  0.145707  0.310175  \n",
       "3  0.090682 -0.282570  0.690123  0.507285 -0.119420  0.223559  1.112185  \n",
       "4  1.222161 -0.252264 -0.754077  0.645667  0.628390 -0.113929  0.928457  \n",
       "5 -0.800398 -1.484346  0.680573  0.994766  0.064882  1.010613  0.016595  \n",
       "6 -0.368013  0.300851 -0.887589 -0.557356 -0.161247  0.517732  0.557692  \n",
       "7 -0.016477 -0.368723  0.451757 -0.122262  0.394535 -0.088417 -0.476425  \n",
       "8  0.953826 -0.516247 -1.104426 -1.096538 -0.646511 -0.386780 -0.005741  \n",
       "9  0.456388  0.510611  0.680563 -0.921015  0.353841  0.452556  0.038058  "
      ]
     },
     "execution_count": 19,
     "metadata": {},
     "output_type": "execute_result"
    }
   ],
   "source": [
    "sc=pd.DataFrame(pls.x_scores_)\n",
    "sc.head(10)"
   ]
  },
  {
   "cell_type": "code",
   "execution_count": 20,
   "metadata": {},
   "outputs": [
    {
     "name": "stdout",
     "output_type": "stream",
     "text": [
      "[9.2525381  1.23121137 1.34089609 1.08137006 0.79987243 0.85824961\n",
      " 0.68189272 0.5069814  0.55528937 0.55930164 0.43866701 0.43160934\n",
      " 0.26798586 0.32060981]\n"
     ]
    }
   ],
   "source": [
    "var_xcores=np.var(pls.x_scores_,axis=0)\n",
    "print(var_xcores)"
   ]
  },
  {
   "cell_type": "code",
   "execution_count": 21,
   "metadata": {},
   "outputs": [
    {
     "name": "stdout",
     "output_type": "stream",
     "text": [
      "25.07465087249158\n"
     ]
    }
   ],
   "source": [
    "total_var=np.sum(np.var(x_train,axis=0))\n",
    "print(total_var)"
   ]
  },
  {
   "cell_type": "code",
   "execution_count": 22,
   "metadata": {},
   "outputs": [],
   "source": [
    "X_Variance=pd.DataFrame((var_xcores/total_var).round(3), columns={\"X_Variance\"}).reset_index()"
   ]
  },
  {
   "cell_type": "code",
   "execution_count": 23,
   "metadata": {},
   "outputs": [
    {
     "name": "stdout",
     "output_type": "stream",
     "text": [
      "    Latent_Factors  X_Variance  Cummulative_X_Variance\n",
      "0                0       0.369                   0.369\n",
      "1                1       0.049                   0.418\n",
      "2                2       0.053                   0.471\n",
      "3                3       0.043                   0.514\n",
      "4                4       0.032                   0.546\n",
      "5                5       0.034                   0.580\n",
      "6                6       0.027                   0.607\n",
      "7                7       0.020                   0.627\n",
      "8                8       0.022                   0.649\n",
      "9                9       0.022                   0.671\n",
      "10              10       0.017                   0.688\n",
      "11              11       0.017                   0.705\n",
      "12              12       0.011                   0.716\n",
      "13              13       0.013                   0.729\n"
     ]
    }
   ],
   "source": [
    "X_Variance = X_Variance.rename(columns={'index': 'Latent_Factors'})\n",
    "X_Variance['Cummulative_X_Variance'] = X_Variance['X_Variance'].cumsum().round(3) #calculates cummulative variance\n",
    "print(X_Variance)"
   ]
  },
  {
   "cell_type": "code",
   "execution_count": 24,
   "metadata": {},
   "outputs": [
    {
     "data": {
      "image/png": "[encoded data removed]",
      "text/plain": [
       "<Figure size 432x288 with 1 Axes>"
      ]
     },
     "metadata": {},
     "output_type": "display_data"
    }
   ],
   "source": [
    "plt.plot(X_Variance.Latent_Factors,X_Variance.Cummulative_X_Variance)\n",
    "plt.show()"
   ]
  },
  {
   "cell_type": "code",
   "execution_count": 67,
   "metadata": {},
   "outputs": [],
   "source": [
    "pls = PLSRegression(12)\n",
    "pls=pls.fit(x_train,y_train)"
   ]
  },
  {
   "cell_type": "code",
   "execution_count": 68,
   "metadata": {},
   "outputs": [
    {
     "name": "stdout",
     "output_type": "stream",
     "text": [
      "0.38835863643440255\n"
     ]
    }
   ],
   "source": [
    "pred=pls.predict(x_test)\n",
    "pls_r2=pls.score(x_test,y_test)\n",
    "print(pls_r2)"
   ]
  },
  {
   "cell_type": "code",
   "execution_count": 69,
   "metadata": {},
   "outputs": [
    {
     "name": "stdout",
     "output_type": "stream",
     "text": [
      "[9.2525381  1.23121137 1.34089609 1.08137006 0.79987243 0.85824961\n",
      " 0.68189272 0.5069814  0.55528937 0.55930164 0.43866701 0.43160934]\n",
      "25.07465087249158\n"
     ]
    }
   ],
   "source": [
    "var_xcores=np.var(pls.x_scores_,axis=0)\n",
    "print(var_xcores)\n",
    "total_var=np.sum(np.var(x_train,axis=0))\n",
    "print(total_var)"
   ]
  },
  {
   "cell_type": "code",
   "execution_count": 70,
   "metadata": {},
   "outputs": [
    {
     "name": "stdout",
     "output_type": "stream",
     "text": [
      "    Latent_Factors  X_Variance  Cummulative_X_Variance\n",
      "0                0       0.369                   0.369\n",
      "1                1       0.049                   0.418\n",
      "2                2       0.053                   0.471\n",
      "3                3       0.043                   0.514\n",
      "4                4       0.032                   0.546\n",
      "5                5       0.034                   0.580\n",
      "6                6       0.027                   0.607\n",
      "7                7       0.020                   0.627\n",
      "8                8       0.022                   0.649\n",
      "9                9       0.022                   0.671\n",
      "10              10       0.017                   0.688\n",
      "11              11       0.017                   0.705\n"
     ]
    }
   ],
   "source": [
    "X_Variance=pd.DataFrame((var_xcores/total_var).round(3), columns={\"X_Variance\"}).reset_index()\n",
    "X_Variance = X_Variance.rename(columns={'index': 'Latent_Factors'})\n",
    "X_Variance['Cummulative_X_Variance'] = X_Variance['X_Variance'].cumsum().round(3) #calculates cummulative variance\n",
    "print(X_Variance)"
   ]
  },
  {
   "cell_type": "markdown",
   "metadata": {},
   "source": [
    "# Linear Regression"
   ]
  },
  {
   "cell_type": "code",
   "execution_count": 25,
   "metadata": {},
   "outputs": [
    {
     "name": "stdout",
     "output_type": "stream",
     "text": [
      "0.5890058794716073\n"
     ]
    }
   ],
   "source": [
    "lin_reg=LinearRegression().fit(X,Y)\n",
    "pr_l=lin_reg.predict(x_test)\n",
    "Linear_r2=r2_score(y_test,pr_l)\n",
    "print(Linear_r2)"
   ]
  },
  {
   "cell_type": "code",
   "execution_count": 26,
   "metadata": {},
   "outputs": [
    {
     "name": "stdout",
     "output_type": "stream",
     "text": [
      "0.38413369003626363 0.5890058794716073\n"
     ]
    }
   ],
   "source": [
    "print(pls_r2,Linear_r2)"
   ]
  }
 ],
 "metadata": {
  "kernelspec": {
   "display_name": "Python 3",
   "language": "python",
   "name": "python3"
  },
  "language_info": {
   "codemirror_mode": {
    "name": "ipython",
    "version": 3
   },
   "file_extension": ".py",
   "mimetype": "text/x-python",
   "name": "python",
   "nbconvert_exporter": "python",
   "pygments_lexer": "ipython3",
   "version": "3.6.5"
  }
 },
 "nbformat": 4,
 "nbformat_minor": 2
}
