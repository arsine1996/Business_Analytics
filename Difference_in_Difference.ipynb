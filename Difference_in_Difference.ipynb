{
 "cells": [
  {
   "cell_type": "markdown",
   "metadata": {},
   "source": [
    "## The Effect Of Cigarette Taxes On Tobacco Consumption"
   ]
  },
  {
   "cell_type": "markdown",
   "metadata": {},
   "source": [
    "All states and the Federal government levy excise taxes on cigarettes. Here, we will examine how a large tax hike altered smoking rates in an important and interesting population. In 1993, the Michigan legislature raised the cigarette tax from 25 to 75 cents per pack. The higher tax rate went into effect on May 1, 1994. The Surgeon General of the US estimates that smoking during pregnancy doubles the chance a baby will be born with a low birth weight (<2500 grams). 17 percent of births are to women who smoked during their pregnancy. In recent years, a number of public health officials have suggested that higher cigarette taxes can be used as way to improve birth outcomes. We will use the data from the Michigan “experiment” to evaluate this conjecture. The data for this project are taken from the Natality Detail File, which is an annual census of births in the US. I have taken a 5% random sample of births for the state of Michigan for the 32 months prior and 24 months after the tax hike. I have also include a 5% random sample of data over the same period for two states that had no nominal change in their state cigarette tax rates over this period: Iowa and Pennsylvania. "
   ]
  },
  {
   "cell_type": "markdown",
   "metadata": {},
   "source": [
    "Variable Definition\n",
    "MONTH This is an index that equals 1 in the first month (September 1991) 2 in the second (October 1991), through month 56. Month 33 is the month the new tax went into effect (May of 1994).\n",
    "1. STATE 2-digit state FIPS code. Michigan is state 26.\n",
    "\n",
    "2. SMOKED Dummy variable, =1 if a mother self-reported that she smoked during her pregnancy, =0 otherwise.\n",
    "\n",
    "3. MRACE3 3 level variable, =1 if mother wife, =2 if Black, =3 if other race. \n",
    "\n",
    "4. MEDUC6 6-level variable for mother’s education: =1 if <9 years, =2 if 9-11 years, =3 if 12 years, =4 if 13-15 years, =5 if 16+ years, =6 if education was not reported.\n",
    "\n",
    "5. PARITY 4-level variable for mother’s parity of birth. =1 if this is the first birth, =2 if the second birth, =3 if third birth, =4 if fourth or higher birth.\n",
    "\n",
    "6. HISPANIC Dummy variable, =1 if mother is Hispanic, =0 otherwise.\n",
    "\n",
    "7. MARRIED Dummy variable, =1 if mother is married, =0 otherwise.\n",
    "\n",
    "Treat the data from Iowa and Pennsylvania as one control group.\n"
   ]
  },
  {
   "cell_type": "code",
   "execution_count": 5,
   "metadata": {},
   "outputs": [],
   "source": [
    "#This is the code that will load the dataset you need. "
   ]
  },
  {
   "cell_type": "code",
   "execution_count": 40,
   "metadata": {},
   "outputs": [],
   "source": [
    "#Import basic libariaries\n",
    "%matplotlib inline\n",
    "import math\n",
    "import numpy as np\n",
    "import scipy\n",
    "from scipy.stats import binom, hypergeom\n",
    "import pandas as pd\n",
    "import matplotlib.pyplot as plt\n",
    "import seaborn as sns\n",
    "import statsmodels.api as sm"
   ]
  },
  {
   "cell_type": "code",
   "execution_count": 7,
   "metadata": {},
   "outputs": [],
   "source": [
    "df=pd.read_excel('Michigan.xlsx')"
   ]
  },
  {
   "cell_type": "code",
   "execution_count": 8,
   "metadata": {},
   "outputs": [],
   "source": [
    "#Please load all the other libraries as you find them necessary for your assignment!. Good luck!!!"
   ]
  },
  {
   "cell_type": "code",
   "execution_count": 9,
   "metadata": {},
   "outputs": [
    {
     "data": {
      "text/html": [
       "<div>\n",
       "<style scoped>\n",
       "    .dataframe tbody tr th:only-of-type {\n",
       "        vertical-align: middle;\n",
       "    }\n",
       "\n",
       "    .dataframe tbody tr th {\n",
       "        vertical-align: top;\n",
       "    }\n",
       "\n",
       "    .dataframe thead th {\n",
       "        text-align: right;\n",
       "    }\n",
       "</style>\n",
       "<table border=\"1\" class=\"dataframe\">\n",
       "  <thead>\n",
       "    <tr style=\"text-align: right;\">\n",
       "      <th></th>\n",
       "      <th>state</th>\n",
       "      <th>month</th>\n",
       "      <th>smoked</th>\n",
       "      <th>ageg</th>\n",
       "      <th>mrace3</th>\n",
       "      <th>parity</th>\n",
       "      <th>meduc6</th>\n",
       "      <th>married</th>\n",
       "      <th>hispanic</th>\n",
       "    </tr>\n",
       "  </thead>\n",
       "  <tbody>\n",
       "    <tr>\n",
       "      <th>0</th>\n",
       "      <td>19</td>\n",
       "      <td>4</td>\n",
       "      <td>0</td>\n",
       "      <td>3</td>\n",
       "      <td>1</td>\n",
       "      <td>2</td>\n",
       "      <td>3</td>\n",
       "      <td>1</td>\n",
       "      <td>1</td>\n",
       "    </tr>\n",
       "    <tr>\n",
       "      <th>1</th>\n",
       "      <td>19</td>\n",
       "      <td>3</td>\n",
       "      <td>0</td>\n",
       "      <td>2</td>\n",
       "      <td>1</td>\n",
       "      <td>1</td>\n",
       "      <td>4</td>\n",
       "      <td>0</td>\n",
       "      <td>0</td>\n",
       "    </tr>\n",
       "    <tr>\n",
       "      <th>2</th>\n",
       "      <td>19</td>\n",
       "      <td>2</td>\n",
       "      <td>0</td>\n",
       "      <td>4</td>\n",
       "      <td>1</td>\n",
       "      <td>2</td>\n",
       "      <td>5</td>\n",
       "      <td>1</td>\n",
       "      <td>0</td>\n",
       "    </tr>\n",
       "    <tr>\n",
       "      <th>3</th>\n",
       "      <td>19</td>\n",
       "      <td>2</td>\n",
       "      <td>0</td>\n",
       "      <td>2</td>\n",
       "      <td>1</td>\n",
       "      <td>1</td>\n",
       "      <td>3</td>\n",
       "      <td>1</td>\n",
       "      <td>0</td>\n",
       "    </tr>\n",
       "    <tr>\n",
       "      <th>4</th>\n",
       "      <td>19</td>\n",
       "      <td>2</td>\n",
       "      <td>0</td>\n",
       "      <td>1</td>\n",
       "      <td>2</td>\n",
       "      <td>1</td>\n",
       "      <td>1</td>\n",
       "      <td>0</td>\n",
       "      <td>0</td>\n",
       "    </tr>\n",
       "  </tbody>\n",
       "</table>\n",
       "</div>"
      ],
      "text/plain": [
       "   state  month  smoked  ageg  mrace3  parity  meduc6  married  hispanic\n",
       "0     19      4       0     3       1       2       3        1         1\n",
       "1     19      3       0     2       1       1       4        0         0\n",
       "2     19      2       0     4       1       2       5        1         0\n",
       "3     19      2       0     2       1       1       3        1         0\n",
       "4     19      2       0     1       2       1       1        0         0"
      ]
     },
     "execution_count": 9,
     "metadata": {},
     "output_type": "execute_result"
    }
   ],
   "source": [
    "df.head()"
   ]
  },
  {
   "cell_type": "markdown",
   "metadata": {},
   "source": [
    "### Answer to question 1"
   ]
  },
  {
   "cell_type": "markdown",
   "metadata": {},
   "source": [
    "Question 1. Construct two variables: A dummy variable for Michigan (name it MI) and another for the period after the tax rate is increased (HIKE). Calculate the mean smoking rate before and after the tax hike for Michigan and the control group. Using these means, calculate the difference in difference estimate of the impact of higher taxes on smoking in Michigan."
   ]
  },
  {
   "cell_type": "code",
   "execution_count": 10,
   "metadata": {},
   "outputs": [
    {
     "data": {
      "text/plain": [
       "42    36538\n",
       "26    30733\n",
       "19     8755\n",
       "Name: state, dtype: int64"
      ]
     },
     "execution_count": 10,
     "metadata": {},
     "output_type": "execute_result"
    }
   ],
   "source": [
    "df.state.value_counts()"
   ]
  },
  {
   "cell_type": "code",
   "execution_count": 14,
   "metadata": {},
   "outputs": [],
   "source": [
    "MI=[]\n",
    "for i in range(0,df.shape[0]):\n",
    "    if df.state[i]==26:\n",
    "        MI.append(1)\n",
    "    else:\n",
    "        MI.append(0)"
   ]
  },
  {
   "cell_type": "code",
   "execution_count": 20,
   "metadata": {},
   "outputs": [],
   "source": [
    "df['MI']=MI"
   ]
  },
  {
   "cell_type": "code",
   "execution_count": 24,
   "metadata": {},
   "outputs": [
    {
     "data": {
      "text/plain": [
       "42    36538\n",
       "26    30733\n",
       "19     8755\n",
       "Name: state, dtype: int64"
      ]
     },
     "execution_count": 24,
     "metadata": {},
     "output_type": "execute_result"
    }
   ],
   "source": [
    "df['state'].value_counts()"
   ]
  },
  {
   "cell_type": "code",
   "execution_count": 23,
   "metadata": {},
   "outputs": [
    {
     "data": {
      "text/plain": [
       "0    45293\n",
       "1    30733\n",
       "Name: MI, dtype: int64"
      ]
     },
     "execution_count": 23,
     "metadata": {},
     "output_type": "execute_result"
    }
   ],
   "source": [
    "df.MI.value_counts()"
   ]
  },
  {
   "cell_type": "code",
   "execution_count": 25,
   "metadata": {},
   "outputs": [],
   "source": [
    "HIKE=[]\n",
    "for i in range(0,df.shape[0]):\n",
    "    if df.month[i]>=33:\n",
    "        HIKE.append(1)\n",
    "    else:\n",
    "        HIKE.append(0)"
   ]
  },
  {
   "cell_type": "code",
   "execution_count": 26,
   "metadata": {},
   "outputs": [],
   "source": [
    "df['HIKE']=HIKE"
   ]
  },
  {
   "cell_type": "code",
   "execution_count": 30,
   "metadata": {},
   "outputs": [
    {
     "data": {
      "text/html": [
       "<div>\n",
       "<style scoped>\n",
       "    .dataframe tbody tr th:only-of-type {\n",
       "        vertical-align: middle;\n",
       "    }\n",
       "\n",
       "    .dataframe tbody tr th {\n",
       "        vertical-align: top;\n",
       "    }\n",
       "\n",
       "    .dataframe thead th {\n",
       "        text-align: right;\n",
       "    }\n",
       "</style>\n",
       "<table border=\"1\" class=\"dataframe\">\n",
       "  <thead>\n",
       "    <tr style=\"text-align: right;\">\n",
       "      <th>MI</th>\n",
       "      <th>0</th>\n",
       "      <th>1</th>\n",
       "    </tr>\n",
       "    <tr>\n",
       "      <th>HIKE</th>\n",
       "      <th></th>\n",
       "      <th></th>\n",
       "    </tr>\n",
       "  </thead>\n",
       "  <tbody>\n",
       "    <tr>\n",
       "      <th>0</th>\n",
       "      <td>0.195000</td>\n",
       "      <td>0.195728</td>\n",
       "    </tr>\n",
       "    <tr>\n",
       "      <th>1</th>\n",
       "      <td>0.182792</td>\n",
       "      <td>0.178320</td>\n",
       "    </tr>\n",
       "  </tbody>\n",
       "</table>\n",
       "</div>"
      ],
      "text/plain": [
       "MI           0         1\n",
       "HIKE                    \n",
       "0     0.195000  0.195728\n",
       "1     0.182792  0.178320"
      ]
     },
     "execution_count": 30,
     "metadata": {},
     "output_type": "execute_result"
    }
   ],
   "source": [
    "table = pd.pivot_table(df, values='smoked', index=['HIKE'],columns=['MI'], aggfunc=np.mean)\n",
    "table"
   ]
  },
  {
   "cell_type": "code",
   "execution_count": 43,
   "metadata": {},
   "outputs": [
    {
     "name": "stdout",
     "output_type": "stream",
     "text": [
      "dif_1= -0.0174\n",
      "dif_2= -0.0122\n",
      "dif_3= -0.0052\n"
     ]
    }
   ],
   "source": [
    "# dif_1 = the effect of law in the treatment group (Michigan)\n",
    "# dif_2 = the effect of law in the control group (Iowa and Pennsylvania)\n",
    "# dif_3 = the total effect of law in the treatment group \n",
    "\n",
    "dif_1 = 0.178320-0.195728\n",
    "dif_2 = 0.182792-0.195000\n",
    "dif_3 = dif_1-dif_2\n",
    "\n",
    "print ('dif_1=',round(dif_1,4))\n",
    "print ('dif_2=',round(dif_2,4))\n",
    "print ('dif_3=',round(dif_3,4))"
   ]
  },
  {
   "cell_type": "markdown",
   "metadata": {},
   "source": [
    "#### The overall effect of taxes in Michigan is around 0.5% decrease in the smoking rate"
   ]
  },
  {
   "cell_type": "markdown",
   "metadata": {},
   "source": [
    "### Answer to question 2"
   ]
  },
  {
   "cell_type": "markdown",
   "metadata": {},
   "source": [
    "Question 2. Using the two variables from Question 1 above and any other necessary variables, calculate a “difference in difference” estimate in a regression framework. How does this estimate compare to the estimate from question 1? Did the tax hike reduce smoking rates by a statistically significant amount?"
   ]
  },
  {
   "cell_type": "code",
   "execution_count": 36,
   "metadata": {},
   "outputs": [],
   "source": [
    "product=[]\n",
    "for i in range(0,df.shape[0]):\n",
    "    product.append(df.HIKE[i]*df.MI[i])\n"
   ]
  },
  {
   "cell_type": "code",
   "execution_count": 37,
   "metadata": {},
   "outputs": [],
   "source": [
    "df['product']=product"
   ]
  },
  {
   "cell_type": "code",
   "execution_count": 46,
   "metadata": {},
   "outputs": [
    {
     "data": {
      "text/plain": [
       "0    44231\n",
       "1    31795\n",
       "Name: HIKE, dtype: int64"
      ]
     },
     "execution_count": 46,
     "metadata": {},
     "output_type": "execute_result"
    }
   ],
   "source": [
    "df['HIKE'].value_counts()"
   ]
  },
  {
   "cell_type": "code",
   "execution_count": 45,
   "metadata": {},
   "outputs": [
    {
     "data": {
      "text/plain": [
       "0    63083\n",
       "1    12943\n",
       "Name: product, dtype: int64"
      ]
     },
     "execution_count": 45,
     "metadata": {},
     "output_type": "execute_result"
    }
   ],
   "source": [
    "df['product'].value_counts()"
   ]
  },
  {
   "cell_type": "code",
   "execution_count": 48,
   "metadata": {},
   "outputs": [
    {
     "data": {
      "text/html": [
       "<div>\n",
       "<style scoped>\n",
       "    .dataframe tbody tr th:only-of-type {\n",
       "        vertical-align: middle;\n",
       "    }\n",
       "\n",
       "    .dataframe tbody tr th {\n",
       "        vertical-align: top;\n",
       "    }\n",
       "\n",
       "    .dataframe thead th {\n",
       "        text-align: right;\n",
       "    }\n",
       "</style>\n",
       "<table border=\"1\" class=\"dataframe\">\n",
       "  <thead>\n",
       "    <tr style=\"text-align: right;\">\n",
       "      <th>MI</th>\n",
       "      <th>0</th>\n",
       "      <th>1</th>\n",
       "    </tr>\n",
       "    <tr>\n",
       "      <th>HIKE</th>\n",
       "      <th></th>\n",
       "      <th></th>\n",
       "    </tr>\n",
       "  </thead>\n",
       "  <tbody>\n",
       "    <tr>\n",
       "      <th>0</th>\n",
       "      <td>26441</td>\n",
       "      <td>17790</td>\n",
       "    </tr>\n",
       "    <tr>\n",
       "      <th>1</th>\n",
       "      <td>18852</td>\n",
       "      <td>12943</td>\n",
       "    </tr>\n",
       "  </tbody>\n",
       "</table>\n",
       "</div>"
      ],
      "text/plain": [
       "MI        0      1\n",
       "HIKE              \n",
       "0     26441  17790\n",
       "1     18852  12943"
      ]
     },
     "execution_count": 48,
     "metadata": {},
     "output_type": "execute_result"
    }
   ],
   "source": [
    "table1 = pd.pivot_table(df, values='smoked', index=['HIKE'],columns=['MI'], aggfunc='count')\n",
    "table1"
   ]
  },
  {
   "cell_type": "code",
   "execution_count": 38,
   "metadata": {},
   "outputs": [],
   "source": [
    "Y=df.smoked\n",
    "X=df.loc[:,['HIKE','MI','product']]"
   ]
  },
  {
   "cell_type": "code",
   "execution_count": 41,
   "metadata": {},
   "outputs": [],
   "source": [
    "X=sm.tools.tools.add_constant(X, prepend=True, has_constant='skip')"
   ]
  },
  {
   "cell_type": "code",
   "execution_count": 42,
   "metadata": {},
   "outputs": [
    {
     "name": "stdout",
     "output_type": "stream",
     "text": [
      "                            OLS Regression Results                            \n",
      "==============================================================================\n",
      "Dep. Variable:                 smoked   R-squared:                       0.000\n",
      "Model:                            OLS   Adj. R-squared:                  0.000\n",
      "Method:                 Least Squares   F-statistic:                     8.588\n",
      "Date:                Thu, 16 May 2019   Prob (F-statistic):           1.07e-05\n",
      "Time:                        17:05:15   Log-Likelihood:                -36617.\n",
      "No. Observations:               76026   AIC:                         7.324e+04\n",
      "Df Residuals:                   76022   BIC:                         7.328e+04\n",
      "Df Model:                           3                                         \n",
      "Covariance Type:            nonrobust                                         \n",
      "==============================================================================\n",
      "                 coef    std err          t      P>|t|      [0.025      0.975]\n",
      "------------------------------------------------------------------------------\n",
      "const          0.1950      0.002     80.952      0.000       0.190       0.200\n",
      "HIKE          -0.0122      0.004     -3.270      0.001      -0.020      -0.005\n",
      "MI             0.0007      0.004      0.192      0.848      -0.007       0.008\n",
      "product       -0.0052      0.006     -0.886      0.375      -0.017       0.006\n",
      "==============================================================================\n",
      "Omnibus:                    17513.772   Durbin-Watson:                   1.941\n",
      "Prob(Omnibus):                  0.000   Jarque-Bera (JB):            32690.204\n",
      "Skew:                           1.585   Prob(JB):                         0.00\n",
      "Kurtosis:                       3.516   Cond. No.                         6.06\n",
      "==============================================================================\n",
      "\n",
      "Warnings:\n",
      "[1] Standard Errors assume that the covariance matrix of the errors is correctly specified.\n"
     ]
    }
   ],
   "source": [
    "model = sm.OLS(Y, X)\n",
    "model_fit = model.fit(disp=0)\n",
    "print(model_fit.summary())"
   ]
  },
  {
   "cell_type": "markdown",
   "metadata": {},
   "source": [
    "#### From the result summary, we can see that the Hike variable is significant and negative, meaning that it will reduce the smotking. "
   ]
  },
  {
   "cell_type": "code",
   "execution_count": null,
   "metadata": {},
   "outputs": [],
   "source": []
  }
 ],
 "metadata": {
  "kernelspec": {
   "display_name": "Python 3",
   "language": "python",
   "name": "python3"
  },
  "language_info": {
   "codemirror_mode": {
    "name": "ipython",
    "version": 3
   },
   "file_extension": ".py",
   "mimetype": "text/x-python",
   "name": "python",
   "nbconvert_exporter": "python",
   "pygments_lexer": "ipython3",
   "version": "3.7.1"
  }
 },
 "nbformat": 4,
 "nbformat_minor": 2
}
