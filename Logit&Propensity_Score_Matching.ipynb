{
 "cells": [
  {
   "cell_type": "markdown",
   "metadata": {},
   "source": [
    "## Logistic regression and Propensity score matching"
   ]
  },
  {
   "cell_type": "markdown",
   "metadata": {},
   "source": [
    "   \n",
    "You are provided with data on Armenian Labor Market for 2012 (female data only, Yerevan only). \n",
    "\n",
    "1.\tTo start with provide data description, plot a figure that would provide info whether women having children of 6 or younger are more active in labor marketn than other women (you decide on the type of figure that would communicate such info). \n",
    "\n",
    "2.\tRun a logistic regression that would predict the labor market activity (being active (employed or unemployed) or inactive (out of labor force) probability of the female based on the characteristics provided in the dataset. Obtain the odds ratios and comment on them. \n",
    "\n",
    "3.\tIn 2011 Yerevan city hall issued a decree that was prescribing all kindergartens to be free for residents of Yerevan. Other things being equal, one would expect that women should be able to enter job market, become active on the job market (that is either employed or unemployed).  Now estimate the effect of treatment (in this case having a child of 6 and younger) on activity of women in labor market (outcome variable), using propensity score matching. Given this, does the provision of free childcare in Yerevan in 2011 had an effect on labor market outcomes of women in 2012. Comment on the result that you obtain. You must use propensity score matching technique, where your outcome variable (y) is being active or not, treatment variable (D) is treat1 (see variable descriptions below), and other variables are your X vector. \n"
   ]
  },
  {
   "cell_type": "code",
   "execution_count": 64,
   "metadata": {},
   "outputs": [],
   "source": [
    "#This is the code that will load the dataset you need. "
   ]
  },
  {
   "cell_type": "code",
   "execution_count": 65,
   "metadata": {},
   "outputs": [],
   "source": [
    "#Import basic libariaries\n",
    "%matplotlib inline\n",
    "import math\n",
    "import numpy as np\n",
    "import scipy\n",
    "from scipy.stats import binom, hypergeom\n",
    "import pandas as pd\n",
    "import matplotlib.pyplot as plt\n",
    "import seaborn as sns\n",
    "\n",
    "from scipy import stats\n",
    "stats.chisqprob = lambda chisq, df: stats.chi2.sf(chisq, df)"
   ]
  },
  {
   "cell_type": "markdown",
   "metadata": {},
   "source": [
    "Variable descriptions: education - varies from 1 to 9, with 9 being highest level; marital = 1.married, 2.never married, 3.widowed, 4.divorced (mostly you have 1 or 2); poverty = 1.non-poor, 2.poor, 3.very poor; headsex = Gender of household head = 1. male, 2.female; headeduc= educaiton level of household head. Active=1 if the woman is active on labor market (employed or unemployed) and Active=0 if the woman is inactive (not participating in labor force). Treat1 = 1, means a woman has child under 6 years old and lives in Yerevan, Treat1=0, means a woman has no child under 6 years old and lives in Yerevan. "
   ]
  },
  {
   "cell_type": "code",
   "execution_count": 66,
   "metadata": {},
   "outputs": [],
   "source": [
    "df=pd.read_excel('data_logit_psm_ready.xls')"
   ]
  },
  {
   "cell_type": "code",
   "execution_count": 67,
   "metadata": {},
   "outputs": [],
   "source": [
    "#Please load all the other libraries as you find them necessary for your assignment!. Good luck!!!"
   ]
  },
  {
   "cell_type": "code",
   "execution_count": 68,
   "metadata": {},
   "outputs": [],
   "source": [
    "# Data Imports\n",
    "from pandas import Series,DataFrame\n",
    "\n",
    "# Machine Learning Imports\n",
    "from sklearn.linear_model import LogisticRegression\n",
    "from sklearn.model_selection import train_test_split\n",
    "\n",
    "# For evaluating our ML results\n",
    "from sklearn import metrics\n",
    "\n",
    "# Dataset Import\n",
    "import statsmodels.api as sm"
   ]
  },
  {
   "cell_type": "markdown",
   "metadata": {},
   "source": [
    "### Answer to question 1"
   ]
  },
  {
   "cell_type": "code",
   "execution_count": 69,
   "metadata": {},
   "outputs": [
    {
     "data": {
      "text/html": [
       "<div>\n",
       "<style scoped>\n",
       "    .dataframe tbody tr th:only-of-type {\n",
       "        vertical-align: middle;\n",
       "    }\n",
       "\n",
       "    .dataframe tbody tr th {\n",
       "        vertical-align: top;\n",
       "    }\n",
       "\n",
       "    .dataframe thead th {\n",
       "        text-align: right;\n",
       "    }\n",
       "</style>\n",
       "<table border=\"1\" class=\"dataframe\">\n",
       "  <thead>\n",
       "    <tr style=\"text-align: right;\">\n",
       "      <th></th>\n",
       "      <th>age</th>\n",
       "      <th>education</th>\n",
       "      <th>marital</th>\n",
       "      <th>poverty</th>\n",
       "      <th>headsex</th>\n",
       "      <th>headeduc</th>\n",
       "      <th>active</th>\n",
       "      <th>treat1</th>\n",
       "    </tr>\n",
       "  </thead>\n",
       "  <tbody>\n",
       "    <tr>\n",
       "      <th>0</th>\n",
       "      <td>32</td>\n",
       "      <td>5</td>\n",
       "      <td>1.0</td>\n",
       "      <td>1</td>\n",
       "      <td>1.0</td>\n",
       "      <td>5.0</td>\n",
       "      <td>1</td>\n",
       "      <td>1</td>\n",
       "    </tr>\n",
       "    <tr>\n",
       "      <th>1</th>\n",
       "      <td>53</td>\n",
       "      <td>5</td>\n",
       "      <td>3.0</td>\n",
       "      <td>2</td>\n",
       "      <td>2.0</td>\n",
       "      <td>5.0</td>\n",
       "      <td>1</td>\n",
       "      <td>1</td>\n",
       "    </tr>\n",
       "    <tr>\n",
       "      <th>2</th>\n",
       "      <td>53</td>\n",
       "      <td>5</td>\n",
       "      <td>3.0</td>\n",
       "      <td>3</td>\n",
       "      <td>1.0</td>\n",
       "      <td>3.0</td>\n",
       "      <td>1</td>\n",
       "      <td>1</td>\n",
       "    </tr>\n",
       "    <tr>\n",
       "      <th>3</th>\n",
       "      <td>51</td>\n",
       "      <td>7</td>\n",
       "      <td>1.0</td>\n",
       "      <td>1</td>\n",
       "      <td>1.0</td>\n",
       "      <td>7.0</td>\n",
       "      <td>1</td>\n",
       "      <td>1</td>\n",
       "    </tr>\n",
       "    <tr>\n",
       "      <th>4</th>\n",
       "      <td>49</td>\n",
       "      <td>5</td>\n",
       "      <td>1.0</td>\n",
       "      <td>1</td>\n",
       "      <td>1.0</td>\n",
       "      <td>5.0</td>\n",
       "      <td>1</td>\n",
       "      <td>1</td>\n",
       "    </tr>\n",
       "  </tbody>\n",
       "</table>\n",
       "</div>"
      ],
      "text/plain": [
       "   age  education  marital  poverty  headsex  headeduc  active  treat1\n",
       "0   32          5      1.0        1      1.0       5.0       1       1\n",
       "1   53          5      3.0        2      2.0       5.0       1       1\n",
       "2   53          5      3.0        3      1.0       3.0       1       1\n",
       "3   51          7      1.0        1      1.0       7.0       1       1\n",
       "4   49          5      1.0        1      1.0       5.0       1       1"
      ]
     },
     "execution_count": 69,
     "metadata": {},
     "output_type": "execute_result"
    }
   ],
   "source": [
    "df.head()"
   ]
  },
  {
   "cell_type": "code",
   "execution_count": 70,
   "metadata": {},
   "outputs": [
    {
     "name": "stdout",
     "output_type": "stream",
     "text": [
      "<class 'pandas.core.frame.DataFrame'>\n",
      "RangeIndex: 4536 entries, 0 to 4535\n",
      "Data columns (total 8 columns):\n",
      "age          4536 non-null int64\n",
      "education    4536 non-null int64\n",
      "marital      4478 non-null float64\n",
      "poverty      4536 non-null int64\n",
      "headsex      4445 non-null float64\n",
      "headeduc     4445 non-null float64\n",
      "active       4536 non-null int64\n",
      "treat1       4536 non-null int64\n",
      "dtypes: float64(3), int64(5)\n",
      "memory usage: 283.6 KB\n"
     ]
    }
   ],
   "source": [
    "df.info()"
   ]
  },
  {
   "cell_type": "code",
   "execution_count": 71,
   "metadata": {},
   "outputs": [],
   "source": [
    "#drop missing values\n",
    "df.dropna(inplace=True)"
   ]
  },
  {
   "cell_type": "code",
   "execution_count": 72,
   "metadata": {},
   "outputs": [
    {
     "name": "stdout",
     "output_type": "stream",
     "text": [
      "<class 'pandas.core.frame.DataFrame'>\n",
      "Int64Index: 4388 entries, 0 to 4535\n",
      "Data columns (total 8 columns):\n",
      "age          4388 non-null int64\n",
      "education    4388 non-null int64\n",
      "marital      4388 non-null float64\n",
      "poverty      4388 non-null int64\n",
      "headsex      4388 non-null float64\n",
      "headeduc     4388 non-null float64\n",
      "active       4388 non-null int64\n",
      "treat1       4388 non-null int64\n",
      "dtypes: float64(3), int64(5)\n",
      "memory usage: 308.5 KB\n"
     ]
    }
   ],
   "source": [
    "df.info()"
   ]
  },
  {
   "cell_type": "code",
   "execution_count": 73,
   "metadata": {},
   "outputs": [
    {
     "data": {
      "text/plain": [
       "1    2212\n",
       "0    2176\n",
       "Name: active, dtype: int64"
      ]
     },
     "execution_count": 73,
     "metadata": {},
     "output_type": "execute_result"
    }
   ],
   "source": [
    "df['active'].value_counts()"
   ]
  },
  {
   "cell_type": "code",
   "execution_count": 74,
   "metadata": {},
   "outputs": [
    {
     "data": {
      "text/plain": [
       "<seaborn.axisgrid.FacetGrid at 0x1c1c6d0d68>"
      ]
     },
     "execution_count": 74,
     "metadata": {},
     "output_type": "execute_result"
    },
    {
     "data": {
      "image/png": "[encoded data removed]",
      "text/plain": [
       "<Figure size 402.375x360 with 1 Axes>"
      ]
     },
     "metadata": {
      "needs_background": "light"
     },
     "output_type": "display_data"
    }
   ],
   "source": [
    "#Investigate age distribution for those who had and didn't have an affair while married. \n",
    "sns.catplot('active',data=df,hue='treat1',kind='count')"
   ]
  },
  {
   "cell_type": "markdown",
   "metadata": {},
   "source": [
    "From the graph it is apparent, that woman who have child under 6 years old are more active in labor market, that is employed or unemployed"
   ]
  },
  {
   "cell_type": "markdown",
   "metadata": {},
   "source": [
    "### Answer to question 2"
   ]
  },
  {
   "cell_type": "code",
   "execution_count": 75,
   "metadata": {},
   "outputs": [],
   "source": [
    "#Create dummies for categorical variables\n",
    "\n",
    "educ_dummies = pd.get_dummies(df['education'], drop_first=True)\n",
    "poverty_dummies = pd.get_dummies(df['poverty'], drop_first=True)\n",
    "marital_dummies = pd.get_dummies(df['marital'], drop_first=True)\n",
    "headsex_dummies = pd.get_dummies(df['headsex'], drop_first=True)\n"
   ]
  },
  {
   "cell_type": "code",
   "execution_count": 76,
   "metadata": {},
   "outputs": [
    {
     "data": {
      "text/plain": [
       "5.0     1439\n",
       "9.0     1225\n",
       "7.0     1099\n",
       "4.0      308\n",
       "6.0      126\n",
       "3.0       82\n",
       "8.0       44\n",
       "10.0      34\n",
       "1.0       20\n",
       "2.0       11\n",
       "Name: headeduc, dtype: int64"
      ]
     },
     "execution_count": 76,
     "metadata": {},
     "output_type": "execute_result"
    }
   ],
   "source": [
    "df['headeduc'].value_counts()"
   ]
  },
  {
   "cell_type": "code",
   "execution_count": 77,
   "metadata": {},
   "outputs": [],
   "source": [
    "educ_dummies.columns = ['e2','e3','e4','e5','e6','e7','e8','e9','e10']\n",
    "poverty_dummies.columns = ['p2','p3']\n",
    "marital_dummies.columns = ['m2','m3','m4','m5']\n",
    "headsex_dummies.columns = ['hs2']"
   ]
  },
  {
   "cell_type": "code",
   "execution_count": 78,
   "metadata": {},
   "outputs": [
    {
     "data": {
      "text/html": [
       "<div>\n",
       "<style scoped>\n",
       "    .dataframe tbody tr th:only-of-type {\n",
       "        vertical-align: middle;\n",
       "    }\n",
       "\n",
       "    .dataframe tbody tr th {\n",
       "        vertical-align: top;\n",
       "    }\n",
       "\n",
       "    .dataframe thead th {\n",
       "        text-align: right;\n",
       "    }\n",
       "</style>\n",
       "<table border=\"1\" class=\"dataframe\">\n",
       "  <thead>\n",
       "    <tr style=\"text-align: right;\">\n",
       "      <th></th>\n",
       "      <th>age</th>\n",
       "      <th>headeduc</th>\n",
       "      <th>treat1</th>\n",
       "    </tr>\n",
       "  </thead>\n",
       "  <tbody>\n",
       "    <tr>\n",
       "      <th>0</th>\n",
       "      <td>32</td>\n",
       "      <td>5.0</td>\n",
       "      <td>1</td>\n",
       "    </tr>\n",
       "    <tr>\n",
       "      <th>1</th>\n",
       "      <td>53</td>\n",
       "      <td>5.0</td>\n",
       "      <td>1</td>\n",
       "    </tr>\n",
       "    <tr>\n",
       "      <th>2</th>\n",
       "      <td>53</td>\n",
       "      <td>3.0</td>\n",
       "      <td>1</td>\n",
       "    </tr>\n",
       "    <tr>\n",
       "      <th>3</th>\n",
       "      <td>51</td>\n",
       "      <td>7.0</td>\n",
       "      <td>1</td>\n",
       "    </tr>\n",
       "    <tr>\n",
       "      <th>4</th>\n",
       "      <td>49</td>\n",
       "      <td>5.0</td>\n",
       "      <td>1</td>\n",
       "    </tr>\n",
       "  </tbody>\n",
       "</table>\n",
       "</div>"
      ],
      "text/plain": [
       "   age  headeduc  treat1\n",
       "0   32       5.0       1\n",
       "1   53       5.0       1\n",
       "2   53       3.0       1\n",
       "3   51       7.0       1\n",
       "4   49       5.0       1"
      ]
     },
     "execution_count": 78,
     "metadata": {},
     "output_type": "execute_result"
    }
   ],
   "source": [
    "X = df.drop(['education','poverty','marital','headsex','active'],axis=1)\n",
    "X.head()"
   ]
  },
  {
   "cell_type": "code",
   "execution_count": 79,
   "metadata": {},
   "outputs": [],
   "source": [
    "dummies = pd.concat([educ_dummies,poverty_dummies,marital_dummies,headsex_dummies],axis=1)"
   ]
  },
  {
   "cell_type": "code",
   "execution_count": 80,
   "metadata": {},
   "outputs": [
    {
     "data": {
      "text/html": [
       "<div>\n",
       "<style scoped>\n",
       "    .dataframe tbody tr th:only-of-type {\n",
       "        vertical-align: middle;\n",
       "    }\n",
       "\n",
       "    .dataframe tbody tr th {\n",
       "        vertical-align: top;\n",
       "    }\n",
       "\n",
       "    .dataframe thead th {\n",
       "        text-align: right;\n",
       "    }\n",
       "</style>\n",
       "<table border=\"1\" class=\"dataframe\">\n",
       "  <thead>\n",
       "    <tr style=\"text-align: right;\">\n",
       "      <th></th>\n",
       "      <th>age</th>\n",
       "      <th>headeduc</th>\n",
       "      <th>treat1</th>\n",
       "      <th>e2</th>\n",
       "      <th>e3</th>\n",
       "      <th>e4</th>\n",
       "      <th>e5</th>\n",
       "      <th>e6</th>\n",
       "      <th>e7</th>\n",
       "      <th>e8</th>\n",
       "      <th>e9</th>\n",
       "      <th>e10</th>\n",
       "      <th>p2</th>\n",
       "      <th>p3</th>\n",
       "      <th>m2</th>\n",
       "      <th>m3</th>\n",
       "      <th>m4</th>\n",
       "      <th>m5</th>\n",
       "      <th>hs2</th>\n",
       "    </tr>\n",
       "  </thead>\n",
       "  <tbody>\n",
       "    <tr>\n",
       "      <th>0</th>\n",
       "      <td>32</td>\n",
       "      <td>5.0</td>\n",
       "      <td>1</td>\n",
       "      <td>0</td>\n",
       "      <td>0</td>\n",
       "      <td>0</td>\n",
       "      <td>1</td>\n",
       "      <td>0</td>\n",
       "      <td>0</td>\n",
       "      <td>0</td>\n",
       "      <td>0</td>\n",
       "      <td>0</td>\n",
       "      <td>0</td>\n",
       "      <td>0</td>\n",
       "      <td>0</td>\n",
       "      <td>0</td>\n",
       "      <td>0</td>\n",
       "      <td>0</td>\n",
       "      <td>0</td>\n",
       "    </tr>\n",
       "    <tr>\n",
       "      <th>1</th>\n",
       "      <td>53</td>\n",
       "      <td>5.0</td>\n",
       "      <td>1</td>\n",
       "      <td>0</td>\n",
       "      <td>0</td>\n",
       "      <td>0</td>\n",
       "      <td>1</td>\n",
       "      <td>0</td>\n",
       "      <td>0</td>\n",
       "      <td>0</td>\n",
       "      <td>0</td>\n",
       "      <td>0</td>\n",
       "      <td>1</td>\n",
       "      <td>0</td>\n",
       "      <td>0</td>\n",
       "      <td>1</td>\n",
       "      <td>0</td>\n",
       "      <td>0</td>\n",
       "      <td>1</td>\n",
       "    </tr>\n",
       "    <tr>\n",
       "      <th>2</th>\n",
       "      <td>53</td>\n",
       "      <td>3.0</td>\n",
       "      <td>1</td>\n",
       "      <td>0</td>\n",
       "      <td>0</td>\n",
       "      <td>0</td>\n",
       "      <td>1</td>\n",
       "      <td>0</td>\n",
       "      <td>0</td>\n",
       "      <td>0</td>\n",
       "      <td>0</td>\n",
       "      <td>0</td>\n",
       "      <td>0</td>\n",
       "      <td>1</td>\n",
       "      <td>0</td>\n",
       "      <td>1</td>\n",
       "      <td>0</td>\n",
       "      <td>0</td>\n",
       "      <td>0</td>\n",
       "    </tr>\n",
       "    <tr>\n",
       "      <th>3</th>\n",
       "      <td>51</td>\n",
       "      <td>7.0</td>\n",
       "      <td>1</td>\n",
       "      <td>0</td>\n",
       "      <td>0</td>\n",
       "      <td>0</td>\n",
       "      <td>0</td>\n",
       "      <td>0</td>\n",
       "      <td>1</td>\n",
       "      <td>0</td>\n",
       "      <td>0</td>\n",
       "      <td>0</td>\n",
       "      <td>0</td>\n",
       "      <td>0</td>\n",
       "      <td>0</td>\n",
       "      <td>0</td>\n",
       "      <td>0</td>\n",
       "      <td>0</td>\n",
       "      <td>0</td>\n",
       "    </tr>\n",
       "    <tr>\n",
       "      <th>4</th>\n",
       "      <td>49</td>\n",
       "      <td>5.0</td>\n",
       "      <td>1</td>\n",
       "      <td>0</td>\n",
       "      <td>0</td>\n",
       "      <td>0</td>\n",
       "      <td>1</td>\n",
       "      <td>0</td>\n",
       "      <td>0</td>\n",
       "      <td>0</td>\n",
       "      <td>0</td>\n",
       "      <td>0</td>\n",
       "      <td>0</td>\n",
       "      <td>0</td>\n",
       "      <td>0</td>\n",
       "      <td>0</td>\n",
       "      <td>0</td>\n",
       "      <td>0</td>\n",
       "      <td>0</td>\n",
       "    </tr>\n",
       "  </tbody>\n",
       "</table>\n",
       "</div>"
      ],
      "text/plain": [
       "   age  headeduc  treat1  e2  e3  e4  e5  e6  e7  e8  e9  e10  p2  p3  m2  m3  \\\n",
       "0   32       5.0       1   0   0   0   1   0   0   0   0    0   0   0   0   0   \n",
       "1   53       5.0       1   0   0   0   1   0   0   0   0    0   1   0   0   1   \n",
       "2   53       3.0       1   0   0   0   1   0   0   0   0    0   0   1   0   1   \n",
       "3   51       7.0       1   0   0   0   0   0   1   0   0    0   0   0   0   0   \n",
       "4   49       5.0       1   0   0   0   1   0   0   0   0    0   0   0   0   0   \n",
       "\n",
       "   m4  m5  hs2  \n",
       "0   0   0    0  \n",
       "1   0   0    1  \n",
       "2   0   0    0  \n",
       "3   0   0    0  \n",
       "4   0   0    0  "
      ]
     },
     "execution_count": 80,
     "metadata": {},
     "output_type": "execute_result"
    }
   ],
   "source": [
    "X = pd.concat([X,dummies],axis=1)\n",
    "Y = df.active\n",
    "X.head()"
   ]
  },
  {
   "cell_type": "code",
   "execution_count": 81,
   "metadata": {},
   "outputs": [
    {
     "name": "stdout",
     "output_type": "stream",
     "text": [
      "Warning: Maximum number of iterations has been exceeded.\n",
      "         Current function value: 0.623037\n",
      "         Iterations: 35\n",
      "                           Logit Regression Results                           \n",
      "==============================================================================\n",
      "Dep. Variable:                 active   No. Observations:                 4388\n",
      "Model:                          Logit   Df Residuals:                     4369\n",
      "Method:                           MLE   Df Model:                           18\n",
      "Date:                Thu, 16 May 2019   Pseudo R-squ.:                  0.1011\n",
      "Time:                        16:22:39   Log-Likelihood:                -2733.9\n",
      "converged:                      False   LL-Null:                       -3041.4\n",
      "                                        LLR p-value:                5.807e-119\n",
      "==============================================================================\n",
      "                 coef    std err          z      P>|z|      [0.025      0.975]\n",
      "------------------------------------------------------------------------------\n",
      "age           -0.0067      0.003     -2.639      0.008      -0.012      -0.002\n",
      "headeduc      -0.1029      0.021     -4.981      0.000      -0.143      -0.062\n",
      "treat1        -0.1522      0.068     -2.253      0.024      -0.285      -0.020\n",
      "e2           -23.1290   1.12e+05     -0.000      1.000   -2.19e+05    2.19e+05\n",
      "e3            -2.4423      1.041     -2.346      0.019      -4.483      -0.402\n",
      "e4            -0.8885      0.238     -3.733      0.000      -1.355      -0.422\n",
      "e5             0.2562      0.178      1.435      0.151      -0.094       0.606\n",
      "e6             1.0543      0.274      3.853      0.000       0.518       1.591\n",
      "e7             1.1372      0.196      5.804      0.000       0.753       1.521\n",
      "e8            -1.0379      0.325     -3.191      0.001      -1.675      -0.400\n",
      "e9             1.7063      0.211      8.104      0.000       1.294       2.119\n",
      "e10            2.1838      0.539      4.050      0.000       1.127       3.241\n",
      "p2             0.0166      0.079      0.209      0.834      -0.139       0.172\n",
      "p3             0.0609      0.233      0.261      0.794      -0.396       0.518\n",
      "m2             0.5316      0.096      5.545      0.000       0.344       0.720\n",
      "m3            -0.1383      0.125     -1.103      0.270      -0.384       0.107\n",
      "m4             1.1411      0.150      7.583      0.000       0.846       1.436\n",
      "m5             0.0191      0.299      0.064      0.949      -0.567       0.605\n",
      "hs2           -0.0142      0.082     -0.174      0.862      -0.175       0.146\n",
      "==============================================================================\n"
     ]
    },
    {
     "name": "stderr",
     "output_type": "stream",
     "text": [
      "/anaconda3/lib/python3.7/site-packages/statsmodels/base/model.py:508: ConvergenceWarning: Maximum Likelihood optimization failed to converge. Check mle_retvals\n",
      "  \"Check mle_retvals\", ConvergenceWarning)\n"
     ]
    }
   ],
   "source": [
    "logit = sm.Logit(Y,X)\n",
    "result = logit.fit()\n",
    "print (result.summary())"
   ]
  },
  {
   "cell_type": "code",
   "execution_count": 82,
   "metadata": {},
   "outputs": [
    {
     "name": "stdout",
     "output_type": "stream",
     "text": [
      "age         1.0\n",
      "headeduc    1.0\n",
      "treat1      1.0\n",
      "e2          0.0\n",
      "e3          0.0\n",
      "e4          0.0\n",
      "e5          1.0\n",
      "e6          3.0\n",
      "e7          3.0\n",
      "e8          0.0\n",
      "e9          6.0\n",
      "e10         9.0\n",
      "p2          1.0\n",
      "p3          1.0\n",
      "m2          2.0\n",
      "m3          1.0\n",
      "m4          3.0\n",
      "m5          1.0\n",
      "hs2         1.0\n",
      "dtype: float64\n"
     ]
    }
   ],
   "source": [
    "print (round((np.exp(result.params))))"
   ]
  },
  {
   "cell_type": "markdown",
   "metadata": {},
   "source": [
    "From the odds ratio we can see that woman we e10 is 9 times more likely to have a job than e1, which is also a significant variable"
   ]
  },
  {
   "cell_type": "markdown",
   "metadata": {},
   "source": [
    "### Answer to question 3"
   ]
  },
  {
   "cell_type": "code",
   "execution_count": 84,
   "metadata": {},
   "outputs": [],
   "source": [
    "from causalinference import CausalModel"
   ]
  },
  {
   "cell_type": "code",
   "execution_count": 85,
   "metadata": {},
   "outputs": [
    {
     "data": {
      "text/plain": [
       "Index(['age', 'headeduc', 'treat1', 'e2', 'e3', 'e4', 'e5', 'e6', 'e7', 'e8',\n",
       "       'e9', 'e10', 'p2', 'p3', 'm2', 'm3', 'm4', 'm5', 'hs2'],\n",
       "      dtype='object')"
      ]
     },
     "execution_count": 85,
     "metadata": {},
     "output_type": "execute_result"
    }
   ],
   "source": [
    "X.columns"
   ]
  },
  {
   "cell_type": "code",
   "execution_count": 90,
   "metadata": {},
   "outputs": [
    {
     "name": "stderr",
     "output_type": "stream",
     "text": [
      "/anaconda3/lib/python3.7/site-packages/scipy/stats/stats.py:1713: FutureWarning: Using a non-tuple sequence for multidimensional indexing is deprecated; use `arr[tuple(seq)]` instead of `arr[seq]`. In the future this will be interpreted as an array index, `arr[np.array(seq)]`, which will result either in an error or a different result.\n",
      "  return np.add.reduce(sorted[indexer] * weights, axis=axis) / sumval\n"
     ]
    },
    {
     "data": {
      "text/plain": [
       "<matplotlib.axes._subplots.AxesSubplot at 0x1c1bc01978>"
      ]
     },
     "execution_count": 90,
     "metadata": {},
     "output_type": "execute_result"
    },
    {
     "data": {
      "image/png": "[encoded data removed]",
      "text/plain": [
       "<Figure size 432x288 with 1 Axes>"
      ]
     },
     "metadata": {
      "needs_background": "light"
     },
     "output_type": "display_data"
    }
   ],
   "source": [
    "sns.kdeplot(df[df.treat1 == 0].active, label='Control')\n",
    "sns.kdeplot(df[df.treat1 == 1].active, label='Treatment')"
   ]
  },
  {
   "cell_type": "code",
   "execution_count": 87,
   "metadata": {
    "scrolled": false
   },
   "outputs": [
    {
     "name": "stderr",
     "output_type": "stream",
     "text": [
      "/anaconda3/lib/python3.7/site-packages/causalinference/core/summary.py:110: RuntimeWarning: invalid value encountered in true_divide\n",
      "  return (mean_t-mean_c) / np.sqrt((sd_c**2+sd_t**2)/2)\n",
      "/anaconda3/lib/python3.7/site-packages/causalinference/estimators/ols.py:21: FutureWarning: `rcond` parameter will change to the default of machine precision times ``max(M, N)`` where M and N are the input matrix dimensions.\n",
      "To use the future default and silence this warning we advise to pass `rcond=None`, to keep using the old, explicitly pass `rcond=-1`.\n",
      "  olscoef = np.linalg.lstsq(Z, Y)[0]\n"
     ]
    },
    {
     "name": "stdout",
     "output_type": "stream",
     "text": [
      "\n",
      "Summary Statistics\n",
      "\n",
      "                      Controls (N_c=2421)        Treated (N_t=1909)             \n",
      "       Variable         Mean         S.d.         Mean         S.d.     Raw-diff\n",
      "--------------------------------------------------------------------------------\n",
      "              Y        0.523        0.500        0.479        0.500       -0.044\n",
      "\n",
      "                      Controls (N_c=2421)        Treated (N_t=1909)             \n",
      "       Variable         Mean         S.d.         Mean         S.d.     Nor-diff\n",
      "--------------------------------------------------------------------------------\n",
      "             X0       43.271       16.973       39.908       15.780       -0.205\n",
      "             X1        6.600        1.928        6.558        1.802       -0.022\n",
      "             X2        0.000        0.020        0.001        0.023        0.005\n",
      "             X3        0.006        0.076        0.004        0.060       -0.031\n",
      "             X4        0.057        0.232        0.046        0.210       -0.049\n",
      "             X5        0.314        0.464        0.363        0.481        0.104\n",
      "             X6        0.020        0.139        0.023        0.148        0.019\n",
      "             X7        0.244        0.430        0.257        0.437        0.030\n",
      "             X8        0.027        0.163        0.016        0.124       -0.080\n",
      "             X9        0.324        0.468        0.284        0.451       -0.086\n",
      "            X10        0.005        0.067        0.006        0.079        0.024\n",
      "            X11        0.214        0.410        0.259        0.438        0.106\n",
      "            X12        0.021        0.142        0.020        0.140       -0.005\n",
      "            X13        0.289        0.453        0.163        0.370       -0.304\n",
      "            X14        0.140        0.347        0.117        0.322       -0.068\n",
      "            X15        0.071        0.258        0.067        0.249       -0.019\n",
      "            X16        0.009        0.095        0.016        0.126        0.064\n",
      "            X17        0.364        0.481        0.306        0.461       -0.122\n",
      "\n",
      "\n",
      "Treatment Effect Estimates: OLS\n",
      "\n",
      "                     Est.       S.e.          z      P>|z|      [95% Conf. int.]\n",
      "--------------------------------------------------------------------------------\n",
      "           ATE     -0.027      0.015     -1.838      0.066     -0.056      0.002\n",
      "           ATC      0.004      0.015      0.260      0.795     -0.025      0.033\n",
      "           ATT     -0.066      0.016     -4.234      0.000     -0.097     -0.036\n",
      "\n",
      "Treatment Effect Estimates: Matching\n",
      "\n",
      "                     Est.       S.e.          z      P>|z|      [95% Conf. int.]\n",
      "--------------------------------------------------------------------------------\n",
      "           ATE     -0.022      0.022     -1.007      0.314     -0.065      0.021\n",
      "           ATC      0.016      0.025      0.650      0.516     -0.032      0.064\n",
      "           ATT     -0.070      0.027     -2.632      0.008     -0.122     -0.018\n",
      "\n",
      "Treatment Effect Estimates: Weighting\n",
      "\n",
      "                     Est.       S.e.          z      P>|z|      [95% Conf. int.]\n",
      "--------------------------------------------------------------------------------\n",
      "           ATE     -0.028      0.015     -1.889      0.059     -0.057      0.001\n",
      "\n",
      "\n",
      "Estimated Parameters of Propensity Score\n",
      "\n",
      "                    Coef.       S.e.          z      P>|z|      [95% Conf. int.]\n",
      "--------------------------------------------------------------------------------\n",
      "     Intercept      1.121      0.829      1.352      0.176     -0.504      2.746\n",
      "            X0     -0.035      0.003    -13.313      0.000     -0.040     -0.030\n",
      "            X1      0.036      0.020      1.790      0.074     -0.003      0.075\n",
      "            X2      1.086      1.665      0.652      0.514     -2.178      4.350\n",
      "            X3      0.102      0.936      0.109      0.913     -1.733      1.937\n",
      "            X4      0.186      0.821      0.226      0.821     -1.424      1.795\n",
      "            X5      0.311      0.812      0.383      0.702     -1.281      1.903\n",
      "            X6      0.211      0.839      0.251      0.802     -1.434      1.856\n",
      "            X7      0.188      0.814      0.231      0.817     -1.408      1.784\n",
      "            X8     -0.344      0.845     -0.407      0.684     -1.999      1.312\n",
      "            X9      0.016      0.815      0.020      0.984     -1.582      1.615\n",
      "           X10      0.675      0.923      0.731      0.465     -1.135      2.484\n",
      "           X11      0.236      0.077      3.058      0.002      0.085      0.387\n",
      "           X12      0.060      0.227      0.266      0.791     -0.385      0.505\n",
      "           X13     -1.426      0.097    -14.693      0.000     -1.617     -1.236\n",
      "           X14      0.251      0.124      2.032      0.042      0.009      0.494\n",
      "           X15     -0.255      0.135     -1.882      0.060     -0.520      0.011\n",
      "           X16     -0.038      0.293     -0.129      0.898     -0.611      0.536\n",
      "           X17     -0.121      0.080     -1.510      0.131     -0.279      0.036\n",
      "\n",
      "\n",
      "Stratification Summary\n",
      "\n",
      "              Propensity Score         Sample Size     Ave. Propensity   Outcome\n",
      "   Stratum      Min.      Max.  Controls   Treated  Controls   Treated  Raw-diff\n",
      "--------------------------------------------------------------------------------\n",
      "         1     0.130     0.345       764       322     0.279     0.285     0.069\n",
      "         2     0.345     0.427       671       414     0.386     0.388    -0.005\n",
      "         3     0.427     0.543       635       440     0.481     0.480     0.011\n",
      "         4     0.544     0.582       133       139     0.562     0.563    -0.041\n",
      "         5     0.582     0.620       100       170     0.601     0.602    -0.120\n",
      "         6     0.621     0.793       118       424     0.667     0.670    -0.256\n",
      "\n"
     ]
    },
    {
     "name": "stderr",
     "output_type": "stream",
     "text": [
      "/anaconda3/lib/python3.7/site-packages/causalinference/estimators/matching.py:100: FutureWarning: `rcond` parameter will change to the default of machine precision times ``max(M, N)`` where M and N are the input matrix dimensions.\n",
      "To use the future default and silence this warning we advise to pass `rcond=None`, to keep using the old, explicitly pass `rcond=-1`.\n",
      "  return np.linalg.lstsq(X, Y)[0][1:]  # don't need intercept coef\n",
      "/anaconda3/lib/python3.7/site-packages/causalinference/estimators/weighting.py:23: FutureWarning: `rcond` parameter will change to the default of machine precision times ``max(M, N)`` where M and N are the input matrix dimensions.\n",
      "To use the future default and silence this warning we advise to pass `rcond=None`, to keep using the old, explicitly pass `rcond=-1`.\n",
      "  wlscoef = np.linalg.lstsq(Z_w, Y_w)[0]\n"
     ]
    }
   ],
   "source": [
    "causal_model = CausalModel(\n",
    "    X=X[['age', 'headeduc', 'e2', 'e3', 'e4', 'e5', 'e6', 'e7', 'e8',\n",
    "       'e9', 'e10', 'p2', 'p3', 'm2', 'm3', 'm4', 'm5', 'hs2']].values,\n",
    "    D=df.treat1.values,\n",
    "    Y=df.active.values\n",
    ")\n",
    "causal_model.est_propensity()\n",
    "causal_model.trim_s()\n",
    "causal_model.stratify_s()\n",
    "causal_model.est_via_ols()\n",
    "causal_model.est_via_matching(bias_adj=True)\n",
    "causal_model.est_via_weighting()\n",
    "\n",
    "print(causal_model.summary_stats)\n",
    "print(causal_model.estimates)\n",
    "print(causal_model.propensity)\n",
    "print(causal_model.strata)"
   ]
  },
  {
   "cell_type": "markdown",
   "metadata": {},
   "source": [
    "#### I run three models and see negative treatment effects in each one; meaning that the provision of free childcare in Yerevan had a negative effect in woman's labor market participation.This can be explained by the fact that woman mostly work for being able to pay for the childcare. However, only 1 ATE score is \"significant\", which actually is in the borderline of being considered significant."
   ]
  },
  {
   "cell_type": "code",
   "execution_count": null,
   "metadata": {},
   "outputs": [],
   "source": []
  }
 ],
 "metadata": {
  "kernelspec": {
   "display_name": "Python 3",
   "language": "python",
   "name": "python3"
  },
  "language_info": {
   "codemirror_mode": {
    "name": "ipython",
    "version": 3
   },
   "file_extension": ".py",
   "mimetype": "text/x-python",
   "name": "python",
   "nbconvert_exporter": "python",
   "pygments_lexer": "ipython3",
   "version": "3.7.1"
  }
 },
 "nbformat": 4,
 "nbformat_minor": 2
}
