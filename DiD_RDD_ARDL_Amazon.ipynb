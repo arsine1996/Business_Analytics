{
 "cells": [
  {
   "cell_type": "code",
   "execution_count": 138,
   "metadata": {},
   "outputs": [],
   "source": [
    "import pandas as pd\n",
    "import numpy as np\n",
    "import matplotlib.pyplot as plt\n",
    "import statsmodels.api as sm\n",
    "from statsmodels.tsa.stattools import adfuller\n",
    "from matplotlib import pyplot\n",
    "from pandas import Series, DataFrame\n",
    "from statsmodels.graphics.tsaplots import plot_acf\n",
    "from scipy import stats\n",
    "import statsmodels.tsa.stattools as smtools\n",
    "from sklearn.model_selection import train_test_split\n"
   ]
  },
  {
   "cell_type": "markdown",
   "metadata": {},
   "source": [
    "## Difference in Differences"
   ]
  },
  {
   "cell_type": "code",
   "execution_count": 139,
   "metadata": {},
   "outputs": [],
   "source": [
    "data=pd.read_excel(\"Amazon_Ebay_Rev.xlsx\")"
   ]
  },
  {
   "cell_type": "code",
   "execution_count": 140,
   "metadata": {},
   "outputs": [
    {
     "data": {
      "text/html": [
       "<div>\n",
       "<style scoped>\n",
       "    .dataframe tbody tr th:only-of-type {\n",
       "        vertical-align: middle;\n",
       "    }\n",
       "\n",
       "    .dataframe tbody tr th {\n",
       "        vertical-align: top;\n",
       "    }\n",
       "\n",
       "    .dataframe thead th {\n",
       "        text-align: right;\n",
       "    }\n",
       "</style>\n",
       "<table border=\"1\" class=\"dataframe\">\n",
       "  <thead>\n",
       "    <tr style=\"text-align: right;\">\n",
       "      <th></th>\n",
       "      <th>Date</th>\n",
       "      <th>Internet_Usage</th>\n",
       "      <th>amazon</th>\n",
       "      <th>ebay</th>\n",
       "      <th>ebay_RD</th>\n",
       "      <th>amazon_RD</th>\n",
       "      <th>amazon_mark</th>\n",
       "      <th>amazon_NI</th>\n",
       "    </tr>\n",
       "  </thead>\n",
       "  <tbody>\n",
       "    <tr>\n",
       "      <th>0</th>\n",
       "      <td>1998-12-31</td>\n",
       "      <td>0</td>\n",
       "      <td>609.80</td>\n",
       "      <td>78.10</td>\n",
       "      <td>1.50</td>\n",
       "      <td>16.9</td>\n",
       "      <td>24.482021</td>\n",
       "      <td>-123.2</td>\n",
       "    </tr>\n",
       "    <tr>\n",
       "      <th>1</th>\n",
       "      <td>1999-03-31</td>\n",
       "      <td>0</td>\n",
       "      <td>816.04</td>\n",
       "      <td>114.90</td>\n",
       "      <td>2.20</td>\n",
       "      <td>23.5</td>\n",
       "      <td>35.307975</td>\n",
       "      <td>-174.5</td>\n",
       "    </tr>\n",
       "    <tr>\n",
       "      <th>2</th>\n",
       "      <td>1999-06-30</td>\n",
       "      <td>0</td>\n",
       "      <td>1014.00</td>\n",
       "      <td>144.90</td>\n",
       "      <td>5.50</td>\n",
       "      <td>34.3</td>\n",
       "      <td>36.819632</td>\n",
       "      <td>-291.3</td>\n",
       "    </tr>\n",
       "    <tr>\n",
       "      <th>3</th>\n",
       "      <td>1999-09-30</td>\n",
       "      <td>147</td>\n",
       "      <td>1217.00</td>\n",
       "      <td>181.70</td>\n",
       "      <td>6.90</td>\n",
       "      <td>44.6</td>\n",
       "      <td>39.950920</td>\n",
       "      <td>-443.2</td>\n",
       "    </tr>\n",
       "    <tr>\n",
       "      <th>4</th>\n",
       "      <td>1999-12-31</td>\n",
       "      <td>0</td>\n",
       "      <td>1640.00</td>\n",
       "      <td>224.72</td>\n",
       "      <td>10.35</td>\n",
       "      <td>57.4</td>\n",
       "      <td>64.029448</td>\n",
       "      <td>-720.0</td>\n",
       "    </tr>\n",
       "  </tbody>\n",
       "</table>\n",
       "</div>"
      ],
      "text/plain": [
       "        Date Internet_Usage   amazon    ebay  ebay_RD  amazon_RD  amazon_mark  \\\n",
       "0 1998-12-31              0   609.80   78.10     1.50       16.9    24.482021   \n",
       "1 1999-03-31              0   816.04  114.90     2.20       23.5    35.307975   \n",
       "2 1999-06-30              0  1014.00  144.90     5.50       34.3    36.819632   \n",
       "3 1999-09-30           147   1217.00  181.70     6.90       44.6    39.950920   \n",
       "4 1999-12-31              0  1640.00  224.72    10.35       57.4    64.029448   \n",
       "\n",
       "   amazon_NI  \n",
       "0     -123.2  \n",
       "1     -174.5  \n",
       "2     -291.3  \n",
       "3     -443.2  \n",
       "4     -720.0  "
      ]
     },
     "execution_count": 140,
     "metadata": {},
     "output_type": "execute_result"
    }
   ],
   "source": [
    "data.head()"
   ]
  },
  {
   "cell_type": "code",
   "execution_count": 141,
   "metadata": {},
   "outputs": [],
   "source": [
    "df=data[data['Internet_Usage']!=0]"
   ]
  },
  {
   "cell_type": "code",
   "execution_count": 142,
   "metadata": {},
   "outputs": [
    {
     "name": "stderr",
     "output_type": "stream",
     "text": [
      "/anaconda3/lib/python3.7/site-packages/ipykernel_launcher.py:1: SettingWithCopyWarning: \n",
      "A value is trying to be set on a copy of a slice from a DataFrame.\n",
      "Try using .loc[row_indexer,col_indexer] = value instead\n",
      "\n",
      "See the caveats in the documentation: http://pandas.pydata.org/pandas-docs/stable/indexing.html#indexing-view-versus-copy\n",
      "  \"\"\"Entry point for launching an IPython kernel.\n",
      "/anaconda3/lib/python3.7/site-packages/ipykernel_launcher.py:2: SettingWithCopyWarning: \n",
      "A value is trying to be set on a copy of a slice from a DataFrame.\n",
      "Try using .loc[row_indexer,col_indexer] = value instead\n",
      "\n",
      "See the caveats in the documentation: http://pandas.pydata.org/pandas-docs/stable/indexing.html#indexing-view-versus-copy\n",
      "  \n"
     ]
    }
   ],
   "source": [
    "df['Internet_Usage'] = df['Internet_Usage'].astype(str)\n",
    "df['Internet_Usage'] = df['Internet_Usage'].apply(lambda x: x.replace(\",\",\"\").strip())"
   ]
  },
  {
   "cell_type": "code",
   "execution_count": 143,
   "metadata": {},
   "outputs": [
    {
     "name": "stderr",
     "output_type": "stream",
     "text": [
      "/anaconda3/lib/python3.7/site-packages/ipykernel_launcher.py:1: SettingWithCopyWarning: \n",
      "A value is trying to be set on a copy of a slice from a DataFrame.\n",
      "Try using .loc[row_indexer,col_indexer] = value instead\n",
      "\n",
      "See the caveats in the documentation: http://pandas.pydata.org/pandas-docs/stable/indexing.html#indexing-view-versus-copy\n",
      "  \"\"\"Entry point for launching an IPython kernel.\n"
     ]
    }
   ],
   "source": [
    "df['Internet_Usage'] = df['Internet_Usage'].astype(float)"
   ]
  },
  {
   "cell_type": "code",
   "execution_count": 144,
   "metadata": {
    "scrolled": true
   },
   "outputs": [
    {
     "data": {
      "text/plain": [
       "[<matplotlib.lines.Line2D at 0x1c1c231e80>]"
      ]
     },
     "execution_count": 144,
     "metadata": {},
     "output_type": "execute_result"
    },
    {
     "data": {
      "image/png": "[encoded data removed]",
      "text/plain": [
       "<Figure size 432x288 with 1 Axes>"
      ]
     },
     "metadata": {
      "needs_background": "light"
     },
     "output_type": "display_data"
    }
   ],
   "source": [
    "plt.plot( 'Date', 'amazon', data=df.iloc[:25], marker='', markerfacecolor='b', markersize=12, color='skyblue', linewidth=4)\n",
    "plt.plot( 'Date', 'ebay', data=df.iloc[:25], marker='', color='r', linewidth=2)\n"
   ]
  },
  {
   "cell_type": "code",
   "execution_count": 145,
   "metadata": {
    "scrolled": true
   },
   "outputs": [
    {
     "data": {
      "image/png": "[encoded data removed]",
      "text/plain": [
       "<Figure size 432x288 with 1 Axes>"
      ]
     },
     "metadata": {
      "needs_background": "light"
     },
     "output_type": "display_data"
    }
   ],
   "source": [
    "df['ebay'].plot()\n",
    "pyplot.show()"
   ]
  },
  {
   "cell_type": "code",
   "execution_count": 146,
   "metadata": {},
   "outputs": [
    {
     "data": {
      "text/plain": [
       "<matplotlib.axes._subplots.AxesSubplot at 0x1c1b57b898>"
      ]
     },
     "execution_count": 146,
     "metadata": {},
     "output_type": "execute_result"
    },
    {
     "data": {
      "image/png": "[encoded data removed]",
      "text/plain": [
       "<Figure size 432x288 with 1 Axes>"
      ]
     },
     "metadata": {
      "needs_background": "light"
     },
     "output_type": "display_data"
    }
   ],
   "source": [
    "df['Internet_Usage'].plot()\n"
   ]
  },
  {
   "cell_type": "code",
   "execution_count": 147,
   "metadata": {},
   "outputs": [
    {
     "name": "stdout",
     "output_type": "stream",
     "text": [
      "<class 'pandas.core.frame.DataFrame'>\n",
      "Int64Index: 50 entries, 3 to 79\n",
      "Data columns (total 8 columns):\n",
      "Date              50 non-null datetime64[ns]\n",
      "Internet_Usage    50 non-null float64\n",
      "amazon            50 non-null float64\n",
      "ebay              50 non-null float64\n",
      "ebay_RD           50 non-null float64\n",
      "amazon_RD         50 non-null float64\n",
      "amazon_mark       50 non-null float64\n",
      "amazon_NI         50 non-null float64\n",
      "dtypes: datetime64[ns](1), float64(7)\n",
      "memory usage: 3.5 KB\n"
     ]
    }
   ],
   "source": [
    "df.info()"
   ]
  },
  {
   "cell_type": "code",
   "execution_count": 148,
   "metadata": {},
   "outputs": [
    {
     "name": "stdout",
     "output_type": "stream",
     "text": [
      "ADF Statistic: -1.737363\n",
      "p-value: 0.411972\n",
      "Critical Values:\n",
      "\t1%: -3.575\n",
      "\t5%: -2.924\n",
      "\t10%: -2.600\n"
     ]
    }
   ],
   "source": [
    "result = adfuller(df['ebay'])\n",
    "print('ADF Statistic: %f' % result[0])\n",
    "print('p-value: %f' % result[1])\n",
    "print('Critical Values:')\n",
    "for key, value in result[4].items():\n",
    "\tprint('\\t%s: %.3f' % (key, value))"
   ]
  },
  {
   "cell_type": "code",
   "execution_count": 149,
   "metadata": {},
   "outputs": [
    {
     "name": "stdout",
     "output_type": "stream",
     "text": [
      "ADF Statistic: 0.022425\n",
      "p-value: 0.960348\n",
      "Critical Values:\n",
      "\t1%: -3.610\n",
      "\t5%: -2.939\n",
      "\t10%: -2.608\n"
     ]
    }
   ],
   "source": [
    "result = adfuller(df['ebay_RD'])\n",
    "print('ADF Statistic: %f' % result[0])\n",
    "print('p-value: %f' % result[1])\n",
    "print('Critical Values:')\n",
    "for key, value in result[4].items():\n",
    "\tprint('\\t%s: %.3f' % (key, value))"
   ]
  },
  {
   "cell_type": "code",
   "execution_count": 150,
   "metadata": {},
   "outputs": [
    {
     "name": "stdout",
     "output_type": "stream",
     "text": [
      "ADF Statistic: 2.974045\n",
      "p-value: 1.000000\n",
      "Critical Values:\n",
      "\t1%: -3.616\n",
      "\t5%: -2.941\n",
      "\t10%: -2.609\n"
     ]
    }
   ],
   "source": [
    "result = adfuller(df['Internet_Usage'])\n",
    "print('ADF Statistic: %f' % result[0])\n",
    "print('p-value: %f' % result[1])\n",
    "print('Critical Values:')\n",
    "for key, value in result[4].items():\n",
    "\tprint('\\t%s: %.3f' % (key, value))"
   ]
  },
  {
   "cell_type": "code",
   "execution_count": 151,
   "metadata": {},
   "outputs": [],
   "source": [
    "#Ebay R&D, Ebay revenue, and internet usage is non stationary"
   ]
  },
  {
   "cell_type": "code",
   "execution_count": 152,
   "metadata": {},
   "outputs": [
    {
     "data": {
      "text/plain": [
       "(-1.9228151661766995,\n",
       " 0.5683920464314101,\n",
       " array([-4.13391193, -3.46366765, -3.13213796]))"
      ]
     },
     "execution_count": 152,
     "metadata": {},
     "output_type": "execute_result"
    }
   ],
   "source": [
    "# no cointegration, so make data stationary\n",
    "smtools.coint(df['ebay'], df['ebay_RD'],\n",
    "              trend='c', method='aeg', maxlag=None, autolag='aic', return_results=None)"
   ]
  },
  {
   "cell_type": "code",
   "execution_count": 153,
   "metadata": {},
   "outputs": [
    {
     "name": "stderr",
     "output_type": "stream",
     "text": [
      "/anaconda3/lib/python3.7/site-packages/ipykernel_launcher.py:1: SettingWithCopyWarning: \n",
      "A value is trying to be set on a copy of a slice from a DataFrame.\n",
      "Try using .loc[row_indexer,col_indexer] = value instead\n",
      "\n",
      "See the caveats in the documentation: http://pandas.pydata.org/pandas-docs/stable/indexing.html#indexing-view-versus-copy\n",
      "  \"\"\"Entry point for launching an IPython kernel.\n",
      "/anaconda3/lib/python3.7/site-packages/ipykernel_launcher.py:2: SettingWithCopyWarning: \n",
      "A value is trying to be set on a copy of a slice from a DataFrame.\n",
      "Try using .loc[row_indexer,col_indexer] = value instead\n",
      "\n",
      "See the caveats in the documentation: http://pandas.pydata.org/pandas-docs/stable/indexing.html#indexing-view-versus-copy\n",
      "  \n",
      "/anaconda3/lib/python3.7/site-packages/ipykernel_launcher.py:3: SettingWithCopyWarning: \n",
      "A value is trying to be set on a copy of a slice from a DataFrame.\n",
      "Try using .loc[row_indexer,col_indexer] = value instead\n",
      "\n",
      "See the caveats in the documentation: http://pandas.pydata.org/pandas-docs/stable/indexing.html#indexing-view-versus-copy\n",
      "  This is separate from the ipykernel package so we can avoid doing imports until\n",
      "/anaconda3/lib/python3.7/site-packages/ipykernel_launcher.py:5: SettingWithCopyWarning: \n",
      "A value is trying to be set on a copy of a slice from a DataFrame\n",
      "\n",
      "See the caveats in the documentation: http://pandas.pydata.org/pandas-docs/stable/indexing.html#indexing-view-versus-copy\n",
      "  \"\"\"\n"
     ]
    }
   ],
   "source": [
    "df['de'] = df['ebay'].diff(periods=1)\n",
    "df['drd'] = df['ebay_RD'].diff(periods=1)\n",
    "df['di'] = df['Internet_Usage'].diff(periods=1)\n",
    "\n",
    "df.dropna(inplace=True)"
   ]
  },
  {
   "cell_type": "code",
   "execution_count": 154,
   "metadata": {},
   "outputs": [
    {
     "data": {
      "text/html": [
       "<div>\n",
       "<style scoped>\n",
       "    .dataframe tbody tr th:only-of-type {\n",
       "        vertical-align: middle;\n",
       "    }\n",
       "\n",
       "    .dataframe tbody tr th {\n",
       "        vertical-align: top;\n",
       "    }\n",
       "\n",
       "    .dataframe thead th {\n",
       "        text-align: right;\n",
       "    }\n",
       "</style>\n",
       "<table border=\"1\" class=\"dataframe\">\n",
       "  <thead>\n",
       "    <tr style=\"text-align: right;\">\n",
       "      <th></th>\n",
       "      <th>Date</th>\n",
       "      <th>Internet_Usage</th>\n",
       "      <th>amazon</th>\n",
       "      <th>ebay</th>\n",
       "      <th>ebay_RD</th>\n",
       "      <th>amazon_RD</th>\n",
       "      <th>amazon_mark</th>\n",
       "      <th>amazon_NI</th>\n",
       "      <th>de</th>\n",
       "      <th>drd</th>\n",
       "      <th>di</th>\n",
       "    </tr>\n",
       "  </thead>\n",
       "  <tbody>\n",
       "    <tr>\n",
       "      <th>7</th>\n",
       "      <td>2000-09-30</td>\n",
       "      <td>248.0</td>\n",
       "      <td>2466.0</td>\n",
       "      <td>371.34</td>\n",
       "      <td>15.78</td>\n",
       "      <td>70.00</td>\n",
       "      <td>40.331950</td>\n",
       "      <td>-1189.00</td>\n",
       "      <td>189.64</td>\n",
       "      <td>8.88</td>\n",
       "      <td>101.0</td>\n",
       "    </tr>\n",
       "    <tr>\n",
       "      <th>8</th>\n",
       "      <td>2000-12-31</td>\n",
       "      <td>304.0</td>\n",
       "      <td>2762.0</td>\n",
       "      <td>431.42</td>\n",
       "      <td>14.14</td>\n",
       "      <td>69.79</td>\n",
       "      <td>63.112033</td>\n",
       "      <td>-1411.00</td>\n",
       "      <td>60.08</td>\n",
       "      <td>-1.64</td>\n",
       "      <td>56.0</td>\n",
       "    </tr>\n",
       "    <tr>\n",
       "      <th>11</th>\n",
       "      <td>2001-09-30</td>\n",
       "      <td>361.0</td>\n",
       "      <td>2980.0</td>\n",
       "      <td>663.43</td>\n",
       "      <td>20.18</td>\n",
       "      <td>53.85</td>\n",
       "      <td>30.238235</td>\n",
       "      <td>-1118.00</td>\n",
       "      <td>232.01</td>\n",
       "      <td>6.04</td>\n",
       "      <td>57.0</td>\n",
       "    </tr>\n",
       "    <tr>\n",
       "      <th>12</th>\n",
       "      <td>2001-12-31</td>\n",
       "      <td>458.0</td>\n",
       "      <td>3122.0</td>\n",
       "      <td>748.82</td>\n",
       "      <td>21.72</td>\n",
       "      <td>52.32</td>\n",
       "      <td>55.605882</td>\n",
       "      <td>-567.28</td>\n",
       "      <td>85.39</td>\n",
       "      <td>1.54</td>\n",
       "      <td>97.0</td>\n",
       "    </tr>\n",
       "    <tr>\n",
       "      <th>13</th>\n",
       "      <td>2002-03-31</td>\n",
       "      <td>479.0</td>\n",
       "      <td>3269.0</td>\n",
       "      <td>839.84</td>\n",
       "      <td>24.31</td>\n",
       "      <td>55.50</td>\n",
       "      <td>24.416910</td>\n",
       "      <td>-356.30</td>\n",
       "      <td>91.02</td>\n",
       "      <td>2.59</td>\n",
       "      <td>21.0</td>\n",
       "    </tr>\n",
       "  </tbody>\n",
       "</table>\n",
       "</div>"
      ],
      "text/plain": [
       "         Date  Internet_Usage  amazon    ebay  ebay_RD  amazon_RD  \\\n",
       "7  2000-09-30           248.0  2466.0  371.34    15.78      70.00   \n",
       "8  2000-12-31           304.0  2762.0  431.42    14.14      69.79   \n",
       "11 2001-09-30           361.0  2980.0  663.43    20.18      53.85   \n",
       "12 2001-12-31           458.0  3122.0  748.82    21.72      52.32   \n",
       "13 2002-03-31           479.0  3269.0  839.84    24.31      55.50   \n",
       "\n",
       "    amazon_mark  amazon_NI      de   drd     di  \n",
       "7     40.331950   -1189.00  189.64  8.88  101.0  \n",
       "8     63.112033   -1411.00   60.08 -1.64   56.0  \n",
       "11    30.238235   -1118.00  232.01  6.04   57.0  \n",
       "12    55.605882    -567.28   85.39  1.54   97.0  \n",
       "13    24.416910    -356.30   91.02  2.59   21.0  "
      ]
     },
     "execution_count": 154,
     "metadata": {},
     "output_type": "execute_result"
    }
   ],
   "source": [
    "df.head()"
   ]
  },
  {
   "cell_type": "code",
   "execution_count": 155,
   "metadata": {},
   "outputs": [
    {
     "name": "stdout",
     "output_type": "stream",
     "text": [
      "ADF Statistic: -9.853294\n",
      "p-value: 0.000000\n",
      "Critical Values:\n",
      "\t1%: -3.575\n",
      "\t5%: -2.924\n",
      "\t10%: -2.600\n"
     ]
    }
   ],
   "source": [
    "result = adfuller(df['de'])\n",
    "print('ADF Statistic: %f' % result[0])\n",
    "print('p-value: %f' % result[1])\n",
    "print('Critical Values:')\n",
    "for key, value in result[4].items():\n",
    "\tprint('\\t%s: %.3f' % (key, value))"
   ]
  },
  {
   "cell_type": "code",
   "execution_count": 156,
   "metadata": {},
   "outputs": [
    {
     "name": "stdout",
     "output_type": "stream",
     "text": [
      "ADF Statistic: -4.063426\n",
      "p-value: 0.001112\n",
      "Critical Values:\n",
      "\t1%: -3.621\n",
      "\t5%: -2.944\n",
      "\t10%: -2.610\n"
     ]
    }
   ],
   "source": [
    "result = adfuller(df['drd'])\n",
    "print('ADF Statistic: %f' % result[0])\n",
    "print('p-value: %f' % result[1])\n",
    "print('Critical Values:')\n",
    "for key, value in result[4].items():\n",
    "\tprint('\\t%s: %.3f' % (key, value))"
   ]
  },
  {
   "cell_type": "code",
   "execution_count": 157,
   "metadata": {},
   "outputs": [
    {
     "name": "stdout",
     "output_type": "stream",
     "text": [
      "ADF Statistic: 1.583792\n",
      "p-value: 0.997808\n",
      "Critical Values:\n",
      "\t1%: -3.616\n",
      "\t5%: -2.941\n",
      "\t10%: -2.609\n"
     ]
    }
   ],
   "source": [
    "result = adfuller(df['di'])\n",
    "print('ADF Statistic: %f' % result[0])\n",
    "print('p-value: %f' % result[1])\n",
    "print('Critical Values:')\n",
    "for key, value in result[4].items():\n",
    "\tprint('\\t%s: %.3f' % (key, value))"
   ]
  },
  {
   "cell_type": "code",
   "execution_count": 158,
   "metadata": {},
   "outputs": [
    {
     "name": "stderr",
     "output_type": "stream",
     "text": [
      "/anaconda3/lib/python3.7/site-packages/ipykernel_launcher.py:1: SettingWithCopyWarning: \n",
      "A value is trying to be set on a copy of a slice from a DataFrame.\n",
      "Try using .loc[row_indexer,col_indexer] = value instead\n",
      "\n",
      "See the caveats in the documentation: http://pandas.pydata.org/pandas-docs/stable/indexing.html#indexing-view-versus-copy\n",
      "  \"\"\"Entry point for launching an IPython kernel.\n",
      "/anaconda3/lib/python3.7/site-packages/ipykernel_launcher.py:2: SettingWithCopyWarning: \n",
      "A value is trying to be set on a copy of a slice from a DataFrame.\n",
      "Try using .loc[row_indexer,col_indexer] = value instead\n",
      "\n",
      "See the caveats in the documentation: http://pandas.pydata.org/pandas-docs/stable/indexing.html#indexing-view-versus-copy\n",
      "  \n"
     ]
    },
    {
     "data": {
      "text/plain": [
       "<matplotlib.axes._subplots.AxesSubplot at 0x1c1c25db38>"
      ]
     },
     "execution_count": 158,
     "metadata": {},
     "output_type": "execute_result"
    },
    {
     "data": {
      "image/png": "[encoded data removed]",
      "text/plain": [
       "<Figure size 432x288 with 1 Axes>"
      ]
     },
     "metadata": {
      "needs_background": "light"
     },
     "output_type": "display_data"
    }
   ],
   "source": [
    "df['i_log'] = np.log(df['Internet_Usage'])\n",
    "df['i_log_diff'] = df['i_log'].diff(periods=1)\n",
    "df['i_log_diff'].dropna().plot()"
   ]
  },
  {
   "cell_type": "code",
   "execution_count": 159,
   "metadata": {},
   "outputs": [
    {
     "name": "stderr",
     "output_type": "stream",
     "text": [
      "/anaconda3/lib/python3.7/site-packages/ipykernel_launcher.py:1: SettingWithCopyWarning: \n",
      "A value is trying to be set on a copy of a slice from a DataFrame\n",
      "\n",
      "See the caveats in the documentation: http://pandas.pydata.org/pandas-docs/stable/indexing.html#indexing-view-versus-copy\n",
      "  \"\"\"Entry point for launching an IPython kernel.\n"
     ]
    }
   ],
   "source": [
    "df.dropna(inplace=True)"
   ]
  },
  {
   "cell_type": "code",
   "execution_count": 160,
   "metadata": {},
   "outputs": [
    {
     "name": "stdout",
     "output_type": "stream",
     "text": [
      "ADF Statistic: -5.459209\n",
      "p-value: 0.000003\n",
      "Critical Values:\n",
      "\t1%: -3.578\n",
      "\t5%: -2.925\n",
      "\t10%: -2.601\n"
     ]
    }
   ],
   "source": [
    "result = adfuller(df['i_log_diff'])\n",
    "print('ADF Statistic: %f' % result[0])\n",
    "print('p-value: %f' % result[1])\n",
    "print('Critical Values:')\n",
    "for key, value in result[4].items():\n",
    "\tprint('\\t%s: %.3f' % (key, value))"
   ]
  },
  {
   "cell_type": "code",
   "execution_count": 161,
   "metadata": {},
   "outputs": [
    {
     "name": "stderr",
     "output_type": "stream",
     "text": [
      "/anaconda3/lib/python3.7/site-packages/ipykernel_launcher.py:1: SettingWithCopyWarning: \n",
      "A value is trying to be set on a copy of a slice from a DataFrame.\n",
      "Try using .loc[row_indexer,col_indexer] = value instead\n",
      "\n",
      "See the caveats in the documentation: http://pandas.pydata.org/pandas-docs/stable/indexing.html#indexing-view-versus-copy\n",
      "  \"\"\"Entry point for launching an IPython kernel.\n",
      "/anaconda3/lib/python3.7/site-packages/ipykernel_launcher.py:2: SettingWithCopyWarning: \n",
      "A value is trying to be set on a copy of a slice from a DataFrame.\n",
      "Try using .loc[row_indexer,col_indexer] = value instead\n",
      "\n",
      "See the caveats in the documentation: http://pandas.pydata.org/pandas-docs/stable/indexing.html#indexing-view-versus-copy\n",
      "  \n",
      "/anaconda3/lib/python3.7/site-packages/ipykernel_launcher.py:3: SettingWithCopyWarning: \n",
      "A value is trying to be set on a copy of a slice from a DataFrame.\n",
      "Try using .loc[row_indexer,col_indexer] = value instead\n",
      "\n",
      "See the caveats in the documentation: http://pandas.pydata.org/pandas-docs/stable/indexing.html#indexing-view-versus-copy\n",
      "  This is separate from the ipykernel package so we can avoid doing imports until\n",
      "/anaconda3/lib/python3.7/site-packages/ipykernel_launcher.py:4: SettingWithCopyWarning: \n",
      "A value is trying to be set on a copy of a slice from a DataFrame.\n",
      "Try using .loc[row_indexer,col_indexer] = value instead\n",
      "\n",
      "See the caveats in the documentation: http://pandas.pydata.org/pandas-docs/stable/indexing.html#indexing-view-versus-copy\n",
      "  after removing the cwd from sys.path.\n"
     ]
    }
   ],
   "source": [
    "df['lag_e1'] = df['de'].shift(1)\n",
    "df['lag_e2'] = df['de'].shift(2)\n",
    "df['lag_e3'] = df['de'].shift(3)\n",
    "df['lag_e4'] = df['de'].shift(4)"
   ]
  },
  {
   "cell_type": "code",
   "execution_count": 162,
   "metadata": {},
   "outputs": [
    {
     "name": "stderr",
     "output_type": "stream",
     "text": [
      "/anaconda3/lib/python3.7/site-packages/ipykernel_launcher.py:1: SettingWithCopyWarning: \n",
      "A value is trying to be set on a copy of a slice from a DataFrame\n",
      "\n",
      "See the caveats in the documentation: http://pandas.pydata.org/pandas-docs/stable/indexing.html#indexing-view-versus-copy\n",
      "  \"\"\"Entry point for launching an IPython kernel.\n"
     ]
    }
   ],
   "source": [
    "df.dropna(inplace=True)"
   ]
  },
  {
   "cell_type": "markdown",
   "metadata": {},
   "source": [
    "## ARDL (4,0)"
   ]
  },
  {
   "cell_type": "code",
   "execution_count": 163,
   "metadata": {},
   "outputs": [],
   "source": [
    "X1_multi=df.drop(['Date','amazon','ebay','Internet_Usage','ebay_RD','di','de',\n",
    "                  'i_log','amazon_RD','amazon_mark','amazon_NI'], axis=1)\n",
    "Y_target=df.de"
   ]
  },
  {
   "cell_type": "code",
   "execution_count": 164,
   "metadata": {},
   "outputs": [],
   "source": [
    "X1_multi=sm.tools.tools.add_constant(X1_multi, prepend=True, has_constant='skip')"
   ]
  },
  {
   "cell_type": "code",
   "execution_count": 165,
   "metadata": {},
   "outputs": [
    {
     "name": "stdout",
     "output_type": "stream",
     "text": [
      "                            OLS Regression Results                            \n",
      "==============================================================================\n",
      "Dep. Variable:                     de   R-squared:                       0.862\n",
      "Model:                            OLS   Adj. R-squared:                  0.840\n",
      "Method:                 Least Squares   F-statistic:                     38.68\n",
      "Date:                Wed, 08 May 2019   Prob (F-statistic):           1.73e-14\n",
      "Time:                        00:51:41   Log-Likelihood:                -339.05\n",
      "No. Observations:                  44   AIC:                             692.1\n",
      "Df Residuals:                      37   BIC:                             704.6\n",
      "Df Model:                           6                                         \n",
      "Covariance Type:            nonrobust                                         \n",
      "==============================================================================\n",
      "                 coef    std err          t      P>|t|      [0.025      0.975]\n",
      "------------------------------------------------------------------------------\n",
      "const         -9.9639    159.353     -0.063      0.950    -332.843     312.915\n",
      "drd           37.4877      2.778     13.496      0.000      31.859      43.116\n",
      "i_log_diff  -366.1587   2511.729     -0.146      0.885   -5455.405    4723.088\n",
      "lag_e1        -0.4818      0.067     -7.138      0.000      -0.619      -0.345\n",
      "lag_e2         0.1533      0.069      2.210      0.033       0.013       0.294\n",
      "lag_e3         0.1684      0.069      2.428      0.020       0.028       0.309\n",
      "lag_e4         0.2323      0.068      3.395      0.002       0.094       0.371\n",
      "==============================================================================\n",
      "Omnibus:                        8.212   Durbin-Watson:                   2.243\n",
      "Prob(Omnibus):                  0.016   Jarque-Bera (JB):                9.395\n",
      "Skew:                          -0.584   Prob(JB):                      0.00912\n",
      "Kurtosis:                       4.939   Cond. No.                     5.50e+04\n",
      "==============================================================================\n",
      "\n",
      "Warnings:\n",
      "[1] Standard Errors assume that the covariance matrix of the errors is correctly specified.\n",
      "[2] The condition number is large, 5.5e+04. This might indicate that there are\n",
      "strong multicollinearity or other numerical problems.\n"
     ]
    },
    {
     "data": {
      "image/png": "[encoded data removed]",
      "text/plain": [
       "<Figure size 432x288 with 1 Axes>"
      ]
     },
     "metadata": {
      "needs_background": "light"
     },
     "output_type": "display_data"
    },
    {
     "data": {
      "image/png": "[encoded data removed]",
      "text/plain": [
       "<Figure size 432x288 with 1 Axes>"
      ]
     },
     "metadata": {
      "needs_background": "light"
     },
     "output_type": "display_data"
    }
   ],
   "source": [
    "model = sm.OLS(Y_target, X1_multi)\n",
    "model_fit = model.fit(disp=0)\n",
    "print(model_fit.summary())\n",
    "# plot residual errors\n",
    "residuals = DataFrame(model_fit.resid)\n",
    "residuals.plot()\n",
    "pyplot.show()\n",
    "plot_acf(residuals,lags=12)\n",
    "pyplot.show()"
   ]
  },
  {
   "cell_type": "code",
   "execution_count": 166,
   "metadata": {},
   "outputs": [],
   "source": [
    "# we can see that the internet usage is not a significant variable for influencing Ebay's revenue"
   ]
  },
  {
   "cell_type": "code",
   "execution_count": 167,
   "metadata": {},
   "outputs": [],
   "source": [
    "#Now it is time to check its affect on Amazon's revenue"
   ]
  },
  {
   "cell_type": "markdown",
   "metadata": {},
   "source": [
    "## Amazon Data"
   ]
  },
  {
   "cell_type": "code",
   "execution_count": 168,
   "metadata": {},
   "outputs": [],
   "source": [
    "data=pd.read_excel(\"Amazon_Ebay_Rev.xlsx\")"
   ]
  },
  {
   "cell_type": "code",
   "execution_count": 169,
   "metadata": {},
   "outputs": [],
   "source": [
    "data=data[data['Internet_Usage']!=0]"
   ]
  },
  {
   "cell_type": "code",
   "execution_count": 170,
   "metadata": {},
   "outputs": [
    {
     "data": {
      "text/html": [
       "<div>\n",
       "<style scoped>\n",
       "    .dataframe tbody tr th:only-of-type {\n",
       "        vertical-align: middle;\n",
       "    }\n",
       "\n",
       "    .dataframe tbody tr th {\n",
       "        vertical-align: top;\n",
       "    }\n",
       "\n",
       "    .dataframe thead th {\n",
       "        text-align: right;\n",
       "    }\n",
       "</style>\n",
       "<table border=\"1\" class=\"dataframe\">\n",
       "  <thead>\n",
       "    <tr style=\"text-align: right;\">\n",
       "      <th></th>\n",
       "      <th>Date</th>\n",
       "      <th>Internet_Usage</th>\n",
       "      <th>amazon</th>\n",
       "      <th>ebay</th>\n",
       "      <th>ebay_RD</th>\n",
       "      <th>amazon_RD</th>\n",
       "      <th>amazon_mark</th>\n",
       "      <th>amazon_NI</th>\n",
       "    </tr>\n",
       "  </thead>\n",
       "  <tbody>\n",
       "    <tr>\n",
       "      <th>3</th>\n",
       "      <td>1999-09-30</td>\n",
       "      <td>147</td>\n",
       "      <td>1217.0</td>\n",
       "      <td>181.70</td>\n",
       "      <td>6.90</td>\n",
       "      <td>44.60</td>\n",
       "      <td>39.950920</td>\n",
       "      <td>-443.20</td>\n",
       "    </tr>\n",
       "    <tr>\n",
       "      <th>7</th>\n",
       "      <td>2000-09-30</td>\n",
       "      <td>248</td>\n",
       "      <td>2466.0</td>\n",
       "      <td>371.34</td>\n",
       "      <td>15.78</td>\n",
       "      <td>70.00</td>\n",
       "      <td>40.331950</td>\n",
       "      <td>-1189.00</td>\n",
       "    </tr>\n",
       "    <tr>\n",
       "      <th>8</th>\n",
       "      <td>2000-12-31</td>\n",
       "      <td>304</td>\n",
       "      <td>2762.0</td>\n",
       "      <td>431.42</td>\n",
       "      <td>14.14</td>\n",
       "      <td>69.79</td>\n",
       "      <td>63.112033</td>\n",
       "      <td>-1411.00</td>\n",
       "    </tr>\n",
       "    <tr>\n",
       "      <th>11</th>\n",
       "      <td>2001-09-30</td>\n",
       "      <td>361</td>\n",
       "      <td>2980.0</td>\n",
       "      <td>663.43</td>\n",
       "      <td>20.18</td>\n",
       "      <td>53.85</td>\n",
       "      <td>30.238235</td>\n",
       "      <td>-1118.00</td>\n",
       "    </tr>\n",
       "    <tr>\n",
       "      <th>12</th>\n",
       "      <td>2001-12-31</td>\n",
       "      <td>458</td>\n",
       "      <td>3122.0</td>\n",
       "      <td>748.82</td>\n",
       "      <td>21.72</td>\n",
       "      <td>52.32</td>\n",
       "      <td>55.605882</td>\n",
       "      <td>-567.28</td>\n",
       "    </tr>\n",
       "  </tbody>\n",
       "</table>\n",
       "</div>"
      ],
      "text/plain": [
       "         Date Internet_Usage  amazon    ebay  ebay_RD  amazon_RD  amazon_mark  \\\n",
       "3  1999-09-30           147   1217.0  181.70     6.90      44.60    39.950920   \n",
       "7  2000-09-30           248   2466.0  371.34    15.78      70.00    40.331950   \n",
       "8  2000-12-31           304   2762.0  431.42    14.14      69.79    63.112033   \n",
       "11 2001-09-30           361   2980.0  663.43    20.18      53.85    30.238235   \n",
       "12 2001-12-31           458   3122.0  748.82    21.72      52.32    55.605882   \n",
       "\n",
       "    amazon_NI  \n",
       "3     -443.20  \n",
       "7    -1189.00  \n",
       "8    -1411.00  \n",
       "11   -1118.00  \n",
       "12    -567.28  "
      ]
     },
     "execution_count": 170,
     "metadata": {},
     "output_type": "execute_result"
    }
   ],
   "source": [
    "data.head()"
   ]
  },
  {
   "cell_type": "code",
   "execution_count": 171,
   "metadata": {},
   "outputs": [
    {
     "data": {
      "text/plain": [
       "(-2.8332553763163486,\n",
       " 0.1553326293027854,\n",
       " array([-4.13391193, -3.46366765, -3.13213796]))"
      ]
     },
     "execution_count": 171,
     "metadata": {},
     "output_type": "execute_result"
    }
   ],
   "source": [
    "#cointegration\n",
    "smtools.coint(data['amazon_RD'], data['amazon'],\n",
    "              trend='c', method='aeg', maxlag=None, autolag='aic', return_results=None)"
   ]
  },
  {
   "cell_type": "code",
   "execution_count": 172,
   "metadata": {},
   "outputs": [
    {
     "data": {
      "text/plain": [
       "(-1.6083128617665596,\n",
       " 0.717368469063133,\n",
       " array([-4.13391193, -3.46366765, -3.13213796]))"
      ]
     },
     "execution_count": 172,
     "metadata": {},
     "output_type": "execute_result"
    }
   ],
   "source": [
    "#cointegration\n",
    "smtools.coint(data['amazon_mark'], data['amazon'],\n",
    "              trend='c', method='aeg', maxlag=None, autolag='aic', return_results=None)"
   ]
  },
  {
   "cell_type": "code",
   "execution_count": 173,
   "metadata": {},
   "outputs": [
    {
     "name": "stdout",
     "output_type": "stream",
     "text": [
      "ADF Statistic: 1.421938\n",
      "p-value: 0.997212\n",
      "Critical Values:\n",
      "\t1%: -3.616\n",
      "\t5%: -2.941\n",
      "\t10%: -2.609\n"
     ]
    }
   ],
   "source": [
    "result = adfuller(data['amazon'])\n",
    "print('ADF Statistic: %f' % result[0])\n",
    "print('p-value: %f' % result[1])\n",
    "print('Critical Values:')\n",
    "for key, value in result[4].items():\n",
    "\tprint('\\t%s: %.3f' % (key, value))"
   ]
  },
  {
   "cell_type": "code",
   "execution_count": 174,
   "metadata": {},
   "outputs": [
    {
     "name": "stdout",
     "output_type": "stream",
     "text": [
      "ADF Statistic: 4.919170\n",
      "p-value: 1.000000\n",
      "Critical Values:\n",
      "\t1%: -3.601\n",
      "\t5%: -2.935\n",
      "\t10%: -2.606\n"
     ]
    }
   ],
   "source": [
    "result = adfuller(data['amazon_RD'])\n",
    "print('ADF Statistic: %f' % result[0])\n",
    "print('p-value: %f' % result[1])\n",
    "print('Critical Values:')\n",
    "for key, value in result[4].items():\n",
    "\tprint('\\t%s: %.3f' % (key, value))"
   ]
  },
  {
   "cell_type": "code",
   "execution_count": 175,
   "metadata": {},
   "outputs": [
    {
     "name": "stdout",
     "output_type": "stream",
     "text": [
      "ADF Statistic: 2.214492\n",
      "p-value: 0.998894\n",
      "Critical Values:\n",
      "\t1%: -3.616\n",
      "\t5%: -2.941\n",
      "\t10%: -2.609\n"
     ]
    }
   ],
   "source": [
    "result = adfuller(data['amazon_mark'])\n",
    "print('ADF Statistic: %f' % result[0])\n",
    "print('p-value: %f' % result[1])\n",
    "print('Critical Values:')\n",
    "for key, value in result[4].items():\n",
    "\tprint('\\t%s: %.3f' % (key, value))"
   ]
  },
  {
   "cell_type": "code",
   "execution_count": 176,
   "metadata": {},
   "outputs": [
    {
     "name": "stdout",
     "output_type": "stream",
     "text": [
      "ADF Statistic: 2.644402\n",
      "p-value: 0.999082\n",
      "Critical Values:\n",
      "\t1%: -3.597\n",
      "\t5%: -2.933\n",
      "\t10%: -2.605\n"
     ]
    }
   ],
   "source": [
    "result = adfuller(data['amazon_NI'])\n",
    "print('ADF Statistic: %f' % result[0])\n",
    "print('p-value: %f' % result[1])\n",
    "print('Critical Values:')\n",
    "for key, value in result[4].items():\n",
    "\tprint('\\t%s: %.3f' % (key, value))"
   ]
  },
  {
   "cell_type": "code",
   "execution_count": 177,
   "metadata": {},
   "outputs": [],
   "source": [
    "data['da'] = data['amazon'].diff(periods=1)\n",
    "data['dard'] = data['amazon_RD'].diff(periods=1)\n",
    "data['dam'] = data['amazon_mark'].diff(periods=1)\n",
    "data['dani'] = data['amazon_NI'].diff(periods=1)\n",
    "\n",
    "data.dropna(inplace=True)"
   ]
  },
  {
   "cell_type": "code",
   "execution_count": 178,
   "metadata": {},
   "outputs": [
    {
     "name": "stdout",
     "output_type": "stream",
     "text": [
      "ADF Statistic: 2.911675\n",
      "p-value: 1.000000\n",
      "Critical Values:\n",
      "\t1%: -3.610\n",
      "\t5%: -2.939\n",
      "\t10%: -2.608\n"
     ]
    }
   ],
   "source": [
    "result = adfuller(data['da'])\n",
    "print('ADF Statistic: %f' % result[0])\n",
    "print('p-value: %f' % result[1])\n",
    "print('Critical Values:')\n",
    "for key, value in result[4].items():\n",
    "    print('\\t%s: %.3f' % (key, value))"
   ]
  },
  {
   "cell_type": "code",
   "execution_count": 179,
   "metadata": {},
   "outputs": [
    {
     "name": "stdout",
     "output_type": "stream",
     "text": [
      "ADF Statistic: 4.192402\n",
      "p-value: 1.000000\n",
      "Critical Values:\n",
      "\t1%: -3.610\n",
      "\t5%: -2.939\n",
      "\t10%: -2.608\n"
     ]
    }
   ],
   "source": [
    "result = adfuller(data['dard'])\n",
    "print('ADF Statistic: %f' % result[0])\n",
    "print('p-value: %f' % result[1])\n",
    "print('Critical Values:')\n",
    "for key, value in result[4].items():\n",
    "    print('\\t%s: %.3f' % (key, value))"
   ]
  },
  {
   "cell_type": "code",
   "execution_count": 180,
   "metadata": {},
   "outputs": [
    {
     "name": "stdout",
     "output_type": "stream",
     "text": [
      "ADF Statistic: 3.313397\n",
      "p-value: 1.000000\n",
      "Critical Values:\n",
      "\t1%: -3.621\n",
      "\t5%: -2.944\n",
      "\t10%: -2.610\n"
     ]
    }
   ],
   "source": [
    "result = adfuller(data['dam'])\n",
    "print('ADF Statistic: %f' % result[0])\n",
    "print('p-value: %f' % result[1])\n",
    "print('Critical Values:')\n",
    "for key, value in result[4].items():\n",
    "    print('\\t%s: %.3f' % (key, value))"
   ]
  },
  {
   "cell_type": "code",
   "execution_count": 181,
   "metadata": {},
   "outputs": [
    {
     "name": "stdout",
     "output_type": "stream",
     "text": [
      "ADF Statistic: 0.535049\n",
      "p-value: 0.985900\n",
      "Critical Values:\n",
      "\t1%: -3.597\n",
      "\t5%: -2.933\n",
      "\t10%: -2.605\n"
     ]
    }
   ],
   "source": [
    "result = adfuller(data['dani'])\n",
    "print('ADF Statistic: %f' % result[0])\n",
    "print('p-value: %f' % result[1])\n",
    "print('Critical Values:')\n",
    "for key, value in result[4].items():\n",
    "    print('\\t%s: %.3f' % (key, value))"
   ]
  },
  {
   "cell_type": "code",
   "execution_count": 182,
   "metadata": {},
   "outputs": [],
   "source": [
    "data['Internet_Usage'] = data['Internet_Usage'].astype(str)\n",
    "data['Internet_Usage'] = data['Internet_Usage'].apply(lambda x: x.replace(\",\",\"\").strip())"
   ]
  },
  {
   "cell_type": "code",
   "execution_count": 183,
   "metadata": {},
   "outputs": [],
   "source": [
    "data['Internet_Usage'] = data['Internet_Usage'].astype(float)"
   ]
  },
  {
   "cell_type": "code",
   "execution_count": 184,
   "metadata": {},
   "outputs": [
    {
     "name": "stderr",
     "output_type": "stream",
     "text": [
      "/anaconda3/lib/python3.7/site-packages/ipykernel_launcher.py:10: RuntimeWarning: invalid value encountered in log\n",
      "  # Remove the CWD from sys.path while we load stuff.\n"
     ]
    }
   ],
   "source": [
    "data['da1'] = np.log(data['amazon'])\n",
    "data['da'] = data['da1'].diff(periods=1)\n",
    "\n",
    "data['dard1'] = np.log(data['amazon_RD'])\n",
    "data['dard'] = data['dard1'].diff(periods=1)\n",
    "\n",
    "data['dam1'] = np.log(data['amazon_mark'])\n",
    "data['dam'] = data['dam1'].diff(periods=1)\n",
    "\n",
    "data['dani'] = np.log(data['amazon_NI'])\n",
    "data['dani'] = data['dani'].diff(periods=1)\n",
    "\n",
    "data['i_log_diff'] = np.log(data['Internet_Usage'])\n",
    "data['i_log_diff'] = data['i_log_diff'].diff(periods=1)\n",
    "\n",
    "data.dropna(inplace=True)"
   ]
  },
  {
   "cell_type": "code",
   "execution_count": 185,
   "metadata": {},
   "outputs": [
    {
     "data": {
      "text/plain": [
       "(-3.0244459903319005,\n",
       " 0.10450842721806408,\n",
       " array([-4.2475573 , -3.52174107, -3.17154412]))"
      ]
     },
     "execution_count": 185,
     "metadata": {},
     "output_type": "execute_result"
    }
   ],
   "source": [
    "#cointegration\n",
    "smtools.coint(data['dard1'], data['da1'],\n",
    "              trend='c', method='aeg', maxlag=None, autolag='aic', return_results=None)"
   ]
  },
  {
   "cell_type": "code",
   "execution_count": 186,
   "metadata": {},
   "outputs": [
    {
     "data": {
      "text/plain": [
       "(-2.3107956898240465,\n",
       " 0.36817837805894993,\n",
       " array([-4.2475573 , -3.52174107, -3.17154412]))"
      ]
     },
     "execution_count": 186,
     "metadata": {},
     "output_type": "execute_result"
    }
   ],
   "source": [
    "#cointegration\n",
    "smtools.coint(data['dam1'], data['da1'],\n",
    "              trend='c', method='aeg', maxlag=None, autolag='aic', return_results=None)"
   ]
  },
  {
   "cell_type": "code",
   "execution_count": 187,
   "metadata": {},
   "outputs": [
    {
     "data": {
      "text/html": [
       "<div>\n",
       "<style scoped>\n",
       "    .dataframe tbody tr th:only-of-type {\n",
       "        vertical-align: middle;\n",
       "    }\n",
       "\n",
       "    .dataframe tbody tr th {\n",
       "        vertical-align: top;\n",
       "    }\n",
       "\n",
       "    .dataframe thead th {\n",
       "        text-align: right;\n",
       "    }\n",
       "</style>\n",
       "<table border=\"1\" class=\"dataframe\">\n",
       "  <thead>\n",
       "    <tr style=\"text-align: right;\">\n",
       "      <th></th>\n",
       "      <th>Date</th>\n",
       "      <th>Internet_Usage</th>\n",
       "      <th>amazon</th>\n",
       "      <th>ebay</th>\n",
       "      <th>ebay_RD</th>\n",
       "      <th>amazon_RD</th>\n",
       "      <th>amazon_mark</th>\n",
       "      <th>amazon_NI</th>\n",
       "      <th>da</th>\n",
       "      <th>dard</th>\n",
       "      <th>dam</th>\n",
       "      <th>dani</th>\n",
       "      <th>i_log_diff</th>\n",
       "    </tr>\n",
       "  </thead>\n",
       "  <tbody>\n",
       "    <tr>\n",
       "      <th>22</th>\n",
       "      <td>2004-06-30</td>\n",
       "      <td>677.0</td>\n",
       "      <td>5998.0</td>\n",
       "      <td>2709.0</td>\n",
       "      <td>59.98</td>\n",
       "      <td>71.0</td>\n",
       "      <td>35.640000</td>\n",
       "      <td>275.85</td>\n",
       "      <td>0.130535</td>\n",
       "      <td>0.315097</td>\n",
       "      <td>-0.227575</td>\n",
       "      <td>2.056541</td>\n",
       "      <td>0.107496</td>\n",
       "    </tr>\n",
       "    <tr>\n",
       "      <th>23</th>\n",
       "      <td>2004-09-30</td>\n",
       "      <td>719.0</td>\n",
       "      <td>6326.0</td>\n",
       "      <td>2984.0</td>\n",
       "      <td>63.40</td>\n",
       "      <td>81.5</td>\n",
       "      <td>36.298755</td>\n",
       "      <td>314.29</td>\n",
       "      <td>0.053242</td>\n",
       "      <td>0.137923</td>\n",
       "      <td>0.018315</td>\n",
       "      <td>0.130459</td>\n",
       "      <td>0.060190</td>\n",
       "    </tr>\n",
       "    <tr>\n",
       "      <th>27</th>\n",
       "      <td>2005-09-30</td>\n",
       "      <td>817.0</td>\n",
       "      <td>8054.0</td>\n",
       "      <td>4159.0</td>\n",
       "      <td>78.88</td>\n",
       "      <td>126.0</td>\n",
       "      <td>43.385294</td>\n",
       "      <td>506.00</td>\n",
       "      <td>0.241501</td>\n",
       "      <td>0.435679</td>\n",
       "      <td>0.178337</td>\n",
       "      <td>0.476221</td>\n",
       "      <td>0.127778</td>\n",
       "    </tr>\n",
       "    <tr>\n",
       "      <th>28</th>\n",
       "      <td>2005-12-31</td>\n",
       "      <td>888.0</td>\n",
       "      <td>8490.0</td>\n",
       "      <td>4552.0</td>\n",
       "      <td>103.88</td>\n",
       "      <td>156.5</td>\n",
       "      <td>79.782353</td>\n",
       "      <td>359.00</td>\n",
       "      <td>0.052720</td>\n",
       "      <td>0.216774</td>\n",
       "      <td>0.609182</td>\n",
       "      <td>-0.343214</td>\n",
       "      <td>0.083333</td>\n",
       "    </tr>\n",
       "    <tr>\n",
       "      <th>29</th>\n",
       "      <td>2006-03-31</td>\n",
       "      <td>938.0</td>\n",
       "      <td>8867.0</td>\n",
       "      <td>4911.0</td>\n",
       "      <td>119.07</td>\n",
       "      <td>146.0</td>\n",
       "      <td>51.373178</td>\n",
       "      <td>332.00</td>\n",
       "      <td>0.043448</td>\n",
       "      <td>-0.069449</td>\n",
       "      <td>-0.440186</td>\n",
       "      <td>-0.078187</td>\n",
       "      <td>0.054778</td>\n",
       "    </tr>\n",
       "  </tbody>\n",
       "</table>\n",
       "</div>"
      ],
      "text/plain": [
       "         Date  Internet_Usage  amazon    ebay  ebay_RD  amazon_RD  \\\n",
       "22 2004-06-30           677.0  5998.0  2709.0    59.98       71.0   \n",
       "23 2004-09-30           719.0  6326.0  2984.0    63.40       81.5   \n",
       "27 2005-09-30           817.0  8054.0  4159.0    78.88      126.0   \n",
       "28 2005-12-31           888.0  8490.0  4552.0   103.88      156.5   \n",
       "29 2006-03-31           938.0  8867.0  4911.0   119.07      146.0   \n",
       "\n",
       "    amazon_mark  amazon_NI        da      dard       dam      dani  i_log_diff  \n",
       "22    35.640000     275.85  0.130535  0.315097 -0.227575  2.056541    0.107496  \n",
       "23    36.298755     314.29  0.053242  0.137923  0.018315  0.130459    0.060190  \n",
       "27    43.385294     506.00  0.241501  0.435679  0.178337  0.476221    0.127778  \n",
       "28    79.782353     359.00  0.052720  0.216774  0.609182 -0.343214    0.083333  \n",
       "29    51.373178     332.00  0.043448 -0.069449 -0.440186 -0.078187    0.054778  "
      ]
     },
     "execution_count": 187,
     "metadata": {},
     "output_type": "execute_result"
    }
   ],
   "source": [
    "data = data.drop([\"da1\",'dard1','dam1'], axis=1)\n",
    "data.head()"
   ]
  },
  {
   "cell_type": "code",
   "execution_count": 188,
   "metadata": {},
   "outputs": [
    {
     "name": "stdout",
     "output_type": "stream",
     "text": [
      "ADF Statistic: -5.181286\n",
      "p-value: 0.000010\n",
      "Critical Values:\n",
      "\t1%: -3.639\n",
      "\t5%: -2.951\n",
      "\t10%: -2.614\n"
     ]
    }
   ],
   "source": [
    "result = adfuller(data['da'])\n",
    "print('ADF Statistic: %f' % result[0])\n",
    "print('p-value: %f' % result[1])\n",
    "print('Critical Values:')\n",
    "for key, value in result[4].items():\n",
    "    print('\\t%s: %.3f' % (key, value))"
   ]
  },
  {
   "cell_type": "code",
   "execution_count": 189,
   "metadata": {},
   "outputs": [
    {
     "name": "stdout",
     "output_type": "stream",
     "text": [
      "ADF Statistic: -4.702695\n",
      "p-value: 0.000083\n",
      "Critical Values:\n",
      "\t1%: -3.639\n",
      "\t5%: -2.951\n",
      "\t10%: -2.614\n"
     ]
    }
   ],
   "source": [
    "result = adfuller(data['dard'])\n",
    "print('ADF Statistic: %f' % result[0])\n",
    "print('p-value: %f' % result[1])\n",
    "print('Critical Values:')\n",
    "for key, value in result[4].items():\n",
    "    print('\\t%s: %.3f' % (key, value))"
   ]
  },
  {
   "cell_type": "code",
   "execution_count": 190,
   "metadata": {},
   "outputs": [
    {
     "name": "stdout",
     "output_type": "stream",
     "text": [
      "ADF Statistic: -9.353763\n",
      "p-value: 0.000000\n",
      "Critical Values:\n",
      "\t1%: -3.654\n",
      "\t5%: -2.957\n",
      "\t10%: -2.618\n"
     ]
    }
   ],
   "source": [
    "result = adfuller(data['dam'])\n",
    "print('ADF Statistic: %f' % result[0])\n",
    "print('p-value: %f' % result[1])\n",
    "print('Critical Values:')\n",
    "for key, value in result[4].items():\n",
    "    print('\\t%s: %.3f' % (key, value))"
   ]
  },
  {
   "cell_type": "code",
   "execution_count": 191,
   "metadata": {},
   "outputs": [
    {
     "name": "stdout",
     "output_type": "stream",
     "text": [
      "ADF Statistic: -6.814640\n",
      "p-value: 0.000000\n",
      "Critical Values:\n",
      "\t1%: -3.639\n",
      "\t5%: -2.951\n",
      "\t10%: -2.614\n"
     ]
    }
   ],
   "source": [
    "result = adfuller(data['dani'])\n",
    "print('ADF Statistic: %f' % result[0])\n",
    "print('p-value: %f' % result[1])\n",
    "print('Critical Values:')\n",
    "for key, value in result[4].items():\n",
    "    print('\\t%s: %.3f' % (key, value))"
   ]
  },
  {
   "cell_type": "code",
   "execution_count": 192,
   "metadata": {},
   "outputs": [
    {
     "name": "stdout",
     "output_type": "stream",
     "text": [
      "ADF Statistic: -5.017068\n",
      "p-value: 0.000021\n",
      "Critical Values:\n",
      "\t1%: -3.670\n",
      "\t5%: -2.964\n",
      "\t10%: -2.621\n"
     ]
    }
   ],
   "source": [
    "result = adfuller(data['i_log_diff'])\n",
    "print('ADF Statistic: %f' % result[0])\n",
    "print('p-value: %f' % result[1])\n",
    "print('Critical Values:')\n",
    "for key, value in result[4].items():\n",
    "    print('\\t%s: %.3f' % (key, value))"
   ]
  },
  {
   "cell_type": "code",
   "execution_count": 193,
   "metadata": {},
   "outputs": [],
   "source": [
    "# now the data is stationary so we can do an OLS"
   ]
  },
  {
   "cell_type": "code",
   "execution_count": 194,
   "metadata": {},
   "outputs": [],
   "source": [
    "data['lag_a1'] = data['da'].shift(1)\n",
    "data['lag_a2'] = data['da'].shift(2)\n",
    "\n",
    "data.dropna(inplace=True)"
   ]
  },
  {
   "cell_type": "code",
   "execution_count": 195,
   "metadata": {},
   "outputs": [
    {
     "data": {
      "text/html": [
       "<div>\n",
       "<style scoped>\n",
       "    .dataframe tbody tr th:only-of-type {\n",
       "        vertical-align: middle;\n",
       "    }\n",
       "\n",
       "    .dataframe tbody tr th {\n",
       "        vertical-align: top;\n",
       "    }\n",
       "\n",
       "    .dataframe thead th {\n",
       "        text-align: right;\n",
       "    }\n",
       "</style>\n",
       "<table border=\"1\" class=\"dataframe\">\n",
       "  <thead>\n",
       "    <tr style=\"text-align: right;\">\n",
       "      <th></th>\n",
       "      <th>Date</th>\n",
       "      <th>Internet_Usage</th>\n",
       "      <th>amazon</th>\n",
       "      <th>ebay</th>\n",
       "      <th>ebay_RD</th>\n",
       "      <th>amazon_RD</th>\n",
       "      <th>amazon_mark</th>\n",
       "      <th>amazon_NI</th>\n",
       "      <th>da</th>\n",
       "      <th>dard</th>\n",
       "      <th>dam</th>\n",
       "      <th>dani</th>\n",
       "      <th>i_log_diff</th>\n",
       "      <th>lag_a1</th>\n",
       "      <th>lag_a2</th>\n",
       "    </tr>\n",
       "  </thead>\n",
       "  <tbody>\n",
       "    <tr>\n",
       "      <th>27</th>\n",
       "      <td>2005-09-30</td>\n",
       "      <td>817.0</td>\n",
       "      <td>8054.0</td>\n",
       "      <td>4159.0</td>\n",
       "      <td>78.88</td>\n",
       "      <td>126.0</td>\n",
       "      <td>43.385294</td>\n",
       "      <td>506.0</td>\n",
       "      <td>0.241501</td>\n",
       "      <td>0.435679</td>\n",
       "      <td>0.178337</td>\n",
       "      <td>0.476221</td>\n",
       "      <td>0.127778</td>\n",
       "      <td>0.053242</td>\n",
       "      <td>0.130535</td>\n",
       "    </tr>\n",
       "    <tr>\n",
       "      <th>28</th>\n",
       "      <td>2005-12-31</td>\n",
       "      <td>888.0</td>\n",
       "      <td>8490.0</td>\n",
       "      <td>4552.0</td>\n",
       "      <td>103.88</td>\n",
       "      <td>156.5</td>\n",
       "      <td>79.782353</td>\n",
       "      <td>359.0</td>\n",
       "      <td>0.052720</td>\n",
       "      <td>0.216774</td>\n",
       "      <td>0.609182</td>\n",
       "      <td>-0.343214</td>\n",
       "      <td>0.083333</td>\n",
       "      <td>0.241501</td>\n",
       "      <td>0.053242</td>\n",
       "    </tr>\n",
       "    <tr>\n",
       "      <th>29</th>\n",
       "      <td>2006-03-31</td>\n",
       "      <td>938.0</td>\n",
       "      <td>8867.0</td>\n",
       "      <td>4911.0</td>\n",
       "      <td>119.07</td>\n",
       "      <td>146.0</td>\n",
       "      <td>51.373178</td>\n",
       "      <td>332.0</td>\n",
       "      <td>0.043448</td>\n",
       "      <td>-0.069449</td>\n",
       "      <td>-0.440186</td>\n",
       "      <td>-0.078187</td>\n",
       "      <td>0.054778</td>\n",
       "      <td>0.052720</td>\n",
       "      <td>0.241501</td>\n",
       "    </tr>\n",
       "    <tr>\n",
       "      <th>30</th>\n",
       "      <td>2006-06-30</td>\n",
       "      <td>957.0</td>\n",
       "      <td>9253.0</td>\n",
       "      <td>5236.0</td>\n",
       "      <td>123.97</td>\n",
       "      <td>167.0</td>\n",
       "      <td>53.929057</td>\n",
       "      <td>302.0</td>\n",
       "      <td>0.042611</td>\n",
       "      <td>0.134387</td>\n",
       "      <td>0.048553</td>\n",
       "      <td>-0.094708</td>\n",
       "      <td>0.020053</td>\n",
       "      <td>0.043448</td>\n",
       "      <td>0.052720</td>\n",
       "    </tr>\n",
       "    <tr>\n",
       "      <th>31</th>\n",
       "      <td>2006-09-30</td>\n",
       "      <td>1018.0</td>\n",
       "      <td>9702.0</td>\n",
       "      <td>5579.0</td>\n",
       "      <td>120.40</td>\n",
       "      <td>172.0</td>\n",
       "      <td>61.596696</td>\n",
       "      <td>291.0</td>\n",
       "      <td>0.047384</td>\n",
       "      <td>0.029501</td>\n",
       "      <td>0.132939</td>\n",
       "      <td>-0.037104</td>\n",
       "      <td>0.061792</td>\n",
       "      <td>0.042611</td>\n",
       "      <td>0.043448</td>\n",
       "    </tr>\n",
       "  </tbody>\n",
       "</table>\n",
       "</div>"
      ],
      "text/plain": [
       "         Date  Internet_Usage  amazon    ebay  ebay_RD  amazon_RD  \\\n",
       "27 2005-09-30           817.0  8054.0  4159.0    78.88      126.0   \n",
       "28 2005-12-31           888.0  8490.0  4552.0   103.88      156.5   \n",
       "29 2006-03-31           938.0  8867.0  4911.0   119.07      146.0   \n",
       "30 2006-06-30           957.0  9253.0  5236.0   123.97      167.0   \n",
       "31 2006-09-30          1018.0  9702.0  5579.0   120.40      172.0   \n",
       "\n",
       "    amazon_mark  amazon_NI        da      dard       dam      dani  \\\n",
       "27    43.385294      506.0  0.241501  0.435679  0.178337  0.476221   \n",
       "28    79.782353      359.0  0.052720  0.216774  0.609182 -0.343214   \n",
       "29    51.373178      332.0  0.043448 -0.069449 -0.440186 -0.078187   \n",
       "30    53.929057      302.0  0.042611  0.134387  0.048553 -0.094708   \n",
       "31    61.596696      291.0  0.047384  0.029501  0.132939 -0.037104   \n",
       "\n",
       "    i_log_diff    lag_a1    lag_a2  \n",
       "27    0.127778  0.053242  0.130535  \n",
       "28    0.083333  0.241501  0.053242  \n",
       "29    0.054778  0.052720  0.241501  \n",
       "30    0.020053  0.043448  0.052720  \n",
       "31    0.061792  0.042611  0.043448  "
      ]
     },
     "execution_count": 195,
     "metadata": {},
     "output_type": "execute_result"
    }
   ],
   "source": [
    "data.head()"
   ]
  },
  {
   "cell_type": "code",
   "execution_count": 196,
   "metadata": {},
   "outputs": [],
   "source": [
    "X1_multi=data.drop(['Date','amazon','ebay','Internet_Usage','ebay_RD','amazon_RD','amazon_mark', 'amazon_NI','da',\n",
    "                  'amazon_RD','amazon_mark','amazon_NI','dani'], axis=1)\n",
    "Y_target=data.da"
   ]
  },
  {
   "cell_type": "code",
   "execution_count": 197,
   "metadata": {},
   "outputs": [],
   "source": [
    "X1_multi=sm.tools.tools.add_constant(X1_multi, prepend=True, has_constant='skip')"
   ]
  },
  {
   "cell_type": "code",
   "execution_count": 198,
   "metadata": {},
   "outputs": [
    {
     "name": "stdout",
     "output_type": "stream",
     "text": [
      "                            OLS Regression Results                            \n",
      "==============================================================================\n",
      "Dep. Variable:                     da   R-squared:                       0.519\n",
      "Model:                            OLS   Adj. R-squared:                  0.430\n",
      "Method:                 Least Squares   F-statistic:                     5.831\n",
      "Date:                Wed, 08 May 2019   Prob (F-statistic):           0.000891\n",
      "Time:                        00:51:42   Log-Likelihood:                 65.018\n",
      "No. Observations:                  33   AIC:                            -118.0\n",
      "Df Residuals:                      27   BIC:                            -109.1\n",
      "Df Model:                           5                                         \n",
      "Covariance Type:            nonrobust                                         \n",
      "==============================================================================\n",
      "                 coef    std err          t      P>|t|      [0.025      0.975]\n",
      "------------------------------------------------------------------------------\n",
      "const          0.0397      0.020      2.019      0.053      -0.001       0.080\n",
      "dard           0.2990      0.092      3.258      0.003       0.111       0.487\n",
      "dam            0.0265      0.029      0.915      0.368      -0.033       0.086\n",
      "i_log_diff     0.1878      0.291      0.645      0.524      -0.409       0.785\n",
      "lag_a1        -0.0353      0.139     -0.253      0.802      -0.321       0.250\n",
      "lag_a2         0.1299      0.151      0.860      0.398      -0.180       0.440\n",
      "==============================================================================\n",
      "Omnibus:                        0.579   Durbin-Watson:                   1.673\n",
      "Prob(Omnibus):                  0.748   Jarque-Bera (JB):                0.120\n",
      "Skew:                          -0.133   Prob(JB):                        0.942\n",
      "Kurtosis:                       3.130   Cond. No.                         46.9\n",
      "==============================================================================\n",
      "\n",
      "Warnings:\n",
      "[1] Standard Errors assume that the covariance matrix of the errors is correctly specified.\n"
     ]
    },
    {
     "data": {
      "image/png": "[encoded data removed]",
      "text/plain": [
       "<Figure size 432x288 with 1 Axes>"
      ]
     },
     "metadata": {
      "needs_background": "light"
     },
     "output_type": "display_data"
    },
    {
     "data": {
      "image/png": "[encoded data removed]",
      "text/plain": [
       "<Figure size 432x288 with 1 Axes>"
      ]
     },
     "metadata": {
      "needs_background": "light"
     },
     "output_type": "display_data"
    }
   ],
   "source": [
    "model = sm.OLS(Y_target, X1_multi)\n",
    "model_fit = model.fit(disp=0)\n",
    "print(model_fit.summary())\n",
    "# plot residual errors\n",
    "residuals = DataFrame(model_fit.resid)\n",
    "residuals.plot()\n",
    "pyplot.show()\n",
    "plot_acf(residuals,lags=12)\n",
    "pyplot.show()"
   ]
  },
  {
   "cell_type": "code",
   "execution_count": 199,
   "metadata": {},
   "outputs": [],
   "source": [
    "X1_multi=data.drop(['Date','amazon','ebay','Internet_Usage','ebay_RD','amazon_RD','amazon_mark', 'amazon_NI','da',\n",
    "                  'amazon_RD','amazon_mark','amazon_NI','lag_a2', 'dani','dard'], axis=1)\n",
    "Y_target=data.da"
   ]
  },
  {
   "cell_type": "code",
   "execution_count": 200,
   "metadata": {},
   "outputs": [],
   "source": [
    "X1_multi=sm.tools.tools.add_constant(X1_multi, prepend=True, has_constant='skip')"
   ]
  },
  {
   "cell_type": "code",
   "execution_count": 201,
   "metadata": {},
   "outputs": [
    {
     "name": "stdout",
     "output_type": "stream",
     "text": [
      "                            OLS Regression Results                            \n",
      "==============================================================================\n",
      "Dep. Variable:                     da   R-squared:                       0.309\n",
      "Model:                            OLS   Adj. R-squared:                  0.237\n",
      "Method:                 Least Squares   F-statistic:                     4.315\n",
      "Date:                Wed, 08 May 2019   Prob (F-statistic):             0.0124\n",
      "Time:                        00:51:43   Log-Likelihood:                 59.025\n",
      "No. Observations:                  33   AIC:                            -110.1\n",
      "Df Residuals:                      29   BIC:                            -104.1\n",
      "Df Model:                           3                                         \n",
      "Covariance Type:            nonrobust                                         \n",
      "==============================================================================\n",
      "                 coef    std err          t      P>|t|      [0.025      0.975]\n",
      "------------------------------------------------------------------------------\n",
      "const          0.0452      0.020      2.281      0.030       0.005       0.086\n",
      "dam            0.0609      0.029      2.069      0.048       0.001       0.121\n",
      "i_log_diff     0.7028      0.285      2.463      0.020       0.119       1.286\n",
      "lag_a1         0.0889      0.155      0.573      0.571      -0.229       0.406\n",
      "==============================================================================\n",
      "Omnibus:                        1.538   Durbin-Watson:                   1.637\n",
      "Prob(Omnibus):                  0.463   Jarque-Bera (JB):                0.560\n",
      "Skew:                          -0.109   Prob(JB):                        0.756\n",
      "Kurtosis:                       3.600   Cond. No.                         38.5\n",
      "==============================================================================\n",
      "\n",
      "Warnings:\n",
      "[1] Standard Errors assume that the covariance matrix of the errors is correctly specified.\n"
     ]
    },
    {
     "data": {
      "image/png": "[encoded data removed]",
      "text/plain": [
       "<Figure size 432x288 with 1 Axes>"
      ]
     },
     "metadata": {
      "needs_background": "light"
     },
     "output_type": "display_data"
    },
    {
     "data": {
      "image/png": "[encoded data removed]",
      "text/plain": [
       "<Figure size 432x288 with 1 Axes>"
      ]
     },
     "metadata": {
      "needs_background": "light"
     },
     "output_type": "display_data"
    }
   ],
   "source": [
    "model = sm.OLS(Y_target, X1_multi)\n",
    "model_fit = model.fit(disp=0)\n",
    "print(model_fit.summary())\n",
    "# plot residual errors\n",
    "residuals = DataFrame(model_fit.resid)\n",
    "residuals.plot()\n",
    "pyplot.show()\n",
    "plot_acf(residuals,lags=12)\n",
    "pyplot.show()"
   ]
  },
  {
   "cell_type": "code",
   "execution_count": 202,
   "metadata": {},
   "outputs": [],
   "source": [
    "# we can see that the internet is significant in amazon case, so we can do difference in difference"
   ]
  },
  {
   "cell_type": "markdown",
   "metadata": {},
   "source": [
    "### Significance Tests"
   ]
  },
  {
   "cell_type": "code",
   "execution_count": 203,
   "metadata": {},
   "outputs": [],
   "source": [
    "dif_test=pd.read_excel(\"t_test.xlsx\")"
   ]
  },
  {
   "cell_type": "code",
   "execution_count": 204,
   "metadata": {},
   "outputs": [
    {
     "data": {
      "text/html": [
       "<div>\n",
       "<style scoped>\n",
       "    .dataframe tbody tr th:only-of-type {\n",
       "        vertical-align: middle;\n",
       "    }\n",
       "\n",
       "    .dataframe tbody tr th {\n",
       "        vertical-align: top;\n",
       "    }\n",
       "\n",
       "    .dataframe thead th {\n",
       "        text-align: right;\n",
       "    }\n",
       "</style>\n",
       "<table border=\"1\" class=\"dataframe\">\n",
       "  <thead>\n",
       "    <tr style=\"text-align: right;\">\n",
       "      <th></th>\n",
       "      <th>amazon</th>\n",
       "      <th>ebay</th>\n",
       "    </tr>\n",
       "  </thead>\n",
       "  <tbody>\n",
       "    <tr>\n",
       "      <th>0</th>\n",
       "      <td>609.80</td>\n",
       "      <td>78.10</td>\n",
       "    </tr>\n",
       "    <tr>\n",
       "      <th>1</th>\n",
       "      <td>816.04</td>\n",
       "      <td>114.90</td>\n",
       "    </tr>\n",
       "    <tr>\n",
       "      <th>2</th>\n",
       "      <td>1014.00</td>\n",
       "      <td>144.90</td>\n",
       "    </tr>\n",
       "    <tr>\n",
       "      <th>3</th>\n",
       "      <td>1217.00</td>\n",
       "      <td>181.70</td>\n",
       "    </tr>\n",
       "    <tr>\n",
       "      <th>4</th>\n",
       "      <td>1640.00</td>\n",
       "      <td>224.72</td>\n",
       "    </tr>\n",
       "  </tbody>\n",
       "</table>\n",
       "</div>"
      ],
      "text/plain": [
       "    amazon    ebay\n",
       "0   609.80   78.10\n",
       "1   816.04  114.90\n",
       "2  1014.00  144.90\n",
       "3  1217.00  181.70\n",
       "4  1640.00  224.72"
      ]
     },
     "execution_count": 204,
     "metadata": {},
     "output_type": "execute_result"
    }
   ],
   "source": [
    "dif_test.head()"
   ]
  },
  {
   "cell_type": "code",
   "execution_count": 205,
   "metadata": {},
   "outputs": [
    {
     "data": {
      "text/plain": [
       "Ttest_indResult(statistic=-9.799845116198561, pvalue=1.2397518726400342e-14)"
      ]
     },
     "execution_count": 205,
     "metadata": {},
     "output_type": "execute_result"
    }
   ],
   "source": [
    "stats.ttest_ind(dif_test[\"amazon\"].iloc[0:37], dif_test[\"amazon\"].iloc[37:])"
   ]
  },
  {
   "cell_type": "code",
   "execution_count": 206,
   "metadata": {},
   "outputs": [],
   "source": [
    "# p_value is lower than 0.05 we reject the Null hypothesis and conclude the difference is significant"
   ]
  },
  {
   "cell_type": "code",
   "execution_count": 207,
   "metadata": {},
   "outputs": [
    {
     "name": "stdout",
     "output_type": "stream",
     "text": [
      "Amazon: Before Iphone launch 5569.752432432432\n",
      "Amazon: After Iphone launch 54202.72727272727\n",
      "Amazon: Iphone launch effect 48632.97484029484\n"
     ]
    }
   ],
   "source": [
    "mean_T2017=dif_test[\"amazon\"].iloc[0:37].mean()\n",
    "mean_A2017=dif_test[\"amazon\"].iloc[37:].mean()\n",
    "TA_dif_A=mean_A2017-mean_T2017\n",
    "print(\"Amazon: Before Iphone launch\", mean_T2017)\n",
    "print(\"Amazon: After Iphone launch\", mean_A2017)\n",
    "print(\"Amazon: Iphone launch effect\", TA_dif_A)"
   ]
  },
  {
   "cell_type": "code",
   "execution_count": 208,
   "metadata": {},
   "outputs": [
    {
     "data": {
      "text/plain": [
       "Ttest_indResult(statistic=-13.58856016704948, pvalue=4.6733140863995364e-21)"
      ]
     },
     "execution_count": 208,
     "metadata": {},
     "output_type": "execute_result"
    }
   ],
   "source": [
    "stats.ttest_ind(dif_test[\"ebay\"].iloc[0:37], dif_test[\"ebay\"].iloc[37:])"
   ]
  },
  {
   "cell_type": "code",
   "execution_count": 209,
   "metadata": {},
   "outputs": [],
   "source": [
    "# p_value is lower than 0.05 we reject the Null hypothesis and conclude the difference is significant"
   ]
  },
  {
   "cell_type": "code",
   "execution_count": 210,
   "metadata": {},
   "outputs": [
    {
     "name": "stdout",
     "output_type": "stream",
     "text": [
      "Ebay: Before Iphone launch 2515.63972972973\n",
      "Ebay: After Iphone launch 10148.060606060606\n",
      "Ebay: Iphone launch effect 7632.420876330876\n"
     ]
    }
   ],
   "source": [
    "mean_T2017=dif_test[\"ebay\"].iloc[0:37].mean()\n",
    "mean_A2017=dif_test[\"ebay\"].iloc[37:].mean()\n",
    "TA_dif_E=mean_A2017-mean_T2017\n",
    "print(\"Ebay: Before Iphone launch\", mean_T2017)\n",
    "print(\"Ebay: After Iphone launch\", mean_A2017)\n",
    "print(\"Ebay: Iphone launch effect\", TA_dif_E)"
   ]
  },
  {
   "cell_type": "code",
   "execution_count": 211,
   "metadata": {},
   "outputs": [
    {
     "name": "stdout",
     "output_type": "stream",
     "text": [
      "Total Iphone Effect 41000.55396396396\n"
     ]
    }
   ],
   "source": [
    "t_effect=(TA_dif_A-TA_dif_E)\n",
    "print(\"Total Iphone Effect\", t_effect)"
   ]
  },
  {
   "cell_type": "code",
   "execution_count": 212,
   "metadata": {},
   "outputs": [],
   "source": [
    "# Apple effect till March, 2016 is equal to 41,000 billion"
   ]
  },
  {
   "cell_type": "markdown",
   "metadata": {},
   "source": [
    "## Regression Discontinuity"
   ]
  },
  {
   "cell_type": "code",
   "execution_count": 213,
   "metadata": {},
   "outputs": [],
   "source": [
    "df1=pd.read_excel('Amazon_data_rev.xlsx')"
   ]
  },
  {
   "cell_type": "code",
   "execution_count": 214,
   "metadata": {},
   "outputs": [
    {
     "data": {
      "text/html": [
       "<div>\n",
       "<style scoped>\n",
       "    .dataframe tbody tr th:only-of-type {\n",
       "        vertical-align: middle;\n",
       "    }\n",
       "\n",
       "    .dataframe tbody tr th {\n",
       "        vertical-align: top;\n",
       "    }\n",
       "\n",
       "    .dataframe thead th {\n",
       "        text-align: right;\n",
       "    }\n",
       "</style>\n",
       "<table border=\"1\" class=\"dataframe\">\n",
       "  <thead>\n",
       "    <tr style=\"text-align: right;\">\n",
       "      <th></th>\n",
       "      <th>Date</th>\n",
       "      <th>Code</th>\n",
       "      <th>R_D</th>\n",
       "      <th>Mark_Exp</th>\n",
       "      <th>NI</th>\n",
       "      <th>Rev</th>\n",
       "      <th>iphone</th>\n",
       "    </tr>\n",
       "  </thead>\n",
       "  <tbody>\n",
       "    <tr>\n",
       "      <th>0</th>\n",
       "      <td>1998-03-31</td>\n",
       "      <td>1</td>\n",
       "      <td>7.3</td>\n",
       "      <td>13.087464</td>\n",
       "      <td>-36.4</td>\n",
       "      <td>219.30</td>\n",
       "      <td>0</td>\n",
       "    </tr>\n",
       "    <tr>\n",
       "      <th>1</th>\n",
       "      <td>1998-06-30</td>\n",
       "      <td>2</td>\n",
       "      <td>8.1</td>\n",
       "      <td>13.738581</td>\n",
       "      <td>-50.9</td>\n",
       "      <td>307.40</td>\n",
       "      <td>0</td>\n",
       "    </tr>\n",
       "    <tr>\n",
       "      <th>2</th>\n",
       "      <td>1998-09-30</td>\n",
       "      <td>3</td>\n",
       "      <td>13.4</td>\n",
       "      <td>15.691934</td>\n",
       "      <td>-87.6</td>\n",
       "      <td>423.10</td>\n",
       "      <td>0</td>\n",
       "    </tr>\n",
       "    <tr>\n",
       "      <th>3</th>\n",
       "      <td>1998-12-31</td>\n",
       "      <td>4</td>\n",
       "      <td>16.9</td>\n",
       "      <td>24.482021</td>\n",
       "      <td>-123.2</td>\n",
       "      <td>609.80</td>\n",
       "      <td>0</td>\n",
       "    </tr>\n",
       "    <tr>\n",
       "      <th>4</th>\n",
       "      <td>1999-03-31</td>\n",
       "      <td>5</td>\n",
       "      <td>23.5</td>\n",
       "      <td>35.307975</td>\n",
       "      <td>-174.5</td>\n",
       "      <td>816.04</td>\n",
       "      <td>0</td>\n",
       "    </tr>\n",
       "  </tbody>\n",
       "</table>\n",
       "</div>"
      ],
      "text/plain": [
       "        Date  Code   R_D   Mark_Exp     NI     Rev  iphone\n",
       "0 1998-03-31     1   7.3  13.087464  -36.4  219.30       0\n",
       "1 1998-06-30     2   8.1  13.738581  -50.9  307.40       0\n",
       "2 1998-09-30     3  13.4  15.691934  -87.6  423.10       0\n",
       "3 1998-12-31     4  16.9  24.482021 -123.2  609.80       0\n",
       "4 1999-03-31     5  23.5  35.307975 -174.5  816.04       0"
      ]
     },
     "execution_count": 214,
     "metadata": {},
     "output_type": "execute_result"
    }
   ],
   "source": [
    "df1.head()"
   ]
  },
  {
   "cell_type": "code",
   "execution_count": 215,
   "metadata": {},
   "outputs": [],
   "source": [
    "df1 = df1.drop(columns=[\"Date\",\"NI\"])"
   ]
  },
  {
   "cell_type": "code",
   "execution_count": 216,
   "metadata": {},
   "outputs": [],
   "source": [
    "# make stationary"
   ]
  },
  {
   "cell_type": "code",
   "execution_count": 217,
   "metadata": {},
   "outputs": [],
   "source": [
    "df1['d_r_D'] = df1['R_D'].diff(periods=1)\n",
    "df1['d_m_e'] = df1['Mark_Exp'].diff(periods=1)\n",
    "df1['d_rev'] = df1['Rev'].diff(periods=1)\n",
    "\n",
    "df1.dropna(inplace=True)"
   ]
  },
  {
   "cell_type": "code",
   "execution_count": 218,
   "metadata": {},
   "outputs": [
    {
     "name": "stdout",
     "output_type": "stream",
     "text": [
      "ADF Statistic: 2.562205\n",
      "p-value: 0.999067\n",
      "Critical Values:\n",
      "\t1%: -3.526\n",
      "\t5%: -2.903\n",
      "\t10%: -2.589\n"
     ]
    }
   ],
   "source": [
    "result = adfuller(df1['d_r_D'])\n",
    "print('ADF Statistic: %f' % result[0])\n",
    "print('p-value: %f' % result[1])\n",
    "print('Critical Values:')\n",
    "for key, value in result[4].items():\n",
    "    print('\\t%s: %.3f' % (key, value))"
   ]
  },
  {
   "cell_type": "code",
   "execution_count": 219,
   "metadata": {},
   "outputs": [
    {
     "name": "stdout",
     "output_type": "stream",
     "text": [
      "ADF Statistic: 5.055421\n",
      "p-value: 1.000000\n",
      "Critical Values:\n",
      "\t1%: -3.523\n",
      "\t5%: -2.902\n",
      "\t10%: -2.588\n"
     ]
    }
   ],
   "source": [
    "result = adfuller(df1['d_m_e'])\n",
    "print('ADF Statistic: %f' % result[0])\n",
    "print('p-value: %f' % result[1])\n",
    "print('Critical Values:')\n",
    "for key, value in result[4].items():\n",
    "    print('\\t%s: %.3f' % (key, value))"
   ]
  },
  {
   "cell_type": "code",
   "execution_count": 220,
   "metadata": {},
   "outputs": [
    {
     "name": "stdout",
     "output_type": "stream",
     "text": [
      "ADF Statistic: 1.382765\n",
      "p-value: 0.997034\n",
      "Critical Values:\n",
      "\t1%: -3.521\n",
      "\t5%: -2.901\n",
      "\t10%: -2.588\n"
     ]
    }
   ],
   "source": [
    "result = adfuller(df1['d_rev'])\n",
    "print('ADF Statistic: %f' % result[0])\n",
    "print('p-value: %f' % result[1])\n",
    "print('Critical Values:')\n",
    "for key, value in result[4].items():\n",
    "    print('\\t%s: %.3f' % (key, value))"
   ]
  },
  {
   "cell_type": "code",
   "execution_count": 221,
   "metadata": {},
   "outputs": [],
   "source": [
    "df1['d_r_D'] = np.log(df1['R_D'])\n",
    "df1['d_r_D'] = df1['d_r_D'].diff(periods=1)\n",
    "                               \n",
    "df1['d_m_e'] = np.log(df1['Mark_Exp'])\n",
    "df1['d_m_e'] = df1['d_m_e'].diff(periods=1)\n",
    "\n",
    "df1['d_rev_log'] = np.log(df1['Rev'])\n",
    "df1['d_rev'] = df1['d_rev_log'].diff(periods=1)"
   ]
  },
  {
   "cell_type": "code",
   "execution_count": 222,
   "metadata": {},
   "outputs": [
    {
     "data": {
      "text/html": [
       "<div>\n",
       "<style scoped>\n",
       "    .dataframe tbody tr th:only-of-type {\n",
       "        vertical-align: middle;\n",
       "    }\n",
       "\n",
       "    .dataframe tbody tr th {\n",
       "        vertical-align: top;\n",
       "    }\n",
       "\n",
       "    .dataframe thead th {\n",
       "        text-align: right;\n",
       "    }\n",
       "</style>\n",
       "<table border=\"1\" class=\"dataframe\">\n",
       "  <thead>\n",
       "    <tr style=\"text-align: right;\">\n",
       "      <th></th>\n",
       "      <th>Code</th>\n",
       "      <th>R_D</th>\n",
       "      <th>Mark_Exp</th>\n",
       "      <th>Rev</th>\n",
       "      <th>iphone</th>\n",
       "      <th>d_r_D</th>\n",
       "      <th>d_m_e</th>\n",
       "      <th>d_rev</th>\n",
       "      <th>d_rev_log</th>\n",
       "    </tr>\n",
       "  </thead>\n",
       "  <tbody>\n",
       "    <tr>\n",
       "      <th>1</th>\n",
       "      <td>2</td>\n",
       "      <td>8.1</td>\n",
       "      <td>13.738581</td>\n",
       "      <td>307.40</td>\n",
       "      <td>0</td>\n",
       "      <td>NaN</td>\n",
       "      <td>NaN</td>\n",
       "      <td>NaN</td>\n",
       "      <td>5.728150</td>\n",
       "    </tr>\n",
       "    <tr>\n",
       "      <th>2</th>\n",
       "      <td>3</td>\n",
       "      <td>13.4</td>\n",
       "      <td>15.691934</td>\n",
       "      <td>423.10</td>\n",
       "      <td>0</td>\n",
       "      <td>0.503391</td>\n",
       "      <td>0.132939</td>\n",
       "      <td>0.319459</td>\n",
       "      <td>6.047609</td>\n",
       "    </tr>\n",
       "    <tr>\n",
       "      <th>3</th>\n",
       "      <td>4</td>\n",
       "      <td>16.9</td>\n",
       "      <td>24.482021</td>\n",
       "      <td>609.80</td>\n",
       "      <td>0</td>\n",
       "      <td>0.232059</td>\n",
       "      <td>0.444792</td>\n",
       "      <td>0.365522</td>\n",
       "      <td>6.413131</td>\n",
       "    </tr>\n",
       "    <tr>\n",
       "      <th>4</th>\n",
       "      <td>5</td>\n",
       "      <td>23.5</td>\n",
       "      <td>35.307975</td>\n",
       "      <td>816.04</td>\n",
       "      <td>0</td>\n",
       "      <td>0.329687</td>\n",
       "      <td>0.366170</td>\n",
       "      <td>0.291332</td>\n",
       "      <td>6.704463</td>\n",
       "    </tr>\n",
       "    <tr>\n",
       "      <th>5</th>\n",
       "      <td>6</td>\n",
       "      <td>34.3</td>\n",
       "      <td>36.819632</td>\n",
       "      <td>1014.00</td>\n",
       "      <td>0</td>\n",
       "      <td>0.378145</td>\n",
       "      <td>0.041922</td>\n",
       "      <td>0.217195</td>\n",
       "      <td>6.921658</td>\n",
       "    </tr>\n",
       "  </tbody>\n",
       "</table>\n",
       "</div>"
      ],
      "text/plain": [
       "   Code   R_D   Mark_Exp      Rev  iphone     d_r_D     d_m_e     d_rev  \\\n",
       "1     2   8.1  13.738581   307.40       0       NaN       NaN       NaN   \n",
       "2     3  13.4  15.691934   423.10       0  0.503391  0.132939  0.319459   \n",
       "3     4  16.9  24.482021   609.80       0  0.232059  0.444792  0.365522   \n",
       "4     5  23.5  35.307975   816.04       0  0.329687  0.366170  0.291332   \n",
       "5     6  34.3  36.819632  1014.00       0  0.378145  0.041922  0.217195   \n",
       "\n",
       "   d_rev_log  \n",
       "1   5.728150  \n",
       "2   6.047609  \n",
       "3   6.413131  \n",
       "4   6.704463  \n",
       "5   6.921658  "
      ]
     },
     "execution_count": 222,
     "metadata": {},
     "output_type": "execute_result"
    }
   ],
   "source": [
    "df1.head()"
   ]
  },
  {
   "cell_type": "code",
   "execution_count": 223,
   "metadata": {},
   "outputs": [],
   "source": [
    "df1.dropna(inplace=True)"
   ]
  },
  {
   "cell_type": "code",
   "execution_count": 224,
   "metadata": {},
   "outputs": [
    {
     "name": "stdout",
     "output_type": "stream",
     "text": [
      "ADF Statistic: -4.548365\n",
      "p-value: 0.000161\n",
      "Critical Values:\n",
      "\t1%: -3.516\n",
      "\t5%: -2.899\n",
      "\t10%: -2.587\n"
     ]
    }
   ],
   "source": [
    "result = adfuller(df1['d_r_D'])\n",
    "print('ADF Statistic: %f' % result[0])\n",
    "print('p-value: %f' % result[1])\n",
    "print('Critical Values:')\n",
    "for key, value in result[4].items():\n",
    "    print('\\t%s: %.3f' % (key, value))"
   ]
  },
  {
   "cell_type": "code",
   "execution_count": 225,
   "metadata": {},
   "outputs": [
    {
     "name": "stdout",
     "output_type": "stream",
     "text": [
      "ADF Statistic: -2.346152\n",
      "p-value: 0.157514\n",
      "Critical Values:\n",
      "\t1%: -3.522\n",
      "\t5%: -2.901\n",
      "\t10%: -2.588\n"
     ]
    }
   ],
   "source": [
    "result = adfuller(df1['d_m_e'])\n",
    "print('ADF Statistic: %f' % result[0])\n",
    "print('p-value: %f' % result[1])\n",
    "print('Critical Values:')\n",
    "for key, value in result[4].items():\n",
    "    print('\\t%s: %.3f' % (key, value))"
   ]
  },
  {
   "cell_type": "code",
   "execution_count": 226,
   "metadata": {},
   "outputs": [
    {
     "name": "stdout",
     "output_type": "stream",
     "text": [
      "ADF Statistic: -4.418596\n",
      "p-value: 0.000275\n",
      "Critical Values:\n",
      "\t1%: -3.525\n",
      "\t5%: -2.903\n",
      "\t10%: -2.589\n"
     ]
    }
   ],
   "source": [
    "result = adfuller(df1['d_rev'])\n",
    "print('ADF Statistic: %f' % result[0])\n",
    "print('p-value: %f' % result[1])\n",
    "print('Critical Values:')\n",
    "for key, value in result[4].items():\n",
    "    print('\\t%s: %.3f' % (key, value))"
   ]
  },
  {
   "cell_type": "code",
   "execution_count": 227,
   "metadata": {},
   "outputs": [],
   "source": [
    "# so as the data is stationary we can do a simple OLS"
   ]
  },
  {
   "cell_type": "code",
   "execution_count": 228,
   "metadata": {},
   "outputs": [
    {
     "data": {
      "text/html": [
       "<div>\n",
       "<style scoped>\n",
       "    .dataframe tbody tr th:only-of-type {\n",
       "        vertical-align: middle;\n",
       "    }\n",
       "\n",
       "    .dataframe tbody tr th {\n",
       "        vertical-align: top;\n",
       "    }\n",
       "\n",
       "    .dataframe thead th {\n",
       "        text-align: right;\n",
       "    }\n",
       "</style>\n",
       "<table border=\"1\" class=\"dataframe\">\n",
       "  <thead>\n",
       "    <tr style=\"text-align: right;\">\n",
       "      <th></th>\n",
       "      <th>Code</th>\n",
       "      <th>R_D</th>\n",
       "      <th>Mark_Exp</th>\n",
       "      <th>Rev</th>\n",
       "      <th>iphone</th>\n",
       "      <th>d_r_D</th>\n",
       "      <th>d_m_e</th>\n",
       "      <th>d_rev</th>\n",
       "      <th>d_rev_log</th>\n",
       "    </tr>\n",
       "  </thead>\n",
       "  <tbody>\n",
       "    <tr>\n",
       "      <th>2</th>\n",
       "      <td>3</td>\n",
       "      <td>13.4</td>\n",
       "      <td>15.691934</td>\n",
       "      <td>423.10</td>\n",
       "      <td>0</td>\n",
       "      <td>0.503391</td>\n",
       "      <td>0.132939</td>\n",
       "      <td>0.319459</td>\n",
       "      <td>6.047609</td>\n",
       "    </tr>\n",
       "    <tr>\n",
       "      <th>3</th>\n",
       "      <td>4</td>\n",
       "      <td>16.9</td>\n",
       "      <td>24.482021</td>\n",
       "      <td>609.80</td>\n",
       "      <td>0</td>\n",
       "      <td>0.232059</td>\n",
       "      <td>0.444792</td>\n",
       "      <td>0.365522</td>\n",
       "      <td>6.413131</td>\n",
       "    </tr>\n",
       "    <tr>\n",
       "      <th>4</th>\n",
       "      <td>5</td>\n",
       "      <td>23.5</td>\n",
       "      <td>35.307975</td>\n",
       "      <td>816.04</td>\n",
       "      <td>0</td>\n",
       "      <td>0.329687</td>\n",
       "      <td>0.366170</td>\n",
       "      <td>0.291332</td>\n",
       "      <td>6.704463</td>\n",
       "    </tr>\n",
       "    <tr>\n",
       "      <th>5</th>\n",
       "      <td>6</td>\n",
       "      <td>34.3</td>\n",
       "      <td>36.819632</td>\n",
       "      <td>1014.00</td>\n",
       "      <td>0</td>\n",
       "      <td>0.378145</td>\n",
       "      <td>0.041922</td>\n",
       "      <td>0.217195</td>\n",
       "      <td>6.921658</td>\n",
       "    </tr>\n",
       "    <tr>\n",
       "      <th>6</th>\n",
       "      <td>7</td>\n",
       "      <td>44.6</td>\n",
       "      <td>39.950920</td>\n",
       "      <td>1217.00</td>\n",
       "      <td>0</td>\n",
       "      <td>0.262589</td>\n",
       "      <td>0.081621</td>\n",
       "      <td>0.182486</td>\n",
       "      <td>7.104144</td>\n",
       "    </tr>\n",
       "  </tbody>\n",
       "</table>\n",
       "</div>"
      ],
      "text/plain": [
       "   Code   R_D   Mark_Exp      Rev  iphone     d_r_D     d_m_e     d_rev  \\\n",
       "2     3  13.4  15.691934   423.10       0  0.503391  0.132939  0.319459   \n",
       "3     4  16.9  24.482021   609.80       0  0.232059  0.444792  0.365522   \n",
       "4     5  23.5  35.307975   816.04       0  0.329687  0.366170  0.291332   \n",
       "5     6  34.3  36.819632  1014.00       0  0.378145  0.041922  0.217195   \n",
       "6     7  44.6  39.950920  1217.00       0  0.262589  0.081621  0.182486   \n",
       "\n",
       "   d_rev_log  \n",
       "2   6.047609  \n",
       "3   6.413131  \n",
       "4   6.704463  \n",
       "5   6.921658  \n",
       "6   7.104144  "
      ]
     },
     "execution_count": 228,
     "metadata": {},
     "output_type": "execute_result"
    }
   ],
   "source": [
    "df1.head()"
   ]
  },
  {
   "cell_type": "code",
   "execution_count": 229,
   "metadata": {},
   "outputs": [],
   "source": [
    "Y=df1.d_rev\n",
    "X=df1.drop(columns=['Code','R_D','Mark_Exp','Rev','d_rev','d_rev_log','d_m_e'])"
   ]
  },
  {
   "cell_type": "code",
   "execution_count": 230,
   "metadata": {},
   "outputs": [
    {
     "data": {
      "text/html": [
       "<div>\n",
       "<style scoped>\n",
       "    .dataframe tbody tr th:only-of-type {\n",
       "        vertical-align: middle;\n",
       "    }\n",
       "\n",
       "    .dataframe tbody tr th {\n",
       "        vertical-align: top;\n",
       "    }\n",
       "\n",
       "    .dataframe thead th {\n",
       "        text-align: right;\n",
       "    }\n",
       "</style>\n",
       "<table border=\"1\" class=\"dataframe\">\n",
       "  <thead>\n",
       "    <tr style=\"text-align: right;\">\n",
       "      <th></th>\n",
       "      <th>iphone</th>\n",
       "      <th>d_r_D</th>\n",
       "    </tr>\n",
       "  </thead>\n",
       "  <tbody>\n",
       "    <tr>\n",
       "      <th>2</th>\n",
       "      <td>0</td>\n",
       "      <td>0.503391</td>\n",
       "    </tr>\n",
       "    <tr>\n",
       "      <th>3</th>\n",
       "      <td>0</td>\n",
       "      <td>0.232059</td>\n",
       "    </tr>\n",
       "    <tr>\n",
       "      <th>4</th>\n",
       "      <td>0</td>\n",
       "      <td>0.329687</td>\n",
       "    </tr>\n",
       "    <tr>\n",
       "      <th>5</th>\n",
       "      <td>0</td>\n",
       "      <td>0.378145</td>\n",
       "    </tr>\n",
       "    <tr>\n",
       "      <th>6</th>\n",
       "      <td>0</td>\n",
       "      <td>0.262589</td>\n",
       "    </tr>\n",
       "  </tbody>\n",
       "</table>\n",
       "</div>"
      ],
      "text/plain": [
       "   iphone     d_r_D\n",
       "2       0  0.503391\n",
       "3       0  0.232059\n",
       "4       0  0.329687\n",
       "5       0  0.378145\n",
       "6       0  0.262589"
      ]
     },
     "execution_count": 230,
     "metadata": {},
     "output_type": "execute_result"
    }
   ],
   "source": [
    "X.head()"
   ]
  },
  {
   "cell_type": "code",
   "execution_count": 231,
   "metadata": {},
   "outputs": [
    {
     "data": {
      "text/html": [
       "<table class=\"simpletable\">\n",
       "<caption>OLS Regression Results</caption>\n",
       "<tr>\n",
       "  <th>Dep. Variable:</th>          <td>d_rev</td>      <th>  R-squared:         </th> <td>   0.663</td>\n",
       "</tr>\n",
       "<tr>\n",
       "  <th>Model:</th>                   <td>OLS</td>       <th>  Adj. R-squared:    </th> <td>   0.655</td>\n",
       "</tr>\n",
       "<tr>\n",
       "  <th>Method:</th>             <td>Least Squares</td>  <th>  F-statistic:       </th> <td>   79.80</td>\n",
       "</tr>\n",
       "<tr>\n",
       "  <th>Date:</th>             <td>Wed, 08 May 2019</td> <th>  Prob (F-statistic):</th> <td>7.10e-20</td>\n",
       "</tr>\n",
       "<tr>\n",
       "  <th>Time:</th>                 <td>00:51:44</td>     <th>  Log-Likelihood:    </th> <td>  116.75</td>\n",
       "</tr>\n",
       "<tr>\n",
       "  <th>No. Observations:</th>      <td>    83</td>      <th>  AIC:               </th> <td>  -229.5</td>\n",
       "</tr>\n",
       "<tr>\n",
       "  <th>Df Residuals:</th>          <td>    81</td>      <th>  BIC:               </th> <td>  -224.7</td>\n",
       "</tr>\n",
       "<tr>\n",
       "  <th>Df Model:</th>              <td>     2</td>      <th>                     </th>     <td> </td>   \n",
       "</tr>\n",
       "<tr>\n",
       "  <th>Covariance Type:</th>      <td>nonrobust</td>    <th>                     </th>     <td> </td>   \n",
       "</tr>\n",
       "</table>\n",
       "<table class=\"simpletable\">\n",
       "<tr>\n",
       "     <td></td>       <th>coef</th>     <th>std err</th>      <th>t</th>      <th>P>|t|</th>  <th>[0.025</th>    <th>0.975]</th>  \n",
       "</tr>\n",
       "<tr>\n",
       "  <th>iphone</th> <td>    0.0179</td> <td>    0.010</td> <td>    1.840</td> <td> 0.069</td> <td>   -0.001</td> <td>    0.037</td>\n",
       "</tr>\n",
       "<tr>\n",
       "  <th>d_r_D</th>  <td>    0.5835</td> <td>    0.057</td> <td>   10.286</td> <td> 0.000</td> <td>    0.471</td> <td>    0.696</td>\n",
       "</tr>\n",
       "</table>\n",
       "<table class=\"simpletable\">\n",
       "<tr>\n",
       "  <th>Omnibus:</th>       <td>15.331</td> <th>  Durbin-Watson:     </th> <td>   1.020</td>\n",
       "</tr>\n",
       "<tr>\n",
       "  <th>Prob(Omnibus):</th> <td> 0.000</td> <th>  Jarque-Bera (JB):  </th> <td>  18.277</td>\n",
       "</tr>\n",
       "<tr>\n",
       "  <th>Skew:</th>          <td> 0.914</td> <th>  Prob(JB):          </th> <td>0.000107</td>\n",
       "</tr>\n",
       "<tr>\n",
       "  <th>Kurtosis:</th>      <td> 4.394</td> <th>  Cond. No.          </th> <td>    6.59</td>\n",
       "</tr>\n",
       "</table><br/><br/>Warnings:<br/>[1] Standard Errors assume that the covariance matrix of the errors is correctly specified."
      ],
      "text/plain": [
       "<class 'statsmodels.iolib.summary.Summary'>\n",
       "\"\"\"\n",
       "                            OLS Regression Results                            \n",
       "==============================================================================\n",
       "Dep. Variable:                  d_rev   R-squared:                       0.663\n",
       "Model:                            OLS   Adj. R-squared:                  0.655\n",
       "Method:                 Least Squares   F-statistic:                     79.80\n",
       "Date:                Wed, 08 May 2019   Prob (F-statistic):           7.10e-20\n",
       "Time:                        00:51:44   Log-Likelihood:                 116.75\n",
       "No. Observations:                  83   AIC:                            -229.5\n",
       "Df Residuals:                      81   BIC:                            -224.7\n",
       "Df Model:                           2                                         \n",
       "Covariance Type:            nonrobust                                         \n",
       "==============================================================================\n",
       "                 coef    std err          t      P>|t|      [0.025      0.975]\n",
       "------------------------------------------------------------------------------\n",
       "iphone         0.0179      0.010      1.840      0.069      -0.001       0.037\n",
       "d_r_D          0.5835      0.057     10.286      0.000       0.471       0.696\n",
       "==============================================================================\n",
       "Omnibus:                       15.331   Durbin-Watson:                   1.020\n",
       "Prob(Omnibus):                  0.000   Jarque-Bera (JB):               18.277\n",
       "Skew:                           0.914   Prob(JB):                     0.000107\n",
       "Kurtosis:                       4.394   Cond. No.                         6.59\n",
       "==============================================================================\n",
       "\n",
       "Warnings:\n",
       "[1] Standard Errors assume that the covariance matrix of the errors is correctly specified.\n",
       "\"\"\""
      ]
     },
     "execution_count": 231,
     "metadata": {},
     "output_type": "execute_result"
    }
   ],
   "source": [
    "model = sm.OLS(Y,X)\n",
    "result = model.fit()\n",
    "result.summary()"
   ]
  },
  {
   "cell_type": "code",
   "execution_count": 232,
   "metadata": {},
   "outputs": [
    {
     "data": {
      "text/html": [
       "<div>\n",
       "<style scoped>\n",
       "    .dataframe tbody tr th:only-of-type {\n",
       "        vertical-align: middle;\n",
       "    }\n",
       "\n",
       "    .dataframe tbody tr th {\n",
       "        vertical-align: top;\n",
       "    }\n",
       "\n",
       "    .dataframe thead th {\n",
       "        text-align: right;\n",
       "    }\n",
       "</style>\n",
       "<table border=\"1\" class=\"dataframe\">\n",
       "  <thead>\n",
       "    <tr style=\"text-align: right;\">\n",
       "      <th></th>\n",
       "      <th>Code</th>\n",
       "      <th>R_D</th>\n",
       "      <th>Mark_Exp</th>\n",
       "      <th>Rev</th>\n",
       "      <th>iphone</th>\n",
       "      <th>d_r_D</th>\n",
       "      <th>d_m_e</th>\n",
       "      <th>d_rev</th>\n",
       "      <th>d_rev_log</th>\n",
       "    </tr>\n",
       "  </thead>\n",
       "  <tbody>\n",
       "    <tr>\n",
       "      <th>37</th>\n",
       "      <td>38</td>\n",
       "      <td>201.0</td>\n",
       "      <td>71.965644</td>\n",
       "      <td>12190.0</td>\n",
       "      <td>1</td>\n",
       "      <td>0.077558</td>\n",
       "      <td>0.041922</td>\n",
       "      <td>0.062626</td>\n",
       "      <td>9.408371</td>\n",
       "    </tr>\n",
       "  </tbody>\n",
       "</table>\n",
       "</div>"
      ],
      "text/plain": [
       "    Code    R_D   Mark_Exp      Rev  iphone     d_r_D     d_m_e     d_rev  \\\n",
       "37    38  201.0  71.965644  12190.0       1  0.077558  0.041922  0.062626   \n",
       "\n",
       "    d_rev_log  \n",
       "37   9.408371  "
      ]
     },
     "execution_count": 232,
     "metadata": {},
     "output_type": "execute_result"
    }
   ],
   "source": [
    "# the Iphone launch date's code\n",
    "df1[df1[\"Code\"]==38]"
   ]
  },
  {
   "cell_type": "code",
   "execution_count": 233,
   "metadata": {},
   "outputs": [],
   "source": [
    "df1['csize'] = df1['Code'].map(lambda x: x-38)"
   ]
  },
  {
   "cell_type": "code",
   "execution_count": 234,
   "metadata": {},
   "outputs": [
    {
     "data": {
      "text/plain": [
       "Text(0.5, 1.0, 'Regression Discontinuity')"
      ]
     },
     "execution_count": 234,
     "metadata": {},
     "output_type": "execute_result"
    },
    {
     "data": {
      "image/png": "[encoded data removed]",
      "text/plain": [
       "<Figure size 1920x480 with 1 Axes>"
      ]
     },
     "metadata": {},
     "output_type": "display_data"
    }
   ],
   "source": [
    "plt.figure(num=None, figsize=(24, 6), dpi=80, facecolor='w', edgecolor='k')\n",
    "plt.scatter(df1.csize, df1.d_rev, color=\"blue\")\n",
    "l=df1[df1.csize<0].csize.count()\n",
    "plt.plot(df1.csize[0:l], result.predict()[0:l], '-', color=\"r\")\n",
    "plt.plot(df1.csize[l:], result.predict()[l:], '-', color=\"r\")\n",
    "plt.axvline(x=-0.5,color=\"black\", linestyle=\"--\")\n",
    "plt.title(\"Regression Discontinuity\", fontsize=\"18\")"
   ]
  },
  {
   "cell_type": "markdown",
   "metadata": {},
   "source": [
    "## ARDL"
   ]
  },
  {
   "cell_type": "code",
   "execution_count": 235,
   "metadata": {},
   "outputs": [],
   "source": [
    "df1.index=np.arange(0, df1.shape[0])\n"
   ]
  },
  {
   "cell_type": "code",
   "execution_count": 236,
   "metadata": {},
   "outputs": [
    {
     "data": {
      "text/plain": [
       "83"
      ]
     },
     "execution_count": 236,
     "metadata": {},
     "output_type": "execute_result"
    }
   ],
   "source": [
    "len(df1)"
   ]
  },
  {
   "cell_type": "code",
   "execution_count": 237,
   "metadata": {
    "scrolled": true
   },
   "outputs": [
    {
     "data": {
      "text/html": [
       "<div>\n",
       "<style scoped>\n",
       "    .dataframe tbody tr th:only-of-type {\n",
       "        vertical-align: middle;\n",
       "    }\n",
       "\n",
       "    .dataframe tbody tr th {\n",
       "        vertical-align: top;\n",
       "    }\n",
       "\n",
       "    .dataframe thead th {\n",
       "        text-align: right;\n",
       "    }\n",
       "</style>\n",
       "<table border=\"1\" class=\"dataframe\">\n",
       "  <thead>\n",
       "    <tr style=\"text-align: right;\">\n",
       "      <th></th>\n",
       "      <th>Code</th>\n",
       "      <th>R_D</th>\n",
       "      <th>Mark_Exp</th>\n",
       "      <th>Rev</th>\n",
       "      <th>iphone</th>\n",
       "      <th>d_r_D</th>\n",
       "      <th>d_m_e</th>\n",
       "      <th>d_rev</th>\n",
       "      <th>d_rev_log</th>\n",
       "      <th>csize</th>\n",
       "    </tr>\n",
       "  </thead>\n",
       "  <tbody>\n",
       "    <tr>\n",
       "      <th>0</th>\n",
       "      <td>3</td>\n",
       "      <td>13.40</td>\n",
       "      <td>15.691934</td>\n",
       "      <td>423.10</td>\n",
       "      <td>0</td>\n",
       "      <td>0.503391</td>\n",
       "      <td>0.132939</td>\n",
       "      <td>0.319459</td>\n",
       "      <td>6.047609</td>\n",
       "      <td>-35</td>\n",
       "    </tr>\n",
       "    <tr>\n",
       "      <th>1</th>\n",
       "      <td>4</td>\n",
       "      <td>16.90</td>\n",
       "      <td>24.482021</td>\n",
       "      <td>609.80</td>\n",
       "      <td>0</td>\n",
       "      <td>0.232059</td>\n",
       "      <td>0.444792</td>\n",
       "      <td>0.365522</td>\n",
       "      <td>6.413131</td>\n",
       "      <td>-34</td>\n",
       "    </tr>\n",
       "    <tr>\n",
       "      <th>2</th>\n",
       "      <td>5</td>\n",
       "      <td>23.50</td>\n",
       "      <td>35.307975</td>\n",
       "      <td>816.04</td>\n",
       "      <td>0</td>\n",
       "      <td>0.329687</td>\n",
       "      <td>0.366170</td>\n",
       "      <td>0.291332</td>\n",
       "      <td>6.704463</td>\n",
       "      <td>-33</td>\n",
       "    </tr>\n",
       "    <tr>\n",
       "      <th>3</th>\n",
       "      <td>6</td>\n",
       "      <td>34.30</td>\n",
       "      <td>36.819632</td>\n",
       "      <td>1014.00</td>\n",
       "      <td>0</td>\n",
       "      <td>0.378145</td>\n",
       "      <td>0.041922</td>\n",
       "      <td>0.217195</td>\n",
       "      <td>6.921658</td>\n",
       "      <td>-32</td>\n",
       "    </tr>\n",
       "    <tr>\n",
       "      <th>4</th>\n",
       "      <td>7</td>\n",
       "      <td>44.60</td>\n",
       "      <td>39.950920</td>\n",
       "      <td>1217.00</td>\n",
       "      <td>0</td>\n",
       "      <td>0.262589</td>\n",
       "      <td>0.081621</td>\n",
       "      <td>0.182486</td>\n",
       "      <td>7.104144</td>\n",
       "      <td>-31</td>\n",
       "    </tr>\n",
       "    <tr>\n",
       "      <th>5</th>\n",
       "      <td>8</td>\n",
       "      <td>57.40</td>\n",
       "      <td>64.029448</td>\n",
       "      <td>1640.00</td>\n",
       "      <td>0</td>\n",
       "      <td>0.252310</td>\n",
       "      <td>0.471691</td>\n",
       "      <td>0.298307</td>\n",
       "      <td>7.402452</td>\n",
       "      <td>-30</td>\n",
       "    </tr>\n",
       "    <tr>\n",
       "      <th>6</th>\n",
       "      <td>9</td>\n",
       "      <td>61.24</td>\n",
       "      <td>37.800000</td>\n",
       "      <td>1920.00</td>\n",
       "      <td>0</td>\n",
       "      <td>0.064756</td>\n",
       "      <td>-0.527034</td>\n",
       "      <td>0.157629</td>\n",
       "      <td>7.560080</td>\n",
       "      <td>-29</td>\n",
       "    </tr>\n",
       "    <tr>\n",
       "      <th>7</th>\n",
       "      <td>10</td>\n",
       "      <td>67.13</td>\n",
       "      <td>39.600000</td>\n",
       "      <td>2184.00</td>\n",
       "      <td>0</td>\n",
       "      <td>0.091830</td>\n",
       "      <td>0.046520</td>\n",
       "      <td>0.128833</td>\n",
       "      <td>7.688913</td>\n",
       "      <td>-28</td>\n",
       "    </tr>\n",
       "    <tr>\n",
       "      <th>8</th>\n",
       "      <td>11</td>\n",
       "      <td>70.00</td>\n",
       "      <td>40.331950</td>\n",
       "      <td>2466.00</td>\n",
       "      <td>0</td>\n",
       "      <td>0.041864</td>\n",
       "      <td>0.018315</td>\n",
       "      <td>0.121439</td>\n",
       "      <td>7.810353</td>\n",
       "      <td>-27</td>\n",
       "    </tr>\n",
       "    <tr>\n",
       "      <th>9</th>\n",
       "      <td>12</td>\n",
       "      <td>69.79</td>\n",
       "      <td>63.112033</td>\n",
       "      <td>2762.00</td>\n",
       "      <td>0</td>\n",
       "      <td>-0.003005</td>\n",
       "      <td>0.447767</td>\n",
       "      <td>0.113358</td>\n",
       "      <td>7.923710</td>\n",
       "      <td>-26</td>\n",
       "    </tr>\n",
       "    <tr>\n",
       "      <th>10</th>\n",
       "      <td>13</td>\n",
       "      <td>70.28</td>\n",
       "      <td>25.976471</td>\n",
       "      <td>2888.00</td>\n",
       "      <td>0</td>\n",
       "      <td>0.006997</td>\n",
       "      <td>-0.887720</td>\n",
       "      <td>0.044609</td>\n",
       "      <td>7.968320</td>\n",
       "      <td>-25</td>\n",
       "    </tr>\n",
       "    <tr>\n",
       "      <th>11</th>\n",
       "      <td>14</td>\n",
       "      <td>64.71</td>\n",
       "      <td>26.179412</td>\n",
       "      <td>2978.00</td>\n",
       "      <td>0</td>\n",
       "      <td>-0.082572</td>\n",
       "      <td>0.007782</td>\n",
       "      <td>0.030688</td>\n",
       "      <td>7.999007</td>\n",
       "      <td>-24</td>\n",
       "    </tr>\n",
       "    <tr>\n",
       "      <th>12</th>\n",
       "      <td>15</td>\n",
       "      <td>53.85</td>\n",
       "      <td>30.238235</td>\n",
       "      <td>2980.00</td>\n",
       "      <td>0</td>\n",
       "      <td>-0.183713</td>\n",
       "      <td>0.144134</td>\n",
       "      <td>0.000671</td>\n",
       "      <td>7.999679</td>\n",
       "      <td>-23</td>\n",
       "    </tr>\n",
       "    <tr>\n",
       "      <th>13</th>\n",
       "      <td>16</td>\n",
       "      <td>52.32</td>\n",
       "      <td>55.605882</td>\n",
       "      <td>3122.00</td>\n",
       "      <td>0</td>\n",
       "      <td>-0.028824</td>\n",
       "      <td>0.609182</td>\n",
       "      <td>0.046551</td>\n",
       "      <td>8.046229</td>\n",
       "      <td>-22</td>\n",
       "    </tr>\n",
       "    <tr>\n",
       "      <th>14</th>\n",
       "      <td>17</td>\n",
       "      <td>55.50</td>\n",
       "      <td>24.416910</td>\n",
       "      <td>3269.00</td>\n",
       "      <td>0</td>\n",
       "      <td>0.059004</td>\n",
       "      <td>-0.823013</td>\n",
       "      <td>0.046010</td>\n",
       "      <td>8.092239</td>\n",
       "      <td>-21</td>\n",
       "    </tr>\n",
       "    <tr>\n",
       "      <th>15</th>\n",
       "      <td>18</td>\n",
       "      <td>58.16</td>\n",
       "      <td>25.631681</td>\n",
       "      <td>3407.00</td>\n",
       "      <td>0</td>\n",
       "      <td>0.046815</td>\n",
       "      <td>0.048553</td>\n",
       "      <td>0.041348</td>\n",
       "      <td>8.133587</td>\n",
       "      <td>-20</td>\n",
       "    </tr>\n",
       "    <tr>\n",
       "      <th>16</th>\n",
       "      <td>19</td>\n",
       "      <td>52.91</td>\n",
       "      <td>29.275996</td>\n",
       "      <td>3619.00</td>\n",
       "      <td>0</td>\n",
       "      <td>-0.094605</td>\n",
       "      <td>0.132939</td>\n",
       "      <td>0.060366</td>\n",
       "      <td>8.193953</td>\n",
       "      <td>-19</td>\n",
       "    </tr>\n",
       "    <tr>\n",
       "      <th>17</th>\n",
       "      <td>20</td>\n",
       "      <td>49.05</td>\n",
       "      <td>45.675413</td>\n",
       "      <td>3933.00</td>\n",
       "      <td>0</td>\n",
       "      <td>-0.075752</td>\n",
       "      <td>0.444792</td>\n",
       "      <td>0.083205</td>\n",
       "      <td>8.277158</td>\n",
       "      <td>-18</td>\n",
       "    </tr>\n",
       "    <tr>\n",
       "      <th>18</th>\n",
       "      <td>21</td>\n",
       "      <td>50.09</td>\n",
       "      <td>24.675460</td>\n",
       "      <td>4169.00</td>\n",
       "      <td>0</td>\n",
       "      <td>0.020981</td>\n",
       "      <td>-0.615751</td>\n",
       "      <td>0.058274</td>\n",
       "      <td>8.335431</td>\n",
       "      <td>-17</td>\n",
       "    </tr>\n",
       "    <tr>\n",
       "      <th>19</th>\n",
       "      <td>22</td>\n",
       "      <td>52.14</td>\n",
       "      <td>25.731902</td>\n",
       "      <td>4463.00</td>\n",
       "      <td>0</td>\n",
       "      <td>0.040111</td>\n",
       "      <td>0.041922</td>\n",
       "      <td>0.068145</td>\n",
       "      <td>8.403576</td>\n",
       "      <td>-16</td>\n",
       "    </tr>\n",
       "    <tr>\n",
       "      <th>20</th>\n",
       "      <td>23</td>\n",
       "      <td>53.78</td>\n",
       "      <td>27.920245</td>\n",
       "      <td>4747.00</td>\n",
       "      <td>0</td>\n",
       "      <td>0.030969</td>\n",
       "      <td>0.081621</td>\n",
       "      <td>0.061692</td>\n",
       "      <td>8.465268</td>\n",
       "      <td>-15</td>\n",
       "    </tr>\n",
       "    <tr>\n",
       "      <th>21</th>\n",
       "      <td>24</td>\n",
       "      <td>51.81</td>\n",
       "      <td>44.747853</td>\n",
       "      <td>5264.00</td>\n",
       "      <td>0</td>\n",
       "      <td>-0.037318</td>\n",
       "      <td>0.471691</td>\n",
       "      <td>0.103378</td>\n",
       "      <td>8.568646</td>\n",
       "      <td>-14</td>\n",
       "    </tr>\n",
       "    <tr>\n",
       "      <th>22</th>\n",
       "      <td>25</td>\n",
       "      <td>55.08</td>\n",
       "      <td>34.020000</td>\n",
       "      <td>5710.00</td>\n",
       "      <td>0</td>\n",
       "      <td>0.061203</td>\n",
       "      <td>-0.274095</td>\n",
       "      <td>0.081328</td>\n",
       "      <td>8.649974</td>\n",
       "      <td>-13</td>\n",
       "    </tr>\n",
       "    <tr>\n",
       "      <th>23</th>\n",
       "      <td>26</td>\n",
       "      <td>71.00</td>\n",
       "      <td>35.640000</td>\n",
       "      <td>5998.00</td>\n",
       "      <td>0</td>\n",
       "      <td>0.253893</td>\n",
       "      <td>0.046520</td>\n",
       "      <td>0.049207</td>\n",
       "      <td>8.699181</td>\n",
       "      <td>-12</td>\n",
       "    </tr>\n",
       "    <tr>\n",
       "      <th>24</th>\n",
       "      <td>27</td>\n",
       "      <td>81.50</td>\n",
       "      <td>36.298755</td>\n",
       "      <td>6326.00</td>\n",
       "      <td>0</td>\n",
       "      <td>0.137923</td>\n",
       "      <td>0.018315</td>\n",
       "      <td>0.053242</td>\n",
       "      <td>8.752423</td>\n",
       "      <td>-11</td>\n",
       "    </tr>\n",
       "    <tr>\n",
       "      <th>25</th>\n",
       "      <td>28</td>\n",
       "      <td>99.00</td>\n",
       "      <td>56.800830</td>\n",
       "      <td>6921.00</td>\n",
       "      <td>0</td>\n",
       "      <td>0.194517</td>\n",
       "      <td>0.447767</td>\n",
       "      <td>0.089892</td>\n",
       "      <td>8.842316</td>\n",
       "      <td>-10</td>\n",
       "    </tr>\n",
       "    <tr>\n",
       "      <th>26</th>\n",
       "      <td>29</td>\n",
       "      <td>92.00</td>\n",
       "      <td>37.270588</td>\n",
       "      <td>7293.00</td>\n",
       "      <td>0</td>\n",
       "      <td>-0.073331</td>\n",
       "      <td>-0.421346</td>\n",
       "      <td>0.052355</td>\n",
       "      <td>8.894670</td>\n",
       "      <td>-9</td>\n",
       "    </tr>\n",
       "    <tr>\n",
       "      <th>27</th>\n",
       "      <td>30</td>\n",
       "      <td>106.00</td>\n",
       "      <td>37.561765</td>\n",
       "      <td>7659.00</td>\n",
       "      <td>0</td>\n",
       "      <td>0.141651</td>\n",
       "      <td>0.007782</td>\n",
       "      <td>0.048966</td>\n",
       "      <td>8.943637</td>\n",
       "      <td>-8</td>\n",
       "    </tr>\n",
       "    <tr>\n",
       "      <th>28</th>\n",
       "      <td>31</td>\n",
       "      <td>126.00</td>\n",
       "      <td>43.385294</td>\n",
       "      <td>8054.00</td>\n",
       "      <td>0</td>\n",
       "      <td>0.172843</td>\n",
       "      <td>0.144134</td>\n",
       "      <td>0.050287</td>\n",
       "      <td>8.993924</td>\n",
       "      <td>-7</td>\n",
       "    </tr>\n",
       "    <tr>\n",
       "      <th>29</th>\n",
       "      <td>32</td>\n",
       "      <td>156.50</td>\n",
       "      <td>79.782353</td>\n",
       "      <td>8490.00</td>\n",
       "      <td>0</td>\n",
       "      <td>0.216774</td>\n",
       "      <td>0.609182</td>\n",
       "      <td>0.052720</td>\n",
       "      <td>9.046644</td>\n",
       "      <td>-6</td>\n",
       "    </tr>\n",
       "    <tr>\n",
       "      <th>...</th>\n",
       "      <td>...</td>\n",
       "      <td>...</td>\n",
       "      <td>...</td>\n",
       "      <td>...</td>\n",
       "      <td>...</td>\n",
       "      <td>...</td>\n",
       "      <td>...</td>\n",
       "      <td>...</td>\n",
       "      <td>...</td>\n",
       "      <td>...</td>\n",
       "    </tr>\n",
       "    <tr>\n",
       "      <th>53</th>\n",
       "      <td>56</td>\n",
       "      <td>862.00</td>\n",
       "      <td>593.000000</td>\n",
       "      <td>48080.00</td>\n",
       "      <td>1</td>\n",
       "      <td>0.114164</td>\n",
       "      <td>0.471691</td>\n",
       "      <td>0.098039</td>\n",
       "      <td>10.780622</td>\n",
       "      <td>18</td>\n",
       "    </tr>\n",
       "    <tr>\n",
       "      <th>54</th>\n",
       "      <td>57</td>\n",
       "      <td>945.00</td>\n",
       "      <td>480.000000</td>\n",
       "      <td>51400.00</td>\n",
       "      <td>1</td>\n",
       "      <td>0.091930</td>\n",
       "      <td>-0.211408</td>\n",
       "      <td>0.066772</td>\n",
       "      <td>10.847393</td>\n",
       "      <td>19</td>\n",
       "    </tr>\n",
       "    <tr>\n",
       "      <th>55</th>\n",
       "      <td>58</td>\n",
       "      <td>1082.00</td>\n",
       "      <td>537.000000</td>\n",
       "      <td>54330.00</td>\n",
       "      <td>1</td>\n",
       "      <td>0.135382</td>\n",
       "      <td>0.112212</td>\n",
       "      <td>0.055438</td>\n",
       "      <td>10.902832</td>\n",
       "      <td>20</td>\n",
       "    </tr>\n",
       "    <tr>\n",
       "      <th>56</th>\n",
       "      <td>59</td>\n",
       "      <td>1192.00</td>\n",
       "      <td>540.000000</td>\n",
       "      <td>57260.00</td>\n",
       "      <td>1</td>\n",
       "      <td>0.096821</td>\n",
       "      <td>0.005571</td>\n",
       "      <td>0.052526</td>\n",
       "      <td>10.955358</td>\n",
       "      <td>21</td>\n",
       "    </tr>\n",
       "    <tr>\n",
       "      <th>57</th>\n",
       "      <td>60</td>\n",
       "      <td>1345.00</td>\n",
       "      <td>851.000000</td>\n",
       "      <td>61090.00</td>\n",
       "      <td>1</td>\n",
       "      <td>0.120761</td>\n",
       "      <td>0.454843</td>\n",
       "      <td>0.064746</td>\n",
       "      <td>11.020103</td>\n",
       "      <td>22</td>\n",
       "    </tr>\n",
       "    <tr>\n",
       "      <th>58</th>\n",
       "      <td>61</td>\n",
       "      <td>1383.00</td>\n",
       "      <td>632.000000</td>\n",
       "      <td>63980.00</td>\n",
       "      <td>1</td>\n",
       "      <td>0.027861</td>\n",
       "      <td>-0.297523</td>\n",
       "      <td>0.046222</td>\n",
       "      <td>11.066326</td>\n",
       "      <td>23</td>\n",
       "    </tr>\n",
       "    <tr>\n",
       "      <th>59</th>\n",
       "      <td>62</td>\n",
       "      <td>1586.00</td>\n",
       "      <td>675.000000</td>\n",
       "      <td>66850.00</td>\n",
       "      <td>1</td>\n",
       "      <td>0.136960</td>\n",
       "      <td>0.065823</td>\n",
       "      <td>0.043881</td>\n",
       "      <td>11.110207</td>\n",
       "      <td>24</td>\n",
       "    </tr>\n",
       "    <tr>\n",
       "      <th>60</th>\n",
       "      <td>63</td>\n",
       "      <td>1734.00</td>\n",
       "      <td>694.000000</td>\n",
       "      <td>70130.00</td>\n",
       "      <td>1</td>\n",
       "      <td>0.089216</td>\n",
       "      <td>0.027759</td>\n",
       "      <td>0.047899</td>\n",
       "      <td>11.158106</td>\n",
       "      <td>25</td>\n",
       "    </tr>\n",
       "    <tr>\n",
       "      <th>61</th>\n",
       "      <td>64</td>\n",
       "      <td>1862.00</td>\n",
       "      <td>1132.000000</td>\n",
       "      <td>74450.00</td>\n",
       "      <td>1</td>\n",
       "      <td>0.071220</td>\n",
       "      <td>0.489269</td>\n",
       "      <td>0.059777</td>\n",
       "      <td>11.217883</td>\n",
       "      <td>26</td>\n",
       "    </tr>\n",
       "    <tr>\n",
       "      <th>62</th>\n",
       "      <td>65</td>\n",
       "      <td>1991.00</td>\n",
       "      <td>870.000000</td>\n",
       "      <td>78120.00</td>\n",
       "      <td>1</td>\n",
       "      <td>0.066986</td>\n",
       "      <td>-0.263248</td>\n",
       "      <td>0.048118</td>\n",
       "      <td>11.266001</td>\n",
       "      <td>27</td>\n",
       "    </tr>\n",
       "    <tr>\n",
       "      <th>63</th>\n",
       "      <td>66</td>\n",
       "      <td>2226.00</td>\n",
       "      <td>943.000000</td>\n",
       "      <td>81760.00</td>\n",
       "      <td>1</td>\n",
       "      <td>0.111569</td>\n",
       "      <td>0.080573</td>\n",
       "      <td>0.045542</td>\n",
       "      <td>11.311543</td>\n",
       "      <td>28</td>\n",
       "    </tr>\n",
       "    <tr>\n",
       "      <th>64</th>\n",
       "      <td>67</td>\n",
       "      <td>2423.00</td>\n",
       "      <td>993.000000</td>\n",
       "      <td>85250.00</td>\n",
       "      <td>1</td>\n",
       "      <td>0.084800</td>\n",
       "      <td>0.051664</td>\n",
       "      <td>0.041800</td>\n",
       "      <td>11.353343</td>\n",
       "      <td>29</td>\n",
       "    </tr>\n",
       "    <tr>\n",
       "      <th>65</th>\n",
       "      <td>68</td>\n",
       "      <td>2636.00</td>\n",
       "      <td>1526.000000</td>\n",
       "      <td>88990.00</td>\n",
       "      <td>1</td>\n",
       "      <td>0.084256</td>\n",
       "      <td>0.429675</td>\n",
       "      <td>0.042936</td>\n",
       "      <td>11.396279</td>\n",
       "      <td>30</td>\n",
       "    </tr>\n",
       "    <tr>\n",
       "      <th>66</th>\n",
       "      <td>69</td>\n",
       "      <td>2754.00</td>\n",
       "      <td>1083.000000</td>\n",
       "      <td>91960.00</td>\n",
       "      <td>1</td>\n",
       "      <td>0.043792</td>\n",
       "      <td>-0.342915</td>\n",
       "      <td>0.032830</td>\n",
       "      <td>11.429109</td>\n",
       "      <td>31</td>\n",
       "    </tr>\n",
       "    <tr>\n",
       "      <th>67</th>\n",
       "      <td>70</td>\n",
       "      <td>3020.00</td>\n",
       "      <td>1150.000000</td>\n",
       "      <td>95810.00</td>\n",
       "      <td>1</td>\n",
       "      <td>0.092202</td>\n",
       "      <td>0.060027</td>\n",
       "      <td>0.041013</td>\n",
       "      <td>11.470122</td>\n",
       "      <td>32</td>\n",
       "    </tr>\n",
       "    <tr>\n",
       "      <th>68</th>\n",
       "      <td>71</td>\n",
       "      <td>3197.00</td>\n",
       "      <td>1264.000000</td>\n",
       "      <td>100590.00</td>\n",
       "      <td>1</td>\n",
       "      <td>0.056956</td>\n",
       "      <td>0.094519</td>\n",
       "      <td>0.048686</td>\n",
       "      <td>11.518808</td>\n",
       "      <td>33</td>\n",
       "    </tr>\n",
       "    <tr>\n",
       "      <th>69</th>\n",
       "      <td>72</td>\n",
       "      <td>3569.00</td>\n",
       "      <td>1758.000000</td>\n",
       "      <td>107010.00</td>\n",
       "      <td>1</td>\n",
       "      <td>0.110073</td>\n",
       "      <td>0.329896</td>\n",
       "      <td>0.061869</td>\n",
       "      <td>11.580678</td>\n",
       "      <td>34</td>\n",
       "    </tr>\n",
       "    <tr>\n",
       "      <th>70</th>\n",
       "      <td>73</td>\n",
       "      <td>3526.00</td>\n",
       "      <td>1436.000000</td>\n",
       "      <td>113420.00</td>\n",
       "      <td>1</td>\n",
       "      <td>-0.012121</td>\n",
       "      <td>-0.202315</td>\n",
       "      <td>0.058175</td>\n",
       "      <td>11.638853</td>\n",
       "      <td>35</td>\n",
       "    </tr>\n",
       "    <tr>\n",
       "      <th>71</th>\n",
       "      <td>74</td>\n",
       "      <td>3880.00</td>\n",
       "      <td>1546.000000</td>\n",
       "      <td>120640.00</td>\n",
       "      <td>1</td>\n",
       "      <td>0.095671</td>\n",
       "      <td>0.073809</td>\n",
       "      <td>0.061713</td>\n",
       "      <td>11.700566</td>\n",
       "      <td>36</td>\n",
       "    </tr>\n",
       "    <tr>\n",
       "      <th>72</th>\n",
       "      <td>75</td>\n",
       "      <td>4135.00</td>\n",
       "      <td>1738.000000</td>\n",
       "      <td>127990.00</td>\n",
       "      <td>1</td>\n",
       "      <td>0.063652</td>\n",
       "      <td>0.117064</td>\n",
       "      <td>0.059141</td>\n",
       "      <td>11.759707</td>\n",
       "      <td>37</td>\n",
       "    </tr>\n",
       "    <tr>\n",
       "      <th>73</th>\n",
       "      <td>76</td>\n",
       "      <td>4544.00</td>\n",
       "      <td>2513.000000</td>\n",
       "      <td>135990.00</td>\n",
       "      <td>1</td>\n",
       "      <td>0.094320</td>\n",
       "      <td>0.368742</td>\n",
       "      <td>0.060629</td>\n",
       "      <td>11.820337</td>\n",
       "      <td>38</td>\n",
       "    </tr>\n",
       "    <tr>\n",
       "      <th>74</th>\n",
       "      <td>77</td>\n",
       "      <td>4813.00</td>\n",
       "      <td>1920.000000</td>\n",
       "      <td>142570.00</td>\n",
       "      <td>1</td>\n",
       "      <td>0.057513</td>\n",
       "      <td>-0.269152</td>\n",
       "      <td>0.047252</td>\n",
       "      <td>11.867588</td>\n",
       "      <td>39</td>\n",
       "    </tr>\n",
       "    <tr>\n",
       "      <th>75</th>\n",
       "      <td>78</td>\n",
       "      <td>5549.00</td>\n",
       "      <td>2229.000000</td>\n",
       "      <td>150120.00</td>\n",
       "      <td>1</td>\n",
       "      <td>0.142297</td>\n",
       "      <td>0.149228</td>\n",
       "      <td>0.051602</td>\n",
       "      <td>11.919190</td>\n",
       "      <td>40</td>\n",
       "    </tr>\n",
       "    <tr>\n",
       "      <th>76</th>\n",
       "      <td>79</td>\n",
       "      <td>5944.00</td>\n",
       "      <td>2479.000000</td>\n",
       "      <td>161150.00</td>\n",
       "      <td>1</td>\n",
       "      <td>0.068765</td>\n",
       "      <td>0.106302</td>\n",
       "      <td>0.070901</td>\n",
       "      <td>11.990091</td>\n",
       "      <td>41</td>\n",
       "    </tr>\n",
       "    <tr>\n",
       "      <th>77</th>\n",
       "      <td>80</td>\n",
       "      <td>6314.00</td>\n",
       "      <td>3440.000000</td>\n",
       "      <td>177870.00</td>\n",
       "      <td>1</td>\n",
       "      <td>0.060387</td>\n",
       "      <td>0.327616</td>\n",
       "      <td>0.098717</td>\n",
       "      <td>12.088808</td>\n",
       "      <td>42</td>\n",
       "    </tr>\n",
       "    <tr>\n",
       "      <th>78</th>\n",
       "      <td>81</td>\n",
       "      <td>6759.00</td>\n",
       "      <td>2699.000000</td>\n",
       "      <td>193190.00</td>\n",
       "      <td>1</td>\n",
       "      <td>0.068106</td>\n",
       "      <td>-0.242590</td>\n",
       "      <td>0.082621</td>\n",
       "      <td>12.171429</td>\n",
       "      <td>43</td>\n",
       "    </tr>\n",
       "    <tr>\n",
       "      <th>79</th>\n",
       "      <td>82</td>\n",
       "      <td>7247.00</td>\n",
       "      <td>2901.000000</td>\n",
       "      <td>208120.00</td>\n",
       "      <td>1</td>\n",
       "      <td>0.069713</td>\n",
       "      <td>0.072174</td>\n",
       "      <td>0.074441</td>\n",
       "      <td>12.245870</td>\n",
       "      <td>44</td>\n",
       "    </tr>\n",
       "    <tr>\n",
       "      <th>80</th>\n",
       "      <td>83</td>\n",
       "      <td>7162.00</td>\n",
       "      <td>3303.000000</td>\n",
       "      <td>220960.00</td>\n",
       "      <td>1</td>\n",
       "      <td>-0.011798</td>\n",
       "      <td>0.129776</td>\n",
       "      <td>0.059867</td>\n",
       "      <td>12.305737</td>\n",
       "      <td>45</td>\n",
       "    </tr>\n",
       "    <tr>\n",
       "      <th>81</th>\n",
       "      <td>84</td>\n",
       "      <td>7669.00</td>\n",
       "      <td>4912.000000</td>\n",
       "      <td>232890.00</td>\n",
       "      <td>1</td>\n",
       "      <td>0.068397</td>\n",
       "      <td>0.396850</td>\n",
       "      <td>0.052585</td>\n",
       "      <td>12.358322</td>\n",
       "      <td>46</td>\n",
       "    </tr>\n",
       "    <tr>\n",
       "      <th>82</th>\n",
       "      <td>85</td>\n",
       "      <td>7927.00</td>\n",
       "      <td>3664.000000</td>\n",
       "      <td>241540.00</td>\n",
       "      <td>1</td>\n",
       "      <td>0.033088</td>\n",
       "      <td>-0.293126</td>\n",
       "      <td>0.036469</td>\n",
       "      <td>12.394790</td>\n",
       "      <td>47</td>\n",
       "    </tr>\n",
       "  </tbody>\n",
       "</table>\n",
       "<p>83 rows × 10 columns</p>\n",
       "</div>"
      ],
      "text/plain": [
       "    Code      R_D     Mark_Exp        Rev  iphone     d_r_D     d_m_e  \\\n",
       "0      3    13.40    15.691934     423.10       0  0.503391  0.132939   \n",
       "1      4    16.90    24.482021     609.80       0  0.232059  0.444792   \n",
       "2      5    23.50    35.307975     816.04       0  0.329687  0.366170   \n",
       "3      6    34.30    36.819632    1014.00       0  0.378145  0.041922   \n",
       "4      7    44.60    39.950920    1217.00       0  0.262589  0.081621   \n",
       "5      8    57.40    64.029448    1640.00       0  0.252310  0.471691   \n",
       "6      9    61.24    37.800000    1920.00       0  0.064756 -0.527034   \n",
       "7     10    67.13    39.600000    2184.00       0  0.091830  0.046520   \n",
       "8     11    70.00    40.331950    2466.00       0  0.041864  0.018315   \n",
       "9     12    69.79    63.112033    2762.00       0 -0.003005  0.447767   \n",
       "10    13    70.28    25.976471    2888.00       0  0.006997 -0.887720   \n",
       "11    14    64.71    26.179412    2978.00       0 -0.082572  0.007782   \n",
       "12    15    53.85    30.238235    2980.00       0 -0.183713  0.144134   \n",
       "13    16    52.32    55.605882    3122.00       0 -0.028824  0.609182   \n",
       "14    17    55.50    24.416910    3269.00       0  0.059004 -0.823013   \n",
       "15    18    58.16    25.631681    3407.00       0  0.046815  0.048553   \n",
       "16    19    52.91    29.275996    3619.00       0 -0.094605  0.132939   \n",
       "17    20    49.05    45.675413    3933.00       0 -0.075752  0.444792   \n",
       "18    21    50.09    24.675460    4169.00       0  0.020981 -0.615751   \n",
       "19    22    52.14    25.731902    4463.00       0  0.040111  0.041922   \n",
       "20    23    53.78    27.920245    4747.00       0  0.030969  0.081621   \n",
       "21    24    51.81    44.747853    5264.00       0 -0.037318  0.471691   \n",
       "22    25    55.08    34.020000    5710.00       0  0.061203 -0.274095   \n",
       "23    26    71.00    35.640000    5998.00       0  0.253893  0.046520   \n",
       "24    27    81.50    36.298755    6326.00       0  0.137923  0.018315   \n",
       "25    28    99.00    56.800830    6921.00       0  0.194517  0.447767   \n",
       "26    29    92.00    37.270588    7293.00       0 -0.073331 -0.421346   \n",
       "27    30   106.00    37.561765    7659.00       0  0.141651  0.007782   \n",
       "28    31   126.00    43.385294    8054.00       0  0.172843  0.144134   \n",
       "29    32   156.50    79.782353    8490.00       0  0.216774  0.609182   \n",
       "..   ...      ...          ...        ...     ...       ...       ...   \n",
       "53    56   862.00   593.000000   48080.00       1  0.114164  0.471691   \n",
       "54    57   945.00   480.000000   51400.00       1  0.091930 -0.211408   \n",
       "55    58  1082.00   537.000000   54330.00       1  0.135382  0.112212   \n",
       "56    59  1192.00   540.000000   57260.00       1  0.096821  0.005571   \n",
       "57    60  1345.00   851.000000   61090.00       1  0.120761  0.454843   \n",
       "58    61  1383.00   632.000000   63980.00       1  0.027861 -0.297523   \n",
       "59    62  1586.00   675.000000   66850.00       1  0.136960  0.065823   \n",
       "60    63  1734.00   694.000000   70130.00       1  0.089216  0.027759   \n",
       "61    64  1862.00  1132.000000   74450.00       1  0.071220  0.489269   \n",
       "62    65  1991.00   870.000000   78120.00       1  0.066986 -0.263248   \n",
       "63    66  2226.00   943.000000   81760.00       1  0.111569  0.080573   \n",
       "64    67  2423.00   993.000000   85250.00       1  0.084800  0.051664   \n",
       "65    68  2636.00  1526.000000   88990.00       1  0.084256  0.429675   \n",
       "66    69  2754.00  1083.000000   91960.00       1  0.043792 -0.342915   \n",
       "67    70  3020.00  1150.000000   95810.00       1  0.092202  0.060027   \n",
       "68    71  3197.00  1264.000000  100590.00       1  0.056956  0.094519   \n",
       "69    72  3569.00  1758.000000  107010.00       1  0.110073  0.329896   \n",
       "70    73  3526.00  1436.000000  113420.00       1 -0.012121 -0.202315   \n",
       "71    74  3880.00  1546.000000  120640.00       1  0.095671  0.073809   \n",
       "72    75  4135.00  1738.000000  127990.00       1  0.063652  0.117064   \n",
       "73    76  4544.00  2513.000000  135990.00       1  0.094320  0.368742   \n",
       "74    77  4813.00  1920.000000  142570.00       1  0.057513 -0.269152   \n",
       "75    78  5549.00  2229.000000  150120.00       1  0.142297  0.149228   \n",
       "76    79  5944.00  2479.000000  161150.00       1  0.068765  0.106302   \n",
       "77    80  6314.00  3440.000000  177870.00       1  0.060387  0.327616   \n",
       "78    81  6759.00  2699.000000  193190.00       1  0.068106 -0.242590   \n",
       "79    82  7247.00  2901.000000  208120.00       1  0.069713  0.072174   \n",
       "80    83  7162.00  3303.000000  220960.00       1 -0.011798  0.129776   \n",
       "81    84  7669.00  4912.000000  232890.00       1  0.068397  0.396850   \n",
       "82    85  7927.00  3664.000000  241540.00       1  0.033088 -0.293126   \n",
       "\n",
       "       d_rev  d_rev_log  csize  \n",
       "0   0.319459   6.047609    -35  \n",
       "1   0.365522   6.413131    -34  \n",
       "2   0.291332   6.704463    -33  \n",
       "3   0.217195   6.921658    -32  \n",
       "4   0.182486   7.104144    -31  \n",
       "5   0.298307   7.402452    -30  \n",
       "6   0.157629   7.560080    -29  \n",
       "7   0.128833   7.688913    -28  \n",
       "8   0.121439   7.810353    -27  \n",
       "9   0.113358   7.923710    -26  \n",
       "10  0.044609   7.968320    -25  \n",
       "11  0.030688   7.999007    -24  \n",
       "12  0.000671   7.999679    -23  \n",
       "13  0.046551   8.046229    -22  \n",
       "14  0.046010   8.092239    -21  \n",
       "15  0.041348   8.133587    -20  \n",
       "16  0.060366   8.193953    -19  \n",
       "17  0.083205   8.277158    -18  \n",
       "18  0.058274   8.335431    -17  \n",
       "19  0.068145   8.403576    -16  \n",
       "20  0.061692   8.465268    -15  \n",
       "21  0.103378   8.568646    -14  \n",
       "22  0.081328   8.649974    -13  \n",
       "23  0.049207   8.699181    -12  \n",
       "24  0.053242   8.752423    -11  \n",
       "25  0.089892   8.842316    -10  \n",
       "26  0.052355   8.894670     -9  \n",
       "27  0.048966   8.943637     -8  \n",
       "28  0.050287   8.993924     -7  \n",
       "29  0.052720   9.046644     -6  \n",
       "..       ...        ...    ...  \n",
       "53  0.098039  10.780622     18  \n",
       "54  0.066772  10.847393     19  \n",
       "55  0.055438  10.902832     20  \n",
       "56  0.052526  10.955358     21  \n",
       "57  0.064746  11.020103     22  \n",
       "58  0.046222  11.066326     23  \n",
       "59  0.043881  11.110207     24  \n",
       "60  0.047899  11.158106     25  \n",
       "61  0.059777  11.217883     26  \n",
       "62  0.048118  11.266001     27  \n",
       "63  0.045542  11.311543     28  \n",
       "64  0.041800  11.353343     29  \n",
       "65  0.042936  11.396279     30  \n",
       "66  0.032830  11.429109     31  \n",
       "67  0.041013  11.470122     32  \n",
       "68  0.048686  11.518808     33  \n",
       "69  0.061869  11.580678     34  \n",
       "70  0.058175  11.638853     35  \n",
       "71  0.061713  11.700566     36  \n",
       "72  0.059141  11.759707     37  \n",
       "73  0.060629  11.820337     38  \n",
       "74  0.047252  11.867588     39  \n",
       "75  0.051602  11.919190     40  \n",
       "76  0.070901  11.990091     41  \n",
       "77  0.098717  12.088808     42  \n",
       "78  0.082621  12.171429     43  \n",
       "79  0.074441  12.245870     44  \n",
       "80  0.059867  12.305737     45  \n",
       "81  0.052585  12.358322     46  \n",
       "82  0.036469  12.394790     47  \n",
       "\n",
       "[83 rows x 10 columns]"
      ]
     },
     "execution_count": 237,
     "metadata": {},
     "output_type": "execute_result"
    }
   ],
   "source": [
    "df1"
   ]
  },
  {
   "cell_type": "code",
   "execution_count": 238,
   "metadata": {},
   "outputs": [],
   "source": [
    "df2=df1.iloc[75:]"
   ]
  },
  {
   "cell_type": "code",
   "execution_count": 239,
   "metadata": {
    "scrolled": true
   },
   "outputs": [],
   "source": [
    "df1=df1.iloc[0:75]"
   ]
  },
  {
   "cell_type": "code",
   "execution_count": 240,
   "metadata": {},
   "outputs": [
    {
     "name": "stderr",
     "output_type": "stream",
     "text": [
      "/anaconda3/lib/python3.7/site-packages/ipykernel_launcher.py:1: SettingWithCopyWarning: \n",
      "A value is trying to be set on a copy of a slice from a DataFrame.\n",
      "Try using .loc[row_indexer,col_indexer] = value instead\n",
      "\n",
      "See the caveats in the documentation: http://pandas.pydata.org/pandas-docs/stable/indexing.html#indexing-view-versus-copy\n",
      "  \"\"\"Entry point for launching an IPython kernel.\n",
      "/anaconda3/lib/python3.7/site-packages/ipykernel_launcher.py:2: SettingWithCopyWarning: \n",
      "A value is trying to be set on a copy of a slice from a DataFrame.\n",
      "Try using .loc[row_indexer,col_indexer] = value instead\n",
      "\n",
      "See the caveats in the documentation: http://pandas.pydata.org/pandas-docs/stable/indexing.html#indexing-view-versus-copy\n",
      "  \n",
      "/anaconda3/lib/python3.7/site-packages/ipykernel_launcher.py:3: SettingWithCopyWarning: \n",
      "A value is trying to be set on a copy of a slice from a DataFrame.\n",
      "Try using .loc[row_indexer,col_indexer] = value instead\n",
      "\n",
      "See the caveats in the documentation: http://pandas.pydata.org/pandas-docs/stable/indexing.html#indexing-view-versus-copy\n",
      "  This is separate from the ipykernel package so we can avoid doing imports until\n",
      "/anaconda3/lib/python3.7/site-packages/ipykernel_launcher.py:4: SettingWithCopyWarning: \n",
      "A value is trying to be set on a copy of a slice from a DataFrame.\n",
      "Try using .loc[row_indexer,col_indexer] = value instead\n",
      "\n",
      "See the caveats in the documentation: http://pandas.pydata.org/pandas-docs/stable/indexing.html#indexing-view-versus-copy\n",
      "  after removing the cwd from sys.path.\n",
      "/anaconda3/lib/python3.7/site-packages/ipykernel_launcher.py:9: SettingWithCopyWarning: \n",
      "A value is trying to be set on a copy of a slice from a DataFrame\n",
      "\n",
      "See the caveats in the documentation: http://pandas.pydata.org/pandas-docs/stable/indexing.html#indexing-view-versus-copy\n",
      "  if __name__ == '__main__':\n"
     ]
    }
   ],
   "source": [
    "df1['lag_a1'] = df1['d_rev'].shift(1)\n",
    "df1['lag_a2'] = df1['d_rev'].shift(2)\n",
    "df1['lag_a3'] = df1['d_rev'].shift(3)\n",
    "df1['lag_a4'] = df1['d_rev'].shift(4)\n",
    "\n",
    "#df1['lag_d_r_D1'] = df1['d_r_D'].shift(1)\n",
    "\n",
    "\n",
    "df1.dropna(inplace=True)"
   ]
  },
  {
   "cell_type": "code",
   "execution_count": 241,
   "metadata": {},
   "outputs": [],
   "source": [
    "X1_multi=df1.loc[:,['lag_a1','d_r_D','iphone','lag_a2','lag_a3']]\n",
    "Y_target=df1.d_rev"
   ]
  },
  {
   "cell_type": "code",
   "execution_count": 242,
   "metadata": {},
   "outputs": [],
   "source": [
    "X1_multi=sm.tools.tools.add_constant(X1_multi, prepend=True, has_constant='skip')"
   ]
  },
  {
   "cell_type": "code",
   "execution_count": 243,
   "metadata": {},
   "outputs": [
    {
     "name": "stdout",
     "output_type": "stream",
     "text": [
      "                            OLS Regression Results                            \n",
      "==============================================================================\n",
      "Dep. Variable:                  d_rev   R-squared:                       0.621\n",
      "Model:                            OLS   Adj. R-squared:                  0.591\n",
      "Method:                 Least Squares   F-statistic:                     21.26\n",
      "Date:                Wed, 08 May 2019   Prob (F-statistic):           1.56e-12\n",
      "Time:                        00:51:45   Log-Likelihood:                 161.29\n",
      "No. Observations:                  71   AIC:                            -310.6\n",
      "Df Residuals:                      65   BIC:                            -297.0\n",
      "Df Model:                           5                                         \n",
      "Covariance Type:            nonrobust                                         \n",
      "==============================================================================\n",
      "                 coef    std err          t      P>|t|      [0.025      0.975]\n",
      "------------------------------------------------------------------------------\n",
      "const          0.0188      0.008      2.412      0.019       0.003       0.034\n",
      "lag_a1         0.4180      0.114      3.673      0.000       0.191       0.645\n",
      "d_r_D          0.1084      0.042      2.578      0.012       0.024       0.192\n",
      "iphone        -0.0029      0.007     -0.433      0.667      -0.016       0.011\n",
      "lag_a2        -0.0453      0.126     -0.360      0.720      -0.297       0.206\n",
      "lag_a3         0.2294      0.095      2.408      0.019       0.039       0.420\n",
      "==============================================================================\n",
      "Omnibus:                       45.000   Durbin-Watson:                   2.150\n",
      "Prob(Omnibus):                  0.000   Jarque-Bera (JB):              159.970\n",
      "Skew:                           1.926   Prob(JB):                     1.83e-35\n",
      "Kurtosis:                       9.264   Cond. No.                         57.4\n",
      "==============================================================================\n",
      "\n",
      "Warnings:\n",
      "[1] Standard Errors assume that the covariance matrix of the errors is correctly specified.\n"
     ]
    },
    {
     "data": {
      "image/png": "[encoded data removed]",
      "text/plain": [
       "<Figure size 432x288 with 1 Axes>"
      ]
     },
     "metadata": {
      "needs_background": "light"
     },
     "output_type": "display_data"
    },
    {
     "data": {
      "image/png": "[encoded data removed]",
      "text/plain": [
       "<Figure size 432x288 with 1 Axes>"
      ]
     },
     "metadata": {
      "needs_background": "light"
     },
     "output_type": "display_data"
    }
   ],
   "source": [
    "model = sm.OLS(Y_target, X1_multi)\n",
    "model_fit = model.fit(disp=0)\n",
    "print(model_fit.summary())\n",
    "# plot residual errors\n",
    "residuals = DataFrame(model_fit.resid)\n",
    "residuals.plot()\n",
    "pyplot.show()\n",
    "plot_acf(residuals,lags=12)\n",
    "pyplot.show()"
   ]
  },
  {
   "cell_type": "markdown",
   "metadata": {},
   "source": [
    "## Test the Model"
   ]
  },
  {
   "cell_type": "code",
   "execution_count": 244,
   "metadata": {},
   "outputs": [
    {
     "name": "stderr",
     "output_type": "stream",
     "text": [
      "/anaconda3/lib/python3.7/site-packages/ipykernel_launcher.py:1: SettingWithCopyWarning: \n",
      "A value is trying to be set on a copy of a slice from a DataFrame.\n",
      "Try using .loc[row_indexer,col_indexer] = value instead\n",
      "\n",
      "See the caveats in the documentation: http://pandas.pydata.org/pandas-docs/stable/indexing.html#indexing-view-versus-copy\n",
      "  \"\"\"Entry point for launching an IPython kernel.\n",
      "/anaconda3/lib/python3.7/site-packages/ipykernel_launcher.py:2: SettingWithCopyWarning: \n",
      "A value is trying to be set on a copy of a slice from a DataFrame.\n",
      "Try using .loc[row_indexer,col_indexer] = value instead\n",
      "\n",
      "See the caveats in the documentation: http://pandas.pydata.org/pandas-docs/stable/indexing.html#indexing-view-versus-copy\n",
      "  \n",
      "/anaconda3/lib/python3.7/site-packages/ipykernel_launcher.py:3: SettingWithCopyWarning: \n",
      "A value is trying to be set on a copy of a slice from a DataFrame.\n",
      "Try using .loc[row_indexer,col_indexer] = value instead\n",
      "\n",
      "See the caveats in the documentation: http://pandas.pydata.org/pandas-docs/stable/indexing.html#indexing-view-versus-copy\n",
      "  This is separate from the ipykernel package so we can avoid doing imports until\n",
      "/anaconda3/lib/python3.7/site-packages/ipykernel_launcher.py:5: SettingWithCopyWarning: \n",
      "A value is trying to be set on a copy of a slice from a DataFrame\n",
      "\n",
      "See the caveats in the documentation: http://pandas.pydata.org/pandas-docs/stable/indexing.html#indexing-view-versus-copy\n",
      "  \"\"\"\n"
     ]
    }
   ],
   "source": [
    "df2['lag_a1'] = df2['d_rev'].shift(1)\n",
    "df2['lag_a2'] = df2['d_rev'].shift(2)\n",
    "df2['lag_a3'] = df2['d_rev'].shift(3)\n",
    "\n",
    "df2.dropna(inplace=True)"
   ]
  },
  {
   "cell_type": "code",
   "execution_count": 245,
   "metadata": {},
   "outputs": [],
   "source": [
    "X2_multi=df2.loc[:,['lag_a1','lag_a2','lag_a3','d_r_D','iphone']]\n"
   ]
  },
  {
   "cell_type": "code",
   "execution_count": 246,
   "metadata": {},
   "outputs": [],
   "source": [
    "X2_multi=X2_multi[sorted(X2_multi.columns)]"
   ]
  },
  {
   "cell_type": "code",
   "execution_count": 247,
   "metadata": {},
   "outputs": [
    {
     "data": {
      "text/html": [
       "<div>\n",
       "<style scoped>\n",
       "    .dataframe tbody tr th:only-of-type {\n",
       "        vertical-align: middle;\n",
       "    }\n",
       "\n",
       "    .dataframe tbody tr th {\n",
       "        vertical-align: top;\n",
       "    }\n",
       "\n",
       "    .dataframe thead th {\n",
       "        text-align: right;\n",
       "    }\n",
       "</style>\n",
       "<table border=\"1\" class=\"dataframe\">\n",
       "  <thead>\n",
       "    <tr style=\"text-align: right;\">\n",
       "      <th></th>\n",
       "      <th>d_r_D</th>\n",
       "      <th>iphone</th>\n",
       "      <th>lag_a1</th>\n",
       "      <th>lag_a2</th>\n",
       "      <th>lag_a3</th>\n",
       "    </tr>\n",
       "  </thead>\n",
       "  <tbody>\n",
       "    <tr>\n",
       "      <th>78</th>\n",
       "      <td>0.068106</td>\n",
       "      <td>1</td>\n",
       "      <td>0.098717</td>\n",
       "      <td>0.070901</td>\n",
       "      <td>0.051602</td>\n",
       "    </tr>\n",
       "    <tr>\n",
       "      <th>79</th>\n",
       "      <td>0.069713</td>\n",
       "      <td>1</td>\n",
       "      <td>0.082621</td>\n",
       "      <td>0.098717</td>\n",
       "      <td>0.070901</td>\n",
       "    </tr>\n",
       "    <tr>\n",
       "      <th>80</th>\n",
       "      <td>-0.011798</td>\n",
       "      <td>1</td>\n",
       "      <td>0.074441</td>\n",
       "      <td>0.082621</td>\n",
       "      <td>0.098717</td>\n",
       "    </tr>\n",
       "    <tr>\n",
       "      <th>81</th>\n",
       "      <td>0.068397</td>\n",
       "      <td>1</td>\n",
       "      <td>0.059867</td>\n",
       "      <td>0.074441</td>\n",
       "      <td>0.082621</td>\n",
       "    </tr>\n",
       "    <tr>\n",
       "      <th>82</th>\n",
       "      <td>0.033088</td>\n",
       "      <td>1</td>\n",
       "      <td>0.052585</td>\n",
       "      <td>0.059867</td>\n",
       "      <td>0.074441</td>\n",
       "    </tr>\n",
       "  </tbody>\n",
       "</table>\n",
       "</div>"
      ],
      "text/plain": [
       "       d_r_D  iphone    lag_a1    lag_a2    lag_a3\n",
       "78  0.068106       1  0.098717  0.070901  0.051602\n",
       "79  0.069713       1  0.082621  0.098717  0.070901\n",
       "80 -0.011798       1  0.074441  0.082621  0.098717\n",
       "81  0.068397       1  0.059867  0.074441  0.082621\n",
       "82  0.033088       1  0.052585  0.059867  0.074441"
      ]
     },
     "execution_count": 247,
     "metadata": {},
     "output_type": "execute_result"
    }
   ],
   "source": [
    "X2_multi"
   ]
  },
  {
   "cell_type": "code",
   "execution_count": 248,
   "metadata": {},
   "outputs": [],
   "source": [
    "param=pd.DataFrame(model_fit.params, columns = ['values'])"
   ]
  },
  {
   "cell_type": "code",
   "execution_count": 249,
   "metadata": {},
   "outputs": [
    {
     "data": {
      "text/html": [
       "<div>\n",
       "<style scoped>\n",
       "    .dataframe tbody tr th:only-of-type {\n",
       "        vertical-align: middle;\n",
       "    }\n",
       "\n",
       "    .dataframe tbody tr th {\n",
       "        vertical-align: top;\n",
       "    }\n",
       "\n",
       "    .dataframe thead th {\n",
       "        text-align: right;\n",
       "    }\n",
       "</style>\n",
       "<table border=\"1\" class=\"dataframe\">\n",
       "  <thead>\n",
       "    <tr style=\"text-align: right;\">\n",
       "      <th></th>\n",
       "      <th>values</th>\n",
       "      <th>coefficients</th>\n",
       "    </tr>\n",
       "  </thead>\n",
       "  <tbody>\n",
       "    <tr>\n",
       "      <th>0</th>\n",
       "      <td>0.018784</td>\n",
       "      <td>const</td>\n",
       "    </tr>\n",
       "    <tr>\n",
       "      <th>1</th>\n",
       "      <td>0.417994</td>\n",
       "      <td>lag_a1</td>\n",
       "    </tr>\n",
       "    <tr>\n",
       "      <th>2</th>\n",
       "      <td>0.108425</td>\n",
       "      <td>d_r_D</td>\n",
       "    </tr>\n",
       "    <tr>\n",
       "      <th>3</th>\n",
       "      <td>-0.002919</td>\n",
       "      <td>iphone</td>\n",
       "    </tr>\n",
       "    <tr>\n",
       "      <th>4</th>\n",
       "      <td>-0.045278</td>\n",
       "      <td>lag_a2</td>\n",
       "    </tr>\n",
       "    <tr>\n",
       "      <th>5</th>\n",
       "      <td>0.229379</td>\n",
       "      <td>lag_a3</td>\n",
       "    </tr>\n",
       "  </tbody>\n",
       "</table>\n",
       "</div>"
      ],
      "text/plain": [
       "     values coefficients\n",
       "0  0.018784        const\n",
       "1  0.417994       lag_a1\n",
       "2  0.108425        d_r_D\n",
       "3 -0.002919       iphone\n",
       "4 -0.045278       lag_a2\n",
       "5  0.229379       lag_a3"
      ]
     },
     "execution_count": 249,
     "metadata": {},
     "output_type": "execute_result"
    }
   ],
   "source": [
    "param['coefficients']=param.index\n",
    "param.index=np.arange(0, param.shape[0])\n",
    "param"
   ]
  },
  {
   "cell_type": "code",
   "execution_count": 250,
   "metadata": {},
   "outputs": [],
   "source": [
    "param=param.iloc[1:]"
   ]
  },
  {
   "cell_type": "code",
   "execution_count": 251,
   "metadata": {},
   "outputs": [],
   "source": [
    "coef_list=param.loc[:,'values']"
   ]
  },
  {
   "cell_type": "code",
   "execution_count": 252,
   "metadata": {},
   "outputs": [],
   "source": [
    "Y_pred_test=np.dot(X2_multi, coef_list)"
   ]
  },
  {
   "cell_type": "code",
   "execution_count": 253,
   "metadata": {},
   "outputs": [
    {
     "data": {
      "text/plain": [
       "array([0.14523072, 0.1491167 , 0.12217883, 0.15242082, 0.13646674])"
      ]
     },
     "execution_count": 253,
     "metadata": {},
     "output_type": "execute_result"
    }
   ],
   "source": [
    "Y_pred_test"
   ]
  },
  {
   "cell_type": "code",
   "execution_count": 254,
   "metadata": {},
   "outputs": [],
   "source": [
    "for i in range(0, len(Y_pred_test)):\n",
    "    Y_pred_test[i]=Y_pred_test[i]+0.018784"
   ]
  },
  {
   "cell_type": "code",
   "execution_count": 255,
   "metadata": {},
   "outputs": [
    {
     "data": {
      "text/plain": [
       "array([0.16401472, 0.1679007 , 0.14096283, 0.17120482, 0.15525074])"
      ]
     },
     "execution_count": 255,
     "metadata": {},
     "output_type": "execute_result"
    }
   ],
   "source": [
    "Y_pred_test"
   ]
  },
  {
   "cell_type": "code",
   "execution_count": 256,
   "metadata": {},
   "outputs": [],
   "source": [
    "Y_pred_log=[11.867588]\n",
    "for i in range(0, len(Y_pred_test)):\n",
    "    Y_pred_log.append(Y_pred_log[i]+Y_pred_test[i])"
   ]
  },
  {
   "cell_type": "code",
   "execution_count": 257,
   "metadata": {},
   "outputs": [],
   "source": [
    "Y_pred_log=Y_pred_log[1:]"
   ]
  },
  {
   "cell_type": "code",
   "execution_count": 258,
   "metadata": {},
   "outputs": [],
   "source": [
    "Y_pred_log_final=np.exp(Y_pred_log)"
   ]
  },
  {
   "cell_type": "code",
   "execution_count": 259,
   "metadata": {},
   "outputs": [
    {
     "data": {
      "text/plain": [
       "5"
      ]
     },
     "execution_count": 259,
     "metadata": {},
     "output_type": "execute_result"
    }
   ],
   "source": [
    "len(Y_pred_log_final)"
   ]
  },
  {
   "cell_type": "code",
   "execution_count": 260,
   "metadata": {},
   "outputs": [],
   "source": [
    "true_values=pd.read_excel('Amazon_data_rev.xlsx')"
   ]
  },
  {
   "cell_type": "code",
   "execution_count": 261,
   "metadata": {},
   "outputs": [
    {
     "data": {
      "text/html": [
       "<div>\n",
       "<style scoped>\n",
       "    .dataframe tbody tr th:only-of-type {\n",
       "        vertical-align: middle;\n",
       "    }\n",
       "\n",
       "    .dataframe tbody tr th {\n",
       "        vertical-align: top;\n",
       "    }\n",
       "\n",
       "    .dataframe thead th {\n",
       "        text-align: right;\n",
       "    }\n",
       "</style>\n",
       "<table border=\"1\" class=\"dataframe\">\n",
       "  <thead>\n",
       "    <tr style=\"text-align: right;\">\n",
       "      <th></th>\n",
       "      <th>Date</th>\n",
       "      <th>Code</th>\n",
       "      <th>R_D</th>\n",
       "      <th>Mark_Exp</th>\n",
       "      <th>NI</th>\n",
       "      <th>Rev</th>\n",
       "      <th>iphone</th>\n",
       "    </tr>\n",
       "  </thead>\n",
       "  <tbody>\n",
       "    <tr>\n",
       "      <th>80</th>\n",
       "      <td>2018-03-31</td>\n",
       "      <td>81</td>\n",
       "      <td>6759.0</td>\n",
       "      <td>2699.0</td>\n",
       "      <td>3939.0</td>\n",
       "      <td>193190.0</td>\n",
       "      <td>1</td>\n",
       "    </tr>\n",
       "    <tr>\n",
       "      <th>81</th>\n",
       "      <td>2018-06-30</td>\n",
       "      <td>82</td>\n",
       "      <td>7247.0</td>\n",
       "      <td>2901.0</td>\n",
       "      <td>6276.0</td>\n",
       "      <td>208120.0</td>\n",
       "      <td>1</td>\n",
       "    </tr>\n",
       "    <tr>\n",
       "      <th>82</th>\n",
       "      <td>2018-09-30</td>\n",
       "      <td>83</td>\n",
       "      <td>7162.0</td>\n",
       "      <td>3303.0</td>\n",
       "      <td>8903.0</td>\n",
       "      <td>220960.0</td>\n",
       "      <td>1</td>\n",
       "    </tr>\n",
       "    <tr>\n",
       "      <th>83</th>\n",
       "      <td>2018-12-31</td>\n",
       "      <td>84</td>\n",
       "      <td>7669.0</td>\n",
       "      <td>4912.0</td>\n",
       "      <td>10070.0</td>\n",
       "      <td>232890.0</td>\n",
       "      <td>1</td>\n",
       "    </tr>\n",
       "    <tr>\n",
       "      <th>84</th>\n",
       "      <td>2019-03-31</td>\n",
       "      <td>85</td>\n",
       "      <td>7927.0</td>\n",
       "      <td>3664.0</td>\n",
       "      <td>12000.0</td>\n",
       "      <td>241540.0</td>\n",
       "      <td>1</td>\n",
       "    </tr>\n",
       "  </tbody>\n",
       "</table>\n",
       "</div>"
      ],
      "text/plain": [
       "         Date  Code     R_D  Mark_Exp       NI       Rev  iphone\n",
       "80 2018-03-31    81  6759.0    2699.0   3939.0  193190.0       1\n",
       "81 2018-06-30    82  7247.0    2901.0   6276.0  208120.0       1\n",
       "82 2018-09-30    83  7162.0    3303.0   8903.0  220960.0       1\n",
       "83 2018-12-31    84  7669.0    4912.0  10070.0  232890.0       1\n",
       "84 2019-03-31    85  7927.0    3664.0  12000.0  241540.0       1"
      ]
     },
     "execution_count": 261,
     "metadata": {},
     "output_type": "execute_result"
    }
   ],
   "source": [
    "true_values.tail()"
   ]
  },
  {
   "cell_type": "code",
   "execution_count": 262,
   "metadata": {},
   "outputs": [],
   "source": [
    "true_values=true_values.iloc[80:]"
   ]
  },
  {
   "cell_type": "code",
   "execution_count": 263,
   "metadata": {},
   "outputs": [],
   "source": [
    "true_values=np.array(true_values.loc[:,'Rev'])"
   ]
  },
  {
   "cell_type": "code",
   "execution_count": 264,
   "metadata": {},
   "outputs": [
    {
     "data": {
      "text/plain": [
       "array([193190., 208120., 220960., 232890., 241540.])"
      ]
     },
     "execution_count": 264,
     "metadata": {},
     "output_type": "execute_result"
    }
   ],
   "source": [
    "true_values"
   ]
  },
  {
   "cell_type": "code",
   "execution_count": 265,
   "metadata": {},
   "outputs": [
    {
     "data": {
      "text/plain": [
       "array([167980.42215766, 198690.45947441, 228768.58984226, 271487.41507586,\n",
       "       317083.93810671])"
      ]
     },
     "execution_count": 265,
     "metadata": {},
     "output_type": "execute_result"
    }
   ],
   "source": [
    "Y_pred_log_final"
   ]
  },
  {
   "cell_type": "code",
   "execution_count": 266,
   "metadata": {},
   "outputs": [
    {
     "data": {
      "image/png": "[encoded data removed]",
      "text/plain": [
       "<Figure size 432x288 with 1 Axes>"
      ]
     },
     "metadata": {
      "needs_background": "light"
     },
     "output_type": "display_data"
    }
   ],
   "source": [
    "plt.plot(Y_pred_log_final, color='r', label='Predicted')\n",
    "plt.plot(true_values, color='b', label='Actual')\n",
    "plt.legend()\n",
    "plt.show()"
   ]
  },
  {
   "cell_type": "code",
   "execution_count": 267,
   "metadata": {},
   "outputs": [],
   "source": [
    "from sklearn.metrics import mean_squared_error\n",
    "from sklearn.metrics import mean_absolute_error\n"
   ]
  },
  {
   "cell_type": "code",
   "execution_count": 268,
   "metadata": {},
   "outputs": [
    {
     "name": "stdout",
     "output_type": "stream",
     "text": [
      "MSE: 1596412032.0094237\n"
     ]
    }
   ],
   "source": [
    "mse=mean_squared_error(true_values, Y_pred_log_final)\n",
    "print(\"MSE:\", mse)"
   ]
  },
  {
   "cell_type": "code",
   "execution_count": 269,
   "metadata": {},
   "outputs": [
    {
     "name": "stdout",
     "output_type": "stream",
     "text": [
      "MAPE: 31317.81227855557\n"
     ]
    }
   ],
   "source": [
    "mape=mean_absolute_error(true_values, Y_pred_log_final)\n",
    "print(\"MAPE:\", mape)"
   ]
  },
  {
   "cell_type": "code",
   "execution_count": null,
   "metadata": {},
   "outputs": [],
   "source": []
  }
 ],
 "metadata": {
  "kernelspec": {
   "display_name": "Python 3",
   "language": "python",
   "name": "python3"
  },
  "language_info": {
   "codemirror_mode": {
    "name": "ipython",
    "version": 3
   },
   "file_extension": ".py",
   "mimetype": "text/x-python",
   "name": "python",
   "nbconvert_exporter": "python",
   "pygments_lexer": "ipython3",
   "version": "3.7.1"
  }
 },
 "nbformat": 4,
 "nbformat_minor": 2
}
